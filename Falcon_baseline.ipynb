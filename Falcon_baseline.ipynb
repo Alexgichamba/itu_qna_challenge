{
  "cells": [
    {
      "cell_type": "markdown",
      "metadata": {
        "id": "g2CBfxmsw449"
      },
      "source": [
        "# Falcon Baseline (no RAG)"
      ]
    },
    {
      "cell_type": "code",
      "execution_count": 2,
      "metadata": {
        "id": "QDmRtxpbw45K"
      },
      "outputs": [],
      "source": [
        "import requests\n",
        "import json\n",
        "from tqdm import tqdm\n",
        "import csv\n",
        "import re\n",
        "url = 'https://a7tncd274b.execute-api.eu-west-3.amazonaws.com/InitialStage/Falcon7B'\n",
        "# Set the appropriate headers for a JSON payload\n",
        "headers = {\n",
        "    \"Content-Type\": \"application/json\"\n",
        "}"
      ]
    },
    {
      "cell_type": "code",
      "execution_count": 8,
      "metadata": {
        "id": "0cbzbVZIw45L"
      },
      "outputs": [],
      "source": [
        "def create_prompt(question, options):\n",
        "    options_text = \"\\n\".join([f\"Option {i+1}: {opt[1]}\" for i, opt in enumerate(options)])\n",
        "    # abbreviations is a list of dictionaries of form {\"abbreviation\": \"full form\"}\n",
        "    # abbreviations_text = \"\\n\".join([f\"{list(abbrev.keys())[0]}: {list(abbrev.values())[0]}\" for abbrev in abbreviations])\n",
        "    prompt = (\n",
        "        f\"Instruct: You will answer each question correctly by giving only the Option ID, the number that follows each Option.\\n\"\n",
        "        f\"The output should be in the format: Option <Option id>\\n\\n\"\n",
        "        f\"Provide the answer to the following multiple choice question in the specified format.\\n\"\n",
        "        # f\"Context:\\n{context}\\n\\n\"\n",
        "        # f\"Abbreviations:\\n{abbreviations_text}\\n\\n\"\n",
        "        f\"Question: {question}\\n\"\n",
        "        f\"Options:\\n{options_text}\\n\"\n",
        "        f\"Answer: Option\"\n",
        "    )\n",
        "    return prompt"
      ]
    },
    {
      "cell_type": "code",
      "execution_count": 9,
      "metadata": {
        "id": "S8ylbZghw45M"
      },
      "outputs": [],
      "source": [
        "def get_api_response(prompt):\n",
        "    data = {\n",
        "        \"inputs\": prompt,\n",
        "        \"parameters\": {\n",
        "            \"max_new_tokens\": 20,\n",
        "            \"return_full_text\": False,\n",
        "            \"do_sample\": False,\n",
        "            \"top_k\": 1,\n",
        "            \"stop\": [\"Answer: Option\"]\n",
        "        }\n",
        "    }\n",
        "    json_data = json.dumps(data)\n",
        "    try:\n",
        "        response = requests.post(url, data=json_data, headers=headers)\n",
        "        if response.status_code == 200:\n",
        "            return response.text\n",
        "        else:\n",
        "            return f\"Error: {response.status_code}\"\n",
        "    except Exception as e:\n",
        "        return f\"An error occurred: {e}\""
      ]
    },
    {
      "cell_type": "code",
      "execution_count": 10,
      "metadata": {
        "id": "FPViTzvZw45M"
      },
      "outputs": [],
      "source": [
        "# Read questions from the JSON file\n",
        "with open('data/TeleQnA_testing1.txt', 'r') as file1:\n",
        "  with open('data/questions_new.txt', 'r') as file2:\n",
        "    questions = json.load(file1)\n",
        "    # questions.update(json.load(file2))"
      ]
    },
    {
      "cell_type": "code",
      "execution_count": 11,
      "metadata": {
        "id": "4QwB7Amnyof9"
      },
      "outputs": [],
      "source": [
        "# questions = dict(list(questions.items())[1810:])"
      ]
    },
    {
      "cell_type": "code",
      "execution_count": 12,
      "metadata": {
        "colab": {
          "base_uri": "https://localhost:8080/"
        },
        "id": "KMmTEW2xw45O",
        "outputId": "634c19de-8471-44c8-b79e-ab46c52b5530"
      },
      "outputs": [
        {
          "name": "stderr",
          "output_type": "stream",
          "text": [
            "Processing questions:   0%|          | 1/366 [00:01<09:08,  1.50s/it]"
          ]
        },
        {
          "name": "stdout",
          "output_type": "stream",
          "text": [
            "\n",
            "Instruct: You will answer each question correctly by giving only the Option ID, the number that follows each Option.\n",
            "The output should be in the format: Option <Option id>\n",
            "\n",
            "Provide the answer to the following multiple choice question in the specified format.\n",
            "Question: When can a gNB transmit a DL transmission(s) on a channel after initiating a channel occupancy?\n",
            "Options:\n",
            "Option 1: e\n",
            "Option 2: f\n",
            "Option 3: o\n",
            "Option 4: o\n",
            "Answer: Option\n",
            " 2: f\n"
          ]
        },
        {
          "name": "stderr",
          "output_type": "stream",
          "text": [
            "Processing questions:   1%|          | 2/366 [00:01<05:21,  1.13it/s]"
          ]
        },
        {
          "name": "stdout",
          "output_type": "stream",
          "text": [
            "\n",
            "Instruct: You will answer each question correctly by giving only the Option ID, the number that follows each Option.\n",
            "The output should be in the format: Option <Option id>\n",
            "\n",
            "Provide the answer to the following multiple choice question in the specified format.\n",
            "Question: What does OTA REFSENS requirement ensure?\n",
            "Options:\n",
            "Option 1: h\n",
            "Option 2: h\n",
            "Option 3: h\n",
            "Option 4: h\n",
            "Option 5: h\n",
            "Answer: Option\n",
            " 1: h\n"
          ]
        },
        {
          "name": "stderr",
          "output_type": "stream",
          "text": [
            "Processing questions:   1%|          | 3/366 [00:02<03:57,  1.53it/s]"
          ]
        },
        {
          "name": "stdout",
          "output_type": "stream",
          "text": [
            "\n",
            "Instruct: You will answer each question correctly by giving only the Option ID, the number that follows each Option.\n",
            "The output should be in the format: Option <Option id>\n",
            "\n",
            "Provide the answer to the following multiple choice question in the specified format.\n",
            "Question: What is the role of MDA MnS producer in the management function?\n",
            "Options:\n",
            "Option 1: r\n",
            "Option 2: o\n",
            "Option 3: r\n",
            "Option 4: o\n",
            "Option 5: r\n",
            "Answer: Option\n",
            " 1\n"
          ]
        },
        {
          "name": "stderr",
          "output_type": "stream",
          "text": [
            "Processing questions:   1%|          | 4/366 [00:02<03:31,  1.71it/s]"
          ]
        },
        {
          "name": "stdout",
          "output_type": "stream",
          "text": [
            "\n",
            "Instruct: You will answer each question correctly by giving only the Option ID, the number that follows each Option.\n",
            "The output should be in the format: Option <Option id>\n",
            "\n",
            "Provide the answer to the following multiple choice question in the specified format.\n",
            "Question: What type of subcarrier spacing requirements does an NB-IoT Base Station support?\n",
            "Options:\n",
            "Option 1: 5\n",
            "Option 2: .\n",
            "Option 3: o\n",
            "Option 4: o\n",
            "Answer: Option\n",
            " 2:.\n"
          ]
        },
        {
          "name": "stderr",
          "output_type": "stream",
          "text": [
            "Processing questions:   1%|▏         | 5/366 [00:03<03:03,  1.96it/s]"
          ]
        },
        {
          "name": "stdout",
          "output_type": "stream",
          "text": [
            "\n",
            "Instruct: You will answer each question correctly by giving only the Option ID, the number that follows each Option.\n",
            "The output should be in the format: Option <Option id>\n",
            "\n",
            "Provide the answer to the following multiple choice question in the specified format.\n",
            "Question: What is the purpose of the IAB-node OAM procedure?\n",
            "Options:\n",
            "Option 1: o\n",
            "Option 2: o\n",
            "Option 3: o\n",
            "Option 4: o\n",
            "Answer: Option\n",
            " 1\n"
          ]
        },
        {
          "name": "stderr",
          "output_type": "stream",
          "text": [
            "Processing questions:   2%|▏         | 6/366 [00:03<02:46,  2.16it/s]"
          ]
        },
        {
          "name": "stdout",
          "output_type": "stream",
          "text": [
            "\n",
            "Instruct: You will answer each question correctly by giving only the Option ID, the number that follows each Option.\n",
            "The output should be in the format: Option <Option id>\n",
            "\n",
            "Provide the answer to the following multiple choice question in the specified format.\n",
            "Question: What is the purpose of the Control Plane Protocol Stack for the service-based interface?\n",
            "Options:\n",
            "Option 1: o\n",
            "Option 2: o\n",
            "Option 3: o\n",
            "Option 4: o\n",
            "Option 5: o\n",
            "Answer: Option\n",
            " 1\n"
          ]
        },
        {
          "name": "stderr",
          "output_type": "stream",
          "text": [
            "Processing questions:   2%|▏         | 7/366 [00:03<02:36,  2.30it/s]"
          ]
        },
        {
          "name": "stdout",
          "output_type": "stream",
          "text": [
            "\n",
            "Instruct: You will answer each question correctly by giving only the Option ID, the number that follows each Option.\n",
            "The output should be in the format: Option <Option id>\n",
            "\n",
            "Provide the answer to the following multiple choice question in the specified format.\n",
            "Question: What is the purpose of the Diameter Load Control Mechanism?\n",
            "Options:\n",
            "Option 1: o\n",
            "Option 2: o\n",
            "Option 3: o\n",
            "Option 4: l\n",
            "Option 5: o\n",
            "Answer: Option\n",
            " 1\n"
          ]
        },
        {
          "name": "stderr",
          "output_type": "stream",
          "text": [
            "Processing questions:   2%|▏         | 8/366 [00:04<03:13,  1.85it/s]"
          ]
        },
        {
          "name": "stdout",
          "output_type": "stream",
          "text": [
            "\n",
            "Instruct: You will answer each question correctly by giving only the Option ID, the number that follows each Option.\n",
            "The output should be in the format: Option <Option id>\n",
            "\n",
            "Provide the answer to the following multiple choice question in the specified format.\n",
            "Question: What message does the AMF send to the NG-RAN during mobility registration, AM policy modification, and handover procedures?\n",
            "Options:\n",
            "Option 1: G\n",
            "Option 2: u\n",
            "Option 3: l\n",
            "Option 4: E\n",
            "Option 5: 2\n",
            "Answer: Option\n",
            " 2\n"
          ]
        },
        {
          "name": "stderr",
          "output_type": "stream",
          "text": [
            "\n"
          ]
        },
        {
          "ename": "IndexError",
          "evalue": "string index out of range",
          "output_type": "error",
          "traceback": [
            "\u001b[0;31m---------------------------------------------------------------------------\u001b[0m",
            "\u001b[0;31mIndexError\u001b[0m                                Traceback (most recent call last)",
            "Cell \u001b[0;32mIn[12], line 9\u001b[0m\n\u001b[1;32m      7\u001b[0m question_text \u001b[38;5;241m=\u001b[39m re\u001b[38;5;241m.\u001b[39msub(\u001b[38;5;124mr\u001b[39m\u001b[38;5;124m'\u001b[39m\u001b[38;5;124m\\\u001b[39m\u001b[38;5;124ms*\u001b[39m\u001b[38;5;124m\\\u001b[39m\u001b[38;5;124m[.*?\u001b[39m\u001b[38;5;124m\\\u001b[39m\u001b[38;5;124m]\u001b[39m\u001b[38;5;124m\\\u001b[39m\u001b[38;5;124ms*$\u001b[39m\u001b[38;5;124m'\u001b[39m, \u001b[38;5;124m'\u001b[39m\u001b[38;5;124m'\u001b[39m, question_text) \u001b[38;5;66;03m# remove tags\u001b[39;00m\n\u001b[1;32m      8\u001b[0m options \u001b[38;5;241m=\u001b[39m [v \u001b[38;5;28;01mfor\u001b[39;00m k, v \u001b[38;5;129;01min\u001b[39;00m q_data\u001b[38;5;241m.\u001b[39mitems() \u001b[38;5;28;01mif\u001b[39;00m k\u001b[38;5;241m.\u001b[39mstartswith(\u001b[38;5;124m\"\u001b[39m\u001b[38;5;124moption\u001b[39m\u001b[38;5;124m\"\u001b[39m)]\n\u001b[0;32m----> 9\u001b[0m prompt \u001b[38;5;241m=\u001b[39m \u001b[43mcreate_prompt\u001b[49m\u001b[43m(\u001b[49m\u001b[43mquestion_text\u001b[49m\u001b[43m,\u001b[49m\u001b[43m \u001b[49m\u001b[43moptions\u001b[49m\u001b[43m)\u001b[49m\n\u001b[1;32m     10\u001b[0m response \u001b[38;5;241m=\u001b[39m get_api_response(prompt)\n\u001b[1;32m     11\u001b[0m response \u001b[38;5;241m=\u001b[39m json\u001b[38;5;241m.\u001b[39mloads(json\u001b[38;5;241m.\u001b[39mloads(response)[\u001b[38;5;124m\"\u001b[39m\u001b[38;5;124mbody\u001b[39m\u001b[38;5;124m\"\u001b[39m])[\u001b[38;5;241m0\u001b[39m][\u001b[38;5;124m\"\u001b[39m\u001b[38;5;124mgenerated_text\u001b[39m\u001b[38;5;124m\"\u001b[39m]\n",
            "Cell \u001b[0;32mIn[8], line 2\u001b[0m, in \u001b[0;36mcreate_prompt\u001b[0;34m(question, options)\u001b[0m\n\u001b[1;32m      1\u001b[0m \u001b[38;5;28;01mdef\u001b[39;00m \u001b[38;5;21mcreate_prompt\u001b[39m(question, options):\n\u001b[0;32m----> 2\u001b[0m     options_text \u001b[38;5;241m=\u001b[39m \u001b[38;5;124m\"\u001b[39m\u001b[38;5;130;01m\\n\u001b[39;00m\u001b[38;5;124m\"\u001b[39m\u001b[38;5;241m.\u001b[39mjoin([\u001b[38;5;124mf\u001b[39m\u001b[38;5;124m\"\u001b[39m\u001b[38;5;124mOption \u001b[39m\u001b[38;5;132;01m{\u001b[39;00mi\u001b[38;5;241m+\u001b[39m\u001b[38;5;241m1\u001b[39m\u001b[38;5;132;01m}\u001b[39;00m\u001b[38;5;124m: \u001b[39m\u001b[38;5;132;01m{\u001b[39;00mopt[\u001b[38;5;241m1\u001b[39m]\u001b[38;5;132;01m}\u001b[39;00m\u001b[38;5;124m\"\u001b[39m \u001b[38;5;28;01mfor\u001b[39;00m i, opt \u001b[38;5;129;01min\u001b[39;00m \u001b[38;5;28menumerate\u001b[39m(options)])\n\u001b[1;32m      3\u001b[0m     \u001b[38;5;66;03m# abbreviations is a list of dictionaries of form {\"abbreviation\": \"full form\"}\u001b[39;00m\n\u001b[1;32m      4\u001b[0m     \u001b[38;5;66;03m# abbreviations_text = \"\\n\".join([f\"{list(abbrev.keys())[0]}: {list(abbrev.values())[0]}\" for abbrev in abbreviations])\u001b[39;00m\n\u001b[1;32m      5\u001b[0m     prompt \u001b[38;5;241m=\u001b[39m (\n\u001b[1;32m      6\u001b[0m         \u001b[38;5;124mf\u001b[39m\u001b[38;5;124m\"\u001b[39m\u001b[38;5;124mInstruct: You will answer each question correctly by giving only the Option ID, the number that follows each Option.\u001b[39m\u001b[38;5;130;01m\\n\u001b[39;00m\u001b[38;5;124m\"\u001b[39m\n\u001b[1;32m      7\u001b[0m         \u001b[38;5;124mf\u001b[39m\u001b[38;5;124m\"\u001b[39m\u001b[38;5;124mThe output should be in the format: Option <Option id>\u001b[39m\u001b[38;5;130;01m\\n\u001b[39;00m\u001b[38;5;130;01m\\n\u001b[39;00m\u001b[38;5;124m\"\u001b[39m\n\u001b[0;32m   (...)\u001b[0m\n\u001b[1;32m     13\u001b[0m         \u001b[38;5;124mf\u001b[39m\u001b[38;5;124m\"\u001b[39m\u001b[38;5;124mAnswer: Option\u001b[39m\u001b[38;5;124m\"\u001b[39m\n\u001b[1;32m     14\u001b[0m     )\n",
            "Cell \u001b[0;32mIn[8], line 2\u001b[0m, in \u001b[0;36m<listcomp>\u001b[0;34m(.0)\u001b[0m\n\u001b[1;32m      1\u001b[0m \u001b[38;5;28;01mdef\u001b[39;00m \u001b[38;5;21mcreate_prompt\u001b[39m(question, options):\n\u001b[0;32m----> 2\u001b[0m     options_text \u001b[38;5;241m=\u001b[39m \u001b[38;5;124m\"\u001b[39m\u001b[38;5;130;01m\\n\u001b[39;00m\u001b[38;5;124m\"\u001b[39m\u001b[38;5;241m.\u001b[39mjoin([\u001b[38;5;124mf\u001b[39m\u001b[38;5;124m\"\u001b[39m\u001b[38;5;124mOption \u001b[39m\u001b[38;5;132;01m{\u001b[39;00mi\u001b[38;5;241m+\u001b[39m\u001b[38;5;241m1\u001b[39m\u001b[38;5;132;01m}\u001b[39;00m\u001b[38;5;124m: \u001b[39m\u001b[38;5;132;01m{\u001b[39;00m\u001b[43mopt\u001b[49m\u001b[43m[\u001b[49m\u001b[38;5;241;43m1\u001b[39;49m\u001b[43m]\u001b[49m\u001b[38;5;132;01m}\u001b[39;00m\u001b[38;5;124m\"\u001b[39m \u001b[38;5;28;01mfor\u001b[39;00m i, opt \u001b[38;5;129;01min\u001b[39;00m \u001b[38;5;28menumerate\u001b[39m(options)])\n\u001b[1;32m      3\u001b[0m     \u001b[38;5;66;03m# abbreviations is a list of dictionaries of form {\"abbreviation\": \"full form\"}\u001b[39;00m\n\u001b[1;32m      4\u001b[0m     \u001b[38;5;66;03m# abbreviations_text = \"\\n\".join([f\"{list(abbrev.keys())[0]}: {list(abbrev.values())[0]}\" for abbrev in abbreviations])\u001b[39;00m\n\u001b[1;32m      5\u001b[0m     prompt \u001b[38;5;241m=\u001b[39m (\n\u001b[1;32m      6\u001b[0m         \u001b[38;5;124mf\u001b[39m\u001b[38;5;124m\"\u001b[39m\u001b[38;5;124mInstruct: You will answer each question correctly by giving only the Option ID, the number that follows each Option.\u001b[39m\u001b[38;5;130;01m\\n\u001b[39;00m\u001b[38;5;124m\"\u001b[39m\n\u001b[1;32m      7\u001b[0m         \u001b[38;5;124mf\u001b[39m\u001b[38;5;124m\"\u001b[39m\u001b[38;5;124mThe output should be in the format: Option <Option id>\u001b[39m\u001b[38;5;130;01m\\n\u001b[39;00m\u001b[38;5;130;01m\\n\u001b[39;00m\u001b[38;5;124m\"\u001b[39m\n\u001b[0;32m   (...)\u001b[0m\n\u001b[1;32m     13\u001b[0m         \u001b[38;5;124mf\u001b[39m\u001b[38;5;124m\"\u001b[39m\u001b[38;5;124mAnswer: Option\u001b[39m\u001b[38;5;124m\"\u001b[39m\n\u001b[1;32m     14\u001b[0m     )\n",
            "\u001b[0;31mIndexError\u001b[0m: string index out of range"
          ]
        }
      ],
      "source": [
        "responses = []\n",
        "\n",
        "# Loop through each question and get the response\n",
        "for q_id, q_data in tqdm(questions.items(), desc=\"Processing questions\"):\n",
        "    q_id_number = q_id.split()[1]\n",
        "    question_text = q_data[\"question\"]\n",
        "    question_text = re.sub(r'\\s*\\[.*?\\]\\s*$', '', question_text) # remove tags\n",
        "    options = [v for k, v in q_data.items() if k.startswith(\"option\")]\n",
        "    prompt = create_prompt(question_text, options)\n",
        "    response = get_api_response(prompt)\n",
        "    response = json.loads(json.loads(response)[\"body\"])[0][\"generated_text\"]\n",
        "    print(f\"\\n{prompt}\\n{response}\")\n",
        "\n",
        "    # Create a mapping of letters to numbers\n",
        "    # letter_to_number = {chr(65 + i): i + 1 for i in range(26)}\n",
        "\n",
        "    # get the first number\n",
        "    match = re.search(r'(\\d+)', response)\n",
        "    if match:\n",
        "        try:\n",
        "            answer_id = int(match.group(1))\n",
        "            responses.append([q_id_number, answer_id, \"Falcon 7.5B\"])\n",
        "        except ValueError:\n",
        "            responses.append([q_id_number, \"Error\", \"Falcon 7.5B\"])\n",
        "            print(f\"Error processing question {q_id_number}: {response}\")\n",
        "            break\n",
        "\n",
        "    else:\n",
        "        # Check if the response is one of the options\n",
        "        option_found = False\n",
        "        for idx, option in enumerate(options):\n",
        "            if option in response:\n",
        "                print(f\"Matched option in response: {option} to {idx}\")\n",
        "                responses.append([q_id_number, idx + 1, \"Falcon 7.5B\"])\n",
        "                option_found = True\n",
        "                break\n",
        "\n",
        "        if not option_found:\n",
        "            responses.append([q_id_number, \"Error\", \"Falcon 7.5B\"])\n",
        "            print(f\"Error processing question {q_id_number}: {response}\")\n",
        "            break\n",
        "\n",
        "# Save responses to a CSV file\n",
        "with open('output_results.csv', 'w', newline='') as csvfile:\n",
        "    csvwriter = csv.writer(csvfile)\n",
        "    csvwriter.writerow([\"Question_ID\", \"Answer_ID\", \"Task\"])\n",
        "    csvwriter.writerows(responses)\n",
        "\n",
        "print(\"Processing complete. Responses saved to 'output_results.csv'.\")"
      ]
    },
    {
      "cell_type": "code",
      "execution_count": null,
      "metadata": {
        "id": "p7jNr7o1yt4u"
      },
      "outputs": [],
      "source": []
    }
  ],
  "metadata": {
    "colab": {
      "provenance": []
    },
    "kernelspec": {
      "display_name": "base",
      "language": "python",
      "name": "python3"
    },
    "language_info": {
      "codemirror_mode": {
        "name": "ipython",
        "version": 3
      },
      "file_extension": ".py",
      "mimetype": "text/x-python",
      "name": "python",
      "nbconvert_exporter": "python",
      "pygments_lexer": "ipython3",
      "version": "3.10.13"
    }
  },
  "nbformat": 4,
  "nbformat_minor": 0
}
