{
  "cells": [
    {
      "cell_type": "code",
      "execution_count": null,
      "metadata": {
        "id": "mWxf1kEwBI2X"
      },
      "outputs": [],
      "source": [
        "from llama_index.core import SimpleDirectoryReader\n",
        "documents = SimpleDirectoryReader(\"data/rel18\").load_data()"
      ]
    },
    {
      "cell_type": "code",
      "execution_count": null,
      "metadata": {
        "id": "NX4mMimbEwKL"
      },
      "outputs": [],
      "source": [
        "docs_str = []\n",
        "for doc in documents:\n",
        "  docs_str.append(doc.text)"
      ]
    },
    {
      "cell_type": "markdown",
      "metadata": {
        "id": "hmE5imB1BPQf"
      },
      "source": [
        "### Indexing"
      ]
    },
    {
      "cell_type": "code",
      "execution_count": null,
      "metadata": {
        "id": "meIQrT0CEqqP"
      },
      "outputs": [],
      "source": [
        "len(docs_str)"
      ]
    },
    {
      "cell_type": "code",
      "execution_count": null,
      "metadata": {
        "id": "f4K3s5zwBOWq"
      },
      "outputs": [],
      "source": [
        "from ragatouille import RAGPretrainedModel\n",
        "RAG = RAGPretrainedModel.from_pretrained(\"colbert-ir/colbertv2.0\")\n",
        "RAG.index(\n",
        "    collection=docs_str,\n",
        "    index_name=\"ITU RAG 150\",\n",
        "    max_document_length=150,\n",
        "    split_documents=True,\n",
        ")"
      ]
    },
    {
      "cell_type": "code",
      "execution_count": null,
      "metadata": {
        "id": "QCy1mJFeEnZx"
      },
      "outputs": [],
      "source": [
        "results = RAG.search(query=\"What does the UE provide to the AS for slice aware cell reselection?\", k=7)\n",
        "results"
      ]
    },
    {
      "cell_type": "code",
      "execution_count": null,
      "metadata": {
        "id": "cAEVqbUwOqAf"
      },
      "outputs": [],
      "source": [
        "from peft import PeftModel, PeftConfig\n",
        "from transformers import AutoModelForCausalLM, AutoTokenizer\n",
        "\n",
        "config = PeftConfig.from_pretrained(\"alexgichamba/phi-2-finetuned-qa-lora-r32-a16_notag\")\n",
        "base_model = AutoModelForCausalLM.from_pretrained(\"microsoft/phi-2\").to('cuda')\n",
        "model = PeftModel.from_pretrained(base_model, \"alexgichamba/phi-2-finetuned-qa-lora-r32-a16_notag\").to('cuda')\n",
        "tokenizer = AutoTokenizer.from_pretrained(\"microsoft/phi-2\")"
      ]
    },
    {
      "cell_type": "code",
      "execution_count": null,
      "metadata": {
        "id": "icNQHFtrZX6z"
      },
      "outputs": [],
      "source": [
        "import json\n",
        "# Read questions from the JSON file\n",
        "with open('data/366qs.txt', 'r') as file1:\n",
        "  with open('data/questions_new.txt', 'r') as file2:\n",
        "    questions = json.load(file1)\n",
        "    # questions.update(json.load(file2))"
      ]
    },
    {
      "cell_type": "code",
      "execution_count": null,
      "metadata": {},
      "outputs": [],
      "source": [
        "len(questions)"
      ]
    },
    {
      "cell_type": "code",
      "execution_count": null,
      "metadata": {
        "id": "lGRcaU1imf7G"
      },
      "outputs": [],
      "source": [
        "first_key = next(iter(questions))\n",
        "first_value = questions[first_key]\n",
        "first_value"
      ]
    },
    {
      "cell_type": "code",
      "execution_count": null,
      "metadata": {
        "id": "thTVfSHBnL1-"
      },
      "outputs": [],
      "source": [
        "options = [(k, v) for k, v in first_value.items() if k.startswith(\"option\")]\n",
        "options"
      ]
    },
    {
      "cell_type": "code",
      "execution_count": null,
      "metadata": {
        "id": "hYMHsnlAomDc"
      },
      "outputs": [],
      "source": [
        "res = RAG.search(query=first_value['question'])\n",
        "len(res)"
      ]
    },
    {
      "cell_type": "code",
      "execution_count": null,
      "metadata": {},
      "outputs": [],
      "source": [
        "type(first_value)"
      ]
    },
    {
      "cell_type": "code",
      "execution_count": null,
      "metadata": {
        "id": "dCKsjWaYEF1H"
      },
      "outputs": [],
      "source": [
        "def create_prompt(question, options, context, abbreviations):\n",
        "    options_text = \"\\n\".join([f\"Option {i+1}: {opt[1]}\" for i, opt in enumerate(options)])\n",
        "    # abbreviations is a list of dictionaries of form {\"abbreviation\": \"full form\"}\n",
        "    abbreviations_text = \"\\n\".join([f\"{list(abbrev.keys())[0]}: {list(abbrev.values())[0]}\" for abbrev in abbreviations])\n",
        "    prompt = (\n",
        "        f\"Instruct: You will answer each question correctly by giving only the Option ID, the number that follows each Option.\\n\"\n",
        "        f\"The output should be in the format: Option <Option id>\\n\"\n",
        "        f\"Provide the answer to the following multiple choice question in the specified format.\\n\\n\"\n",
        "        f\"Context:\\n{context}\\n\\n\"\n",
        "        f\"Abbreviations:\\n{abbreviations_text}\\n\\n\"\n",
        "        f\"Question: {question}\\n\"\n",
        "        f\"Options:\\n{options_text}\\n\"\n",
        "        f\"Answer: Option\"\n",
        "    )\n",
        "    return prompt"
      ]
    },
    {
      "cell_type": "code",
      "execution_count": null,
      "metadata": {
        "id": "wgh1xsqqmbRY"
      },
      "outputs": [],
      "source": [
        "def generate_answer(question, options, context, abbreviations, model, tokenizer):\n",
        "    prompt = create_prompt(question, options, context, abbreviations)\n",
        "    input_ids = tokenizer.encode(prompt, return_tensors='pt').to('cuda')\n",
        "\n",
        "    # Ensure the pad token is set\n",
        "    if tokenizer.pad_token_id is None:\n",
        "        tokenizer.pad_token_id = tokenizer.eos_token_id\n",
        "\n",
        "    attention_mask = input_ids.ne(tokenizer.pad_token_id).long().to('cuda')  # Set attention mask\n",
        "\n",
        "    # Generate the answer with appropriate parameters\n",
        "    outputs = model.generate(\n",
        "        input_ids,\n",
        "        attention_mask=attention_mask,\n",
        "        max_new_tokens=10,  # Limit the number of new tokens generated\n",
        "        pad_token_id=tokenizer.eos_token_id,  # Handle padding correctly\n",
        "        num_beams=1,  # Use beam search to improve quality of generated answers\n",
        "        early_stopping=True  # Stop early when enough beams have reached EOS\n",
        "    )\n",
        "    answer = tokenizer.decode(outputs[0][input_ids.shape[1]:], skip_special_tokens=True)\n",
        "    # print(f\"RESPONSE - {answer[900:]}\")\n",
        "    # print(\"-------------------------------------------\")\n",
        "    print(f\"Generated answer: {answer}\")\n",
        "    return answer\n"
      ]
    },
    {
      "cell_type": "code",
      "execution_count": null,
      "metadata": {},
      "outputs": [],
      "source": [
        "from data.prepare_docs import find_appearing_abbreviations\n",
        "print(find_appearing_abbreviations(first_value))\n",
        "type(find_appearing_abbreviations(first_value))"
      ]
    },
    {
      "cell_type": "code",
      "execution_count": null,
      "metadata": {
        "id": "TPt0i4jZmc9D"
      },
      "outputs": [],
      "source": [
        "ans = generate_answer(first_value['question'], options, \" \".join([result['content'] for result in results]), find_appearing_abbreviations(first_value), model, tokenizer)\n",
        "print(ans)"
      ]
    },
    {
      "cell_type": "code",
      "execution_count": null,
      "metadata": {
        "id": "Qc7xSkWcsU_8"
      },
      "outputs": [],
      "source": [
        "import re\n",
        "# First search for the full pattern\n",
        "def parse_answer(response):\n",
        "  match = re.search(r'Answer:\\s*Option\\s*(\\d+)', response, re.IGNORECASE)\n",
        "  if match:\n",
        "      answer = f\"Option {match.group(1)}\"\n",
        "  else:\n",
        "      # Try another pattern if the first one fails\n",
        "      match = re.search(r'(\\d+)', response, re.IGNORECASE)\n",
        "      if match:\n",
        "          answer = f\"Option {match.group(1)}\"\n",
        "      else:\n",
        "          answer = \"Error\"\n",
        "  return answer\n"
      ]
    },
    {
      "cell_type": "code",
      "execution_count": 54,
      "metadata": {
        "id": "AMQbWBHCPd-x"
      },
      "outputs": [
        {
          "name": "stderr",
          "output_type": "stream",
          "text": [
            "Processing questions:   0%|          | 1/366 [00:00<05:54,  1.03it/s]"
          ]
        },
        {
          "name": "stdout",
          "output_type": "stream",
          "text": [
            "Generated answer:  2: If the gap between the DL transmission(\n",
            "Answer ID: 2\n"
          ]
        },
        {
          "name": "stderr",
          "output_type": "stream",
          "text": [
            "Processing questions:   1%|          | 2/366 [00:01<05:53,  1.03it/s]"
          ]
        },
        {
          "name": "stdout",
          "output_type": "stream",
          "text": [
            "Generated answer:  5: The minimum mean power received at the R\n",
            "Answer ID: 5\n"
          ]
        },
        {
          "name": "stderr",
          "output_type": "stream",
          "text": [
            "Processing questions:   1%|          | 3/366 [00:02<05:47,  1.05it/s]"
          ]
        },
        {
          "name": "stdout",
          "output_type": "stream",
          "text": [
            "Generated answer:  3: Producer of MDA reports\n",
            "Explan\n",
            "Answer ID: 3\n"
          ]
        },
        {
          "name": "stderr",
          "output_type": "stream",
          "text": [
            "Processing questions:   1%|          | 4/366 [00:03<05:52,  1.03it/s]"
          ]
        },
        {
          "name": "stdout",
          "output_type": "stream",
          "text": [
            "Generated answer:  3: Both 15 kHz and 3.75 kHz\n",
            "Answer ID: 3\n"
          ]
        },
        {
          "name": "stderr",
          "output_type": "stream",
          "text": [
            "Processing questions:   1%|▏         | 5/366 [00:04<05:58,  1.01it/s]"
          ]
        },
        {
          "name": "stdout",
          "output_type": "stream",
          "text": [
            "Generated answer:  4: To exchange commands, configuration data, and\n",
            "Answer ID: 4\n"
          ]
        },
        {
          "name": "stderr",
          "output_type": "stream",
          "text": [
            "Processing questions:   2%|▏         | 6/366 [00:05<05:54,  1.02it/s]"
          ]
        },
        {
          "name": "stdout",
          "output_type": "stream",
          "text": [
            "Generated answer:  3: To manage service-based interfaces in the\n",
            "Answer ID: 3\n"
          ]
        },
        {
          "name": "stderr",
          "output_type": "stream",
          "text": [
            "Processing questions:   2%|▏         | 7/366 [00:06<05:48,  1.03it/s]"
          ]
        },
        {
          "name": "stdout",
          "output_type": "stream",
          "text": [
            "Generated answer:  4: All of the above\n",
            "Explanation\n",
            "Answer ID: 4\n"
          ]
        },
        {
          "name": "stderr",
          "output_type": "stream",
          "text": [
            "Processing questions:   2%|▏         | 8/366 [00:07<05:46,  1.03it/s]"
          ]
        },
        {
          "name": "stdout",
          "output_type": "stream",
          "text": [
            "Generated answer:  1: 5G access stratum time distribution indication\n",
            "Answer ID: 1\n"
          ]
        },
        {
          "name": "stderr",
          "output_type": "stream",
          "text": [
            "Processing questions:   2%|▏         | 9/366 [00:08<05:44,  1.04it/s]"
          ]
        },
        {
          "name": "stdout",
          "output_type": "stream",
          "text": [
            "Generated answer:  1: 1\n",
            "Explanation: In the\n",
            "Answer ID: 1\n"
          ]
        },
        {
          "name": "stderr",
          "output_type": "stream",
          "text": [
            "Processing questions:   3%|▎         | 10/366 [00:09<05:43,  1.04it/s]"
          ]
        },
        {
          "name": "stdout",
          "output_type": "stream",
          "text": [
            "Generated answer:  4: To map the vector fields of the array\n",
            "Answer ID: 4\n"
          ]
        },
        {
          "name": "stderr",
          "output_type": "stream",
          "text": [
            "Processing questions:   3%|▎         | 11/366 [00:10<05:45,  1.03it/s]"
          ]
        },
        {
          "name": "stdout",
          "output_type": "stream",
          "text": [
            "Generated answer:  1: One or more EEC(s)\n",
            "Answer ID: 1\n"
          ]
        },
        {
          "name": "stderr",
          "output_type": "stream",
          "text": [
            "Processing questions:   3%|▎         | 12/366 [00:11<05:46,  1.02it/s]"
          ]
        },
        {
          "name": "stdout",
          "output_type": "stream",
          "text": [
            "Generated answer:  3: Power control\n",
            "Explanation: Cell\n",
            "Answer ID: 3\n"
          ]
        },
        {
          "name": "stderr",
          "output_type": "stream",
          "text": [
            "Processing questions:   4%|▎         | 13/366 [00:12<05:29,  1.07it/s]"
          ]
        },
        {
          "name": "stdout",
          "output_type": "stream",
          "text": [
            "Generated answer:  1: 95% of the maximum throughput of the\n",
            "Answer ID: 1\n"
          ]
        },
        {
          "name": "stderr",
          "output_type": "stream",
          "text": [
            "Processing questions:   4%|▍         | 14/366 [00:13<05:39,  1.04it/s]"
          ]
        },
        {
          "name": "stdout",
          "output_type": "stream",
          "text": [
            "Generated answer:  3: The NR RRC information used by the\n",
            "Answer ID: 3\n"
          ]
        },
        {
          "name": "stderr",
          "output_type": "stream",
          "text": [
            "Processing questions:   4%|▍         | 15/366 [00:14<05:43,  1.02it/s]"
          ]
        },
        {
          "name": "stdout",
          "output_type": "stream",
          "text": [
            "Generated answer:  3: 15\n",
            "Explanation: The output\n",
            "Answer ID: 3\n"
          ]
        },
        {
          "name": "stderr",
          "output_type": "stream",
          "text": [
            "Processing questions:   4%|▍         | 16/366 [00:15<05:42,  1.02it/s]"
          ]
        },
        {
          "name": "stdout",
          "output_type": "stream",
          "text": [
            "Generated answer:  2: To reduce the number of PC1 TR\n",
            "Answer ID: 2\n"
          ]
        },
        {
          "name": "stderr",
          "output_type": "stream",
          "text": [
            "Processing questions:   5%|▍         | 17/366 [00:16<05:40,  1.03it/s]"
          ]
        },
        {
          "name": "stdout",
          "output_type": "stream",
          "text": [
            "Generated answer:  3: It should be trained, validated, and\n",
            "Answer ID: 3\n"
          ]
        },
        {
          "name": "stderr",
          "output_type": "stream",
          "text": [
            "Processing questions:   5%|▍         | 18/366 [00:17<05:36,  1.03it/s]"
          ]
        },
        {
          "name": "stdout",
          "output_type": "stream",
          "text": [
            "Generated answer:  2: To support interoperability between the interface and\n",
            "Answer ID: 2\n"
          ]
        },
        {
          "name": "stderr",
          "output_type": "stream",
          "text": [
            "Processing questions:   5%|▌         | 19/366 [00:18<05:37,  1.03it/s]"
          ]
        },
        {
          "name": "stdout",
          "output_type": "stream",
          "text": [
            "Generated answer:  1: V2XARC\n",
            "Explanation\n",
            "Answer ID: 1\n"
          ]
        },
        {
          "name": "stderr",
          "output_type": "stream",
          "text": [
            "Processing questions:   5%|▌         | 20/366 [00:19<05:36,  1.03it/s]"
          ]
        },
        {
          "name": "stdout",
          "output_type": "stream",
          "text": [
            "Generated answer:  1: \"Calling Party Pays\" charging principle\n",
            "Answer ID: 1\n"
          ]
        },
        {
          "name": "stderr",
          "output_type": "stream",
          "text": [
            "Processing questions:   6%|▌         | 21/366 [00:20<05:40,  1.01it/s]"
          ]
        },
        {
          "name": "stdout",
          "output_type": "stream",
          "text": [
            "Generated answer:  1: To provide Service Based Interface (SBI\n",
            "Answer ID: 1\n"
          ]
        },
        {
          "name": "stderr",
          "output_type": "stream",
          "text": [
            "Processing questions:   6%|▌         | 22/366 [00:21<05:50,  1.02s/it]"
          ]
        },
        {
          "name": "stdout",
          "output_type": "stream",
          "text": [
            "Generated answer:  2: To enable the 3GPP system to\n",
            "Answer ID: 2\n"
          ]
        },
        {
          "name": "stderr",
          "output_type": "stream",
          "text": [
            "Processing questions:   6%|▋         | 23/366 [00:22<05:48,  1.02s/it]"
          ]
        },
        {
          "name": "stdout",
          "output_type": "stream",
          "text": [
            "Generated answer:  4: All of the above\n",
            "Explanation\n",
            "Answer ID: 4\n"
          ]
        },
        {
          "name": "stderr",
          "output_type": "stream",
          "text": [
            "Processing questions:   7%|▋         | 24/366 [00:23<05:46,  1.01s/it]"
          ]
        },
        {
          "name": "stdout",
          "output_type": "stream",
          "text": [
            "Generated answer:  2: SUPI\n",
            "Explanation: The\n",
            "Answer ID: 2\n"
          ]
        },
        {
          "name": "stderr",
          "output_type": "stream",
          "text": [
            "Processing questions:   7%|▋         | 25/366 [00:24<05:40,  1.00it/s]"
          ]
        },
        {
          "name": "stdout",
          "output_type": "stream",
          "text": [
            "Generated answer:  3: Very high traffic densities of devices\n",
            "\n",
            "Answer ID: 3\n"
          ]
        },
        {
          "name": "stderr",
          "output_type": "stream",
          "text": [
            "Processing questions:   7%|▋         | 26/366 [00:25<05:35,  1.01it/s]"
          ]
        },
        {
          "name": "stdout",
          "output_type": "stream",
          "text": [
            "Generated answer:  3: Both option 1 and option 2\n",
            "Ex\n",
            "Answer ID: 3\n"
          ]
        },
        {
          "name": "stderr",
          "output_type": "stream",
          "text": [
            "Processing questions:   7%|▋         | 27/366 [00:26<05:37,  1.00it/s]"
          ]
        },
        {
          "name": "stdout",
          "output_type": "stream",
          "text": [
            "Generated answer:  3: Accessible formats and regulatory mandates\n",
            "Ex\n",
            "Answer ID: 3\n"
          ]
        },
        {
          "name": "stderr",
          "output_type": "stream",
          "text": [
            "Processing questions:   8%|▊         | 28/366 [00:27<05:32,  1.02it/s]"
          ]
        },
        {
          "name": "stdout",
          "output_type": "stream",
          "text": [
            "Generated answer:  4: Relative importance of UE's Service Experience\n",
            "\n",
            "Answer ID: 4\n"
          ]
        },
        {
          "name": "stderr",
          "output_type": "stream",
          "text": [
            "Processing questions:   8%|▊         | 29/366 [00:28<05:26,  1.03it/s]"
          ]
        },
        {
          "name": "stdout",
          "output_type": "stream",
          "text": [
            "Generated answer:  5: Transmit power control commands\n",
            "Explan\n",
            "Answer ID: 5\n"
          ]
        },
        {
          "name": "stderr",
          "output_type": "stream",
          "text": [
            "Processing questions:   8%|▊         | 30/366 [00:29<05:29,  1.02it/s]"
          ]
        },
        {
          "name": "stdout",
          "output_type": "stream",
          "text": [
            "Generated answer:  4: To start the drx-onDuration\n",
            "Answer ID: 4\n"
          ]
        },
        {
          "name": "stderr",
          "output_type": "stream",
          "text": [
            "Processing questions:   8%|▊         | 31/366 [00:30<05:19,  1.05it/s]"
          ]
        },
        {
          "name": "stdout",
          "output_type": "stream",
          "text": [
            "Generated answer:  3: Definition of logical charging functions\n",
            "Explan\n",
            "Answer ID: 3\n"
          ]
        },
        {
          "name": "stderr",
          "output_type": "stream",
          "text": [
            "Processing questions:   9%|▊         | 32/366 [00:31<05:10,  1.08it/s]"
          ]
        },
        {
          "name": "stdout",
          "output_type": "stream",
          "text": [
            "Generated answer:  2: During withdrawal\n",
            "Explanation: The\n",
            "Answer ID: 2\n"
          ]
        },
        {
          "name": "stderr",
          "output_type": "stream",
          "text": [
            "Processing questions:   9%|▉         | 33/366 [00:32<05:12,  1.06it/s]"
          ]
        },
        {
          "name": "stdout",
          "output_type": "stream",
          "text": [
            "Generated answer:  3: TS 22.011\n",
            "Explanation\n",
            "Answer ID: 3\n"
          ]
        },
        {
          "name": "stderr",
          "output_type": "stream",
          "text": [
            "Processing questions:   9%|▉         | 34/366 [00:33<05:22,  1.03it/s]"
          ]
        },
        {
          "name": "stdout",
          "output_type": "stream",
          "text": [
            "Generated answer:  1: To establish a PDU Session that can\n",
            "Answer ID: 1\n"
          ]
        },
        {
          "name": "stderr",
          "output_type": "stream",
          "text": [
            "Processing questions:  10%|▉         | 35/366 [00:34<05:20,  1.03it/s]"
          ]
        },
        {
          "name": "stdout",
          "output_type": "stream",
          "text": [
            "Generated answer:  3: A NPUSCH containing data and reference\n",
            "Answer ID: 3\n"
          ]
        },
        {
          "name": "stderr",
          "output_type": "stream",
          "text": [
            "Processing questions:  10%|▉         | 36/366 [00:35<05:18,  1.04it/s]"
          ]
        },
        {
          "name": "stdout",
          "output_type": "stream",
          "text": [
            "Generated answer:  5: All of the above\n",
            "Explanation\n",
            "Answer ID: 5\n"
          ]
        },
        {
          "name": "stderr",
          "output_type": "stream",
          "text": [
            "Processing questions:  10%|█         | 37/366 [00:36<05:24,  1.01it/s]"
          ]
        },
        {
          "name": "stdout",
          "output_type": "stream",
          "text": [
            "Generated answer:  3: To perform per tenant charging based on Network\n",
            "Answer ID: 3\n"
          ]
        },
        {
          "name": "stderr",
          "output_type": "stream",
          "text": [
            "Processing questions:  10%|█         | 38/366 [00:37<05:20,  1.02it/s]"
          ]
        },
        {
          "name": "stdout",
          "output_type": "stream",
          "text": [
            "Generated answer:  3: TS 28.538\n",
            "Explanation\n",
            "Answer ID: 3\n"
          ]
        },
        {
          "name": "stderr",
          "output_type": "stream",
          "text": [
            "Processing questions:  11%|█         | 39/366 [00:38<05:19,  1.02it/s]"
          ]
        },
        {
          "name": "stdout",
          "output_type": "stream",
          "text": [
            "Generated answer:  1: Priority treatment for access and attachment to the\n",
            "Answer ID: 1\n"
          ]
        },
        {
          "name": "stderr",
          "output_type": "stream",
          "text": [
            "Processing questions:  11%|█         | 40/366 [00:39<05:21,  1.01it/s]"
          ]
        },
        {
          "name": "stdout",
          "output_type": "stream",
          "text": [
            "Generated answer:  1: Adding and removing individual media components in a\n",
            "Answer ID: 1\n"
          ]
        },
        {
          "name": "stderr",
          "output_type": "stream",
          "text": [
            "Processing questions:  11%|█         | 41/366 [00:40<05:17,  1.03it/s]"
          ]
        },
        {
          "name": "stdout",
          "output_type": "stream",
          "text": [
            "Generated answer:  5: All of the above\n",
            "Explanation\n",
            "Answer ID: 5\n"
          ]
        },
        {
          "name": "stderr",
          "output_type": "stream",
          "text": [
            "Processing questions:  11%|█▏        | 42/366 [00:40<05:14,  1.03it/s]"
          ]
        },
        {
          "name": "stdout",
          "output_type": "stream",
          "text": [
            "Generated answer:  3: GMM cause\n",
            "Explanation:\n",
            "Answer ID: 3\n"
          ]
        },
        {
          "name": "stderr",
          "output_type": "stream",
          "text": [
            "Processing questions:  12%|█▏        | 43/366 [00:41<05:16,  1.02it/s]"
          ]
        },
        {
          "name": "stdout",
          "output_type": "stream",
          "text": [
            "Generated answer:  3: Support of dynamic PTP and PTM\n",
            "Answer ID: 3\n"
          ]
        },
        {
          "name": "stderr",
          "output_type": "stream",
          "text": [
            "Processing questions:  12%|█▏        | 44/366 [00:42<05:20,  1.01it/s]"
          ]
        },
        {
          "name": "stdout",
          "output_type": "stream",
          "text": [
            "Generated answer:  1: TS 32.421\n",
            "Explanation\n",
            "Answer ID: 1\n"
          ]
        },
        {
          "name": "stderr",
          "output_type": "stream",
          "text": [
            "Processing questions:  12%|█▏        | 45/366 [00:44<05:27,  1.02s/it]"
          ]
        },
        {
          "name": "stdout",
          "output_type": "stream",
          "text": [
            "Generated answer:  3: TPC-PUSCH-R\n",
            "Answer ID: 3\n"
          ]
        },
        {
          "name": "stderr",
          "output_type": "stream",
          "text": [
            "Processing questions:  13%|█▎        | 46/366 [00:45<05:26,  1.02s/it]"
          ]
        },
        {
          "name": "stdout",
          "output_type": "stream",
          "text": [
            "Generated answer:  2: To separate the S/P-GW\n",
            "Answer ID: 2\n"
          ]
        },
        {
          "name": "stderr",
          "output_type": "stream",
          "text": [
            "Processing questions:  13%|█▎        | 47/366 [00:46<05:30,  1.04s/it]"
          ]
        },
        {
          "name": "stdout",
          "output_type": "stream",
          "text": [
            "Generated answer:  4: Routing of User Plane data\n",
            "Ex\n",
            "Answer ID: 4\n"
          ]
        },
        {
          "name": "stderr",
          "output_type": "stream",
          "text": [
            "Processing questions:  13%|█▎        | 48/366 [00:47<05:20,  1.01s/it]"
          ]
        },
        {
          "name": "stdout",
          "output_type": "stream",
          "text": [
            "Generated answer:  3: Both in the Model Training and Model In\n",
            "Answer ID: 3\n"
          ]
        },
        {
          "name": "stderr",
          "output_type": "stream",
          "text": [
            "Processing questions:  13%|█▎        | 49/366 [00:48<05:18,  1.00s/it]"
          ]
        },
        {
          "name": "stdout",
          "output_type": "stream",
          "text": [
            "Generated answer:  3: Both signalling and user traffic\n",
            "Explan\n",
            "Answer ID: 3\n"
          ]
        },
        {
          "name": "stderr",
          "output_type": "stream",
          "text": [
            "Processing questions:  14%|█▎        | 50/366 [00:49<05:19,  1.01s/it]"
          ]
        },
        {
          "name": "stdout",
          "output_type": "stream",
          "text": [
            "Generated answer:  1: To distribute tariff information to network elements\n",
            "\n",
            "Answer ID: 1\n"
          ]
        },
        {
          "name": "stderr",
          "output_type": "stream",
          "text": [
            "Processing questions:  14%|█▍        | 51/366 [00:50<05:17,  1.01s/it]"
          ]
        },
        {
          "name": "stdout",
          "output_type": "stream",
          "text": [
            "Generated answer:  1: NEF service Nnef_DNA\n",
            "Answer ID: 1\n"
          ]
        },
        {
          "name": "stderr",
          "output_type": "stream",
          "text": [
            "Processing questions:  14%|█▍        | 52/366 [00:51<05:11,  1.01it/s]"
          ]
        },
        {
          "name": "stdout",
          "output_type": "stream",
          "text": [
            "Generated answer:  3: Extended Access Barring\n",
            "Explanation\n",
            "Answer ID: 3\n"
          ]
        },
        {
          "name": "stderr",
          "output_type": "stream",
          "text": [
            "Processing questions:  14%|█▍        | 53/366 [00:52<05:08,  1.02it/s]"
          ]
        },
        {
          "name": "stdout",
          "output_type": "stream",
          "text": [
            "Generated answer:  1: To align time and frequency references between U\n",
            "Answer ID: 1\n"
          ]
        },
        {
          "name": "stderr",
          "output_type": "stream",
          "text": [
            "Processing questions:  15%|█▍        | 54/366 [00:53<05:09,  1.01it/s]"
          ]
        },
        {
          "name": "stdout",
          "output_type": "stream",
          "text": [
            "Generated answer:  3: To specify access to a functional entity in\n",
            "Answer ID: 3\n"
          ]
        },
        {
          "name": "stderr",
          "output_type": "stream",
          "text": [
            "Processing questions:  15%|█▌        | 55/366 [00:53<05:03,  1.02it/s]"
          ]
        },
        {
          "name": "stdout",
          "output_type": "stream",
          "text": [
            "Generated answer:  4: All of the above\n",
            "Explanation\n",
            "Answer ID: 4\n"
          ]
        },
        {
          "name": "stderr",
          "output_type": "stream",
          "text": [
            "Processing questions:  15%|█▌        | 56/366 [00:55<05:05,  1.02it/s]"
          ]
        },
        {
          "name": "stdout",
          "output_type": "stream",
          "text": [
            "Generated answer:  4: Priority treatment by all MPS capable networks\n",
            "Answer ID: 4\n"
          ]
        },
        {
          "name": "stderr",
          "output_type": "stream",
          "text": [
            "Processing questions:  16%|█▌        | 57/366 [00:56<05:07,  1.00it/s]"
          ]
        },
        {
          "name": "stdout",
          "output_type": "stream",
          "text": [
            "Generated answer:  2: To mitigate the impact of initial phases of\n",
            "Answer ID: 2\n"
          ]
        },
        {
          "name": "stderr",
          "output_type": "stream",
          "text": [
            "Processing questions:  16%|█▌        | 58/366 [00:57<05:06,  1.00it/s]"
          ]
        },
        {
          "name": "stdout",
          "output_type": "stream",
          "text": [
            "Generated answer:  4: The procedures supporting EAS changes and/\n",
            "Answer ID: 4\n"
          ]
        },
        {
          "name": "stderr",
          "output_type": "stream",
          "text": [
            "Processing questions:  16%|█▌        | 59/366 [00:57<05:02,  1.02it/s]"
          ]
        },
        {
          "name": "stdout",
          "output_type": "stream",
          "text": [
            "Generated answer:  2: To request the ADRF to retrieve stored\n",
            "Answer ID: 2\n"
          ]
        },
        {
          "name": "stderr",
          "output_type": "stream",
          "text": [
            "Processing questions:  16%|█▋        | 60/366 [00:59<05:12,  1.02s/it]"
          ]
        },
        {
          "name": "stdout",
          "output_type": "stream",
          "text": [
            "Generated answer:  1: NG-RAN SA is prioritized\n",
            "Answer ID: 1\n"
          ]
        },
        {
          "name": "stderr",
          "output_type": "stream",
          "text": [
            "Processing questions:  17%|█▋        | 61/366 [01:00<05:12,  1.03s/it]"
          ]
        },
        {
          "name": "stdout",
          "output_type": "stream",
          "text": [
            "Generated answer:  1: To improve battery life of smart phones\n",
            "\n",
            "Answer ID: 1\n"
          ]
        },
        {
          "name": "stderr",
          "output_type": "stream",
          "text": [
            "Processing questions:  17%|█▋        | 62/366 [01:01<05:05,  1.01s/it]"
          ]
        },
        {
          "name": "stdout",
          "output_type": "stream",
          "text": [
            "Generated answer:  4: UE usage type obtained from subscription data\n",
            "\n",
            "Answer ID: 4\n"
          ]
        },
        {
          "name": "stderr",
          "output_type": "stream",
          "text": [
            "Processing questions:  17%|█▋        | 63/366 [01:02<05:01,  1.00it/s]"
          ]
        },
        {
          "name": "stdout",
          "output_type": "stream",
          "text": [
            "Generated answer:  5: To request UE sidelink capabilities\n",
            "Ex\n",
            "Answer ID: 5\n"
          ]
        },
        {
          "name": "stderr",
          "output_type": "stream",
          "text": [
            "Processing questions:  17%|█▋        | 64/366 [01:03<05:04,  1.01s/it]"
          ]
        },
        {
          "name": "stdout",
          "output_type": "stream",
          "text": [
            "Generated answer:  5: CM-CONNECTED with RRC\n",
            "Answer ID: 5\n"
          ]
        },
        {
          "name": "stderr",
          "output_type": "stream",
          "text": [
            "Processing questions:  18%|█▊        | 65/366 [01:04<04:59,  1.01it/s]"
          ]
        },
        {
          "name": "stdout",
          "output_type": "stream",
          "text": [
            "Generated answer:  4: To divide the capability information message into segments\n",
            "Answer ID: 4\n"
          ]
        },
        {
          "name": "stderr",
          "output_type": "stream",
          "text": [
            "Processing questions:  18%|█▊        | 66/366 [01:05<04:59,  1.00it/s]"
          ]
        },
        {
          "name": "stdout",
          "output_type": "stream",
          "text": [
            "Generated answer:  4: Fixed reference channels defined in TS 38.\n",
            "Answer ID: 4\n"
          ]
        },
        {
          "name": "stderr",
          "output_type": "stream",
          "text": [
            "Processing questions:  18%|█▊        | 67/366 [01:06<04:54,  1.02it/s]"
          ]
        },
        {
          "name": "stdout",
          "output_type": "stream",
          "text": [
            "Generated answer:  3: To support network automation\n",
            "Explanation\n",
            "Answer ID: 3\n"
          ]
        },
        {
          "name": "stderr",
          "output_type": "stream",
          "text": [
            "Processing questions:  19%|█▊        | 68/366 [01:06<04:50,  1.03it/s]"
          ]
        },
        {
          "name": "stdout",
          "output_type": "stream",
          "text": [
            "Generated answer:  4: All of the above\n",
            "Explanation\n",
            "Answer ID: 4\n"
          ]
        },
        {
          "name": "stderr",
          "output_type": "stream",
          "text": [
            "Processing questions:  19%|█▉        | 69/366 [01:07<04:42,  1.05it/s]"
          ]
        },
        {
          "name": "stdout",
          "output_type": "stream",
          "text": [
            "Generated answer:  3: The communication path between PIN Elements can use\n",
            "Answer ID: 3\n"
          ]
        },
        {
          "name": "stderr",
          "output_type": "stream",
          "text": [
            "Processing questions:  19%|█▉        | 70/366 [01:08<04:42,  1.05it/s]"
          ]
        },
        {
          "name": "stdout",
          "output_type": "stream",
          "text": [
            "Generated answer:  3: To transfer charging events from CTF to\n",
            "Answer ID: 3\n"
          ]
        },
        {
          "name": "stderr",
          "output_type": "stream",
          "text": [
            "Processing questions:  19%|█▉        | 71/366 [01:09<04:47,  1.03it/s]"
          ]
        },
        {
          "name": "stdout",
          "output_type": "stream",
          "text": [
            "Generated answer:  4: π/2-BPSK\n",
            "Answer ID: 4\n"
          ]
        },
        {
          "name": "stderr",
          "output_type": "stream",
          "text": [
            "Processing questions:  20%|█▉        | 72/366 [01:10<04:39,  1.05it/s]"
          ]
        },
        {
          "name": "stdout",
          "output_type": "stream",
          "text": [
            "Generated answer:  3: To group equivalent NF Services into interchangeable sets\n",
            "Answer ID: 3\n"
          ]
        },
        {
          "name": "stderr",
          "output_type": "stream",
          "text": [
            "Processing questions:  20%|█▉        | 73/366 [01:11<04:44,  1.03it/s]"
          ]
        },
        {
          "name": "stdout",
          "output_type": "stream",
          "text": [
            "Generated answer:  1: To detect and mitigate coverage and cell edge\n",
            "Answer ID: 1\n"
          ]
        },
        {
          "name": "stderr",
          "output_type": "stream",
          "text": [
            "Processing questions:  20%|██        | 74/366 [01:12<04:48,  1.01it/s]"
          ]
        },
        {
          "name": "stdout",
          "output_type": "stream",
          "text": [
            "Generated answer:  1: A failure to establish the connection to the\n",
            "Answer ID: 1\n"
          ]
        },
        {
          "name": "stderr",
          "output_type": "stream",
          "text": [
            "Processing questions:  20%|██        | 75/366 [01:13<04:47,  1.01it/s]"
          ]
        },
        {
          "name": "stdout",
          "output_type": "stream",
          "text": [
            "Generated answer:  4: PUCCH\n",
            "Explanation:\n",
            "Answer ID: 4\n"
          ]
        },
        {
          "name": "stderr",
          "output_type": "stream",
          "text": [
            "Processing questions:  21%|██        | 76/366 [01:14<04:49,  1.00it/s]"
          ]
        },
        {
          "name": "stdout",
          "output_type": "stream",
          "text": [
            "Generated answer:  3: Both PDU Session re-establishment and\n",
            "Answer ID: 3\n"
          ]
        },
        {
          "name": "stderr",
          "output_type": "stream",
          "text": [
            "Processing questions:  21%|██        | 77/366 [01:15<04:51,  1.01s/it]"
          ]
        },
        {
          "name": "stdout",
          "output_type": "stream",
          "text": [
            "Generated answer:  3: Both session inactivity time monitoring event and\n",
            "Answer ID: 3\n"
          ]
        },
        {
          "name": "stderr",
          "output_type": "stream",
          "text": [
            "Processing questions:  21%|██▏       | 78/366 [01:16<04:46,  1.01it/s]"
          ]
        },
        {
          "name": "stdout",
          "output_type": "stream",
          "text": [
            "Generated answer:  4: Attach request\n",
            "Explanation:\n",
            "Answer ID: 4\n"
          ]
        },
        {
          "name": "stderr",
          "output_type": "stream",
          "text": [
            "Processing questions:  22%|██▏       | 79/366 [01:17<04:43,  1.01it/s]"
          ]
        },
        {
          "name": "stdout",
          "output_type": "stream",
          "text": [
            "Generated answer:  2: After sensing the channel to be idle during\n",
            "Answer ID: 2\n"
          ]
        },
        {
          "name": "stderr",
          "output_type": "stream",
          "text": [
            "Processing questions:  22%|██▏       | 80/366 [01:18<04:45,  1.00it/s]"
          ]
        },
        {
          "name": "stdout",
          "output_type": "stream",
          "text": [
            "Generated answer:  5: NR-E-UTRA mobility\n",
            "\n",
            "Answer ID: 5\n"
          ]
        },
        {
          "name": "stderr",
          "output_type": "stream",
          "text": [
            "Processing questions:  22%|██▏       | 81/366 [01:19<04:35,  1.04it/s]"
          ]
        },
        {
          "name": "stdout",
          "output_type": "stream",
          "text": [
            "Generated answer:  1: 50 UEs\n",
            "Explanation:\n",
            "Answer ID: 1\n"
          ]
        },
        {
          "name": "stderr",
          "output_type": "stream",
          "text": [
            "Processing questions:  22%|██▏       | 82/366 [01:20<04:38,  1.02it/s]"
          ]
        },
        {
          "name": "stdout",
          "output_type": "stream",
          "text": [
            "Generated answer:  2: Equivalent PLMNs list\n",
            "Ex\n",
            "Answer ID: 2\n"
          ]
        },
        {
          "name": "stderr",
          "output_type": "stream",
          "text": [
            "Processing questions:  23%|██▎       | 83/366 [01:21<04:40,  1.01it/s]"
          ]
        },
        {
          "name": "stdout",
          "output_type": "stream",
          "text": [
            "Generated answer:  2: RLC sublayer\n",
            "Explanation\n",
            "Answer ID: 2\n"
          ]
        },
        {
          "name": "stderr",
          "output_type": "stream",
          "text": [
            "Processing questions:  23%|██▎       | 84/366 [01:22<04:40,  1.00it/s]"
          ]
        },
        {
          "name": "stdout",
          "output_type": "stream",
          "text": [
            "Generated answer:  3: Voice call continuity for emergency calls is applicable\n",
            "Answer ID: 3\n"
          ]
        },
        {
          "name": "stderr",
          "output_type": "stream",
          "text": [
            "Processing questions:  23%|██▎       | 85/366 [01:23<04:38,  1.01it/s]"
          ]
        },
        {
          "name": "stdout",
          "output_type": "stream",
          "text": [
            "Generated answer:  1: -82.8 dBm/50\n",
            "Answer ID: 1\n"
          ]
        },
        {
          "name": "stderr",
          "output_type": "stream",
          "text": [
            "Processing questions:  23%|██▎       | 86/366 [01:24<04:35,  1.02it/s]"
          ]
        },
        {
          "name": "stdout",
          "output_type": "stream",
          "text": [
            "Generated answer:  4: The network schedules subsequent UL transmissions using dynamic\n",
            "Answer ID: 4\n"
          ]
        },
        {
          "name": "stderr",
          "output_type": "stream",
          "text": [
            "Processing questions:  24%|██▍       | 87/366 [01:25<04:26,  1.05it/s]"
          ]
        },
        {
          "name": "stdout",
          "output_type": "stream",
          "text": [
            "Generated answer:  5: The first sixteen indexes of the applicable M\n",
            "Answer ID: 5\n"
          ]
        },
        {
          "name": "stderr",
          "output_type": "stream",
          "text": [
            "Processing questions:  24%|██▍       | 88/366 [01:26<04:26,  1.04it/s]"
          ]
        },
        {
          "name": "stdout",
          "output_type": "stream",
          "text": [
            "Generated answer:  1: To advance/delay UE timings of\n",
            "Answer ID: 1\n"
          ]
        },
        {
          "name": "stderr",
          "output_type": "stream",
          "text": [
            "Processing questions:  24%|██▍       | 89/366 [01:27<04:26,  1.04it/s]"
          ]
        },
        {
          "name": "stdout",
          "output_type": "stream",
          "text": [
            "Generated answer:  4: To enable congestion control in the network\n",
            "\n",
            "Answer ID: 4\n"
          ]
        },
        {
          "name": "stderr",
          "output_type": "stream",
          "text": [
            "Processing questions:  25%|██▍       | 90/366 [01:28<04:23,  1.05it/s]"
          ]
        },
        {
          "name": "stdout",
          "output_type": "stream",
          "text": [
            "Generated answer:  4: To improve mobility optimization\n",
            "Explanation\n",
            "Answer ID: 4\n"
          ]
        },
        {
          "name": "stderr",
          "output_type": "stream",
          "text": [
            "Processing questions:  25%|██▍       | 91/366 [01:29<04:23,  1.04it/s]"
          ]
        },
        {
          "name": "stdout",
          "output_type": "stream",
          "text": [
            "Generated answer:  1: To comply with 3GPP specifications and\n",
            "Answer ID: 1\n"
          ]
        },
        {
          "name": "stderr",
          "output_type": "stream",
          "text": [
            "Processing questions:  25%|██▌       | 92/366 [01:30<04:21,  1.05it/s]"
          ]
        },
        {
          "name": "stdout",
          "output_type": "stream",
          "text": [
            "Generated answer:  3: An association between EASs\n",
            "Ex\n",
            "Answer ID: 3\n"
          ]
        },
        {
          "name": "stderr",
          "output_type": "stream",
          "text": [
            "Processing questions:  25%|██▌       | 93/366 [01:31<04:22,  1.04it/s]"
          ]
        },
        {
          "name": "stdout",
          "output_type": "stream",
          "text": [
            "Generated answer:  5: To determine an in-time transfer of\n",
            "Answer ID: 5\n"
          ]
        },
        {
          "name": "stderr",
          "output_type": "stream",
          "text": [
            "Processing questions:  26%|██▌       | 94/366 [01:32<04:33,  1.00s/it]"
          ]
        },
        {
          "name": "stdout",
          "output_type": "stream",
          "text": [
            "Generated answer:  3: Sends a UE CONTEXT MODIFIC\n",
            "Answer ID: 3\n"
          ]
        },
        {
          "name": "stderr",
          "output_type": "stream",
          "text": [
            "Processing questions:  26%|██▌       | 95/366 [01:33<04:29,  1.01it/s]"
          ]
        },
        {
          "name": "stdout",
          "output_type": "stream",
          "text": [
            "Generated answer:  4: To exchange anticipated event information that may compromise\n",
            "Answer ID: 4\n"
          ]
        },
        {
          "name": "stderr",
          "output_type": "stream",
          "text": [
            "Processing questions:  26%|██▌       | 96/366 [01:34<04:25,  1.02it/s]"
          ]
        },
        {
          "name": "stdout",
          "output_type": "stream",
          "text": [
            "Generated answer:  5: Large NAS messages\n",
            "Explanation:\n",
            "Answer ID: 5\n"
          ]
        },
        {
          "name": "stderr",
          "output_type": "stream",
          "text": [
            "Processing questions:  27%|██▋       | 97/366 [01:35<04:24,  1.02it/s]"
          ]
        },
        {
          "name": "stdout",
          "output_type": "stream",
          "text": [
            "Generated answer:  3: To manage the identification and membership of 5\n",
            "Answer ID: 3\n"
          ]
        },
        {
          "name": "stderr",
          "output_type": "stream",
          "text": [
            "Processing questions:  27%|██▋       | 98/366 [01:36<04:21,  1.02it/s]"
          ]
        },
        {
          "name": "stdout",
          "output_type": "stream",
          "text": [
            "Generated answer:  2: To reach a given Home Environment.\n",
            "\n",
            "Answer ID: 2\n"
          ]
        },
        {
          "name": "stderr",
          "output_type": "stream",
          "text": [
            "Processing questions:  27%|██▋       | 99/366 [01:37<04:26,  1.00it/s]"
          ]
        },
        {
          "name": "stdout",
          "output_type": "stream",
          "text": [
            "Generated answer:  1: A four digit PIN code\n",
            "Explan\n",
            "Answer ID: 1\n"
          ]
        },
        {
          "name": "stderr",
          "output_type": "stream",
          "text": [
            "Processing questions:  27%|██▋       | 100/366 [01:38<04:26,  1.00s/it]"
          ]
        },
        {
          "name": "stdout",
          "output_type": "stream",
          "text": [
            "Generated answer:  4: By provisioning of policies in the Ev\n",
            "Answer ID: 4\n"
          ]
        },
        {
          "name": "stderr",
          "output_type": "stream",
          "text": [
            "Processing questions:  28%|██▊       | 101/366 [01:39<04:19,  1.02it/s]"
          ]
        },
        {
          "name": "stdout",
          "output_type": "stream",
          "text": [
            "Generated answer:  3: Supporting RNs\n",
            "Explanation:\n",
            "Answer ID: 3\n"
          ]
        },
        {
          "name": "stderr",
          "output_type": "stream",
          "text": [
            "Processing questions:  28%|██▊       | 102/366 [01:40<04:17,  1.03it/s]"
          ]
        },
        {
          "name": "stdout",
          "output_type": "stream",
          "text": [
            "Generated answer:  4: All of the above\n",
            "Explanation\n",
            "Answer ID: 4\n"
          ]
        },
        {
          "name": "stderr",
          "output_type": "stream",
          "text": [
            "Processing questions:  28%|██▊       | 103/366 [01:41<04:16,  1.03it/s]"
          ]
        },
        {
          "name": "stdout",
          "output_type": "stream",
          "text": [
            "Generated answer:  3: During the registration procedure\n",
            "Explanation\n",
            "Answer ID: 3\n"
          ]
        },
        {
          "name": "stderr",
          "output_type": "stream",
          "text": [
            "Processing questions:  28%|██▊       | 104/366 [01:42<04:14,  1.03it/s]"
          ]
        },
        {
          "name": "stdout",
          "output_type": "stream",
          "text": [
            "Generated answer:  4: By having a Localised Service Area subscription\n",
            "Answer ID: 4\n"
          ]
        },
        {
          "name": "stderr",
          "output_type": "stream",
          "text": [
            "Processing questions:  29%|██▊       | 105/366 [01:43<04:06,  1.06it/s]"
          ]
        },
        {
          "name": "stdout",
          "output_type": "stream",
          "text": [
            "Generated answer:  3: To request location information for target UEs\n",
            "Answer ID: 3\n"
          ]
        },
        {
          "name": "stderr",
          "output_type": "stream",
          "text": [
            "Processing questions:  29%|██▉       | 106/366 [01:44<04:07,  1.05it/s]"
          ]
        },
        {
          "name": "stdout",
          "output_type": "stream",
          "text": [
            "Generated answer:  1: Radiated and conducted reference points\n",
            "Ex\n",
            "Answer ID: 1\n"
          ]
        },
        {
          "name": "stderr",
          "output_type": "stream",
          "text": [
            "Processing questions:  29%|██▉       | 107/366 [01:45<04:13,  1.02it/s]"
          ]
        },
        {
          "name": "stdout",
          "output_type": "stream",
          "text": [
            "Generated answer:  3: When the cell broadcasts several CSG IDs\n",
            "Answer ID: 3\n"
          ]
        },
        {
          "name": "stderr",
          "output_type": "stream",
          "text": [
            "Processing questions:  30%|██▉       | 108/366 [01:46<04:16,  1.01it/s]"
          ]
        },
        {
          "name": "stdout",
          "output_type": "stream",
          "text": [
            "Generated answer:  5: None of the above\n",
            "Explanation\n",
            "Answer ID: 5\n"
          ]
        },
        {
          "name": "stderr",
          "output_type": "stream",
          "text": [
            "Processing questions:  30%|██▉       | 109/366 [01:47<04:18,  1.00s/it]"
          ]
        },
        {
          "name": "stdout",
          "output_type": "stream",
          "text": [
            "Generated answer:  5: All of the above\n",
            "Explanation\n",
            "Answer ID: 5\n"
          ]
        },
        {
          "name": "stderr",
          "output_type": "stream",
          "text": [
            "Processing questions:  30%|███       | 110/366 [01:48<04:18,  1.01s/it]"
          ]
        },
        {
          "name": "stdout",
          "output_type": "stream",
          "text": [
            "Generated answer:  2: Charging for SMS-SC deliveries using\n",
            "Answer ID: 2\n"
          ]
        },
        {
          "name": "stderr",
          "output_type": "stream",
          "text": [
            "Processing questions:  30%|███       | 111/366 [01:49<04:14,  1.00it/s]"
          ]
        },
        {
          "name": "stdout",
          "output_type": "stream",
          "text": [
            "Generated answer:  3: To store and retrieve collected data and analytics\n",
            "Answer ID: 3\n"
          ]
        },
        {
          "name": "stderr",
          "output_type": "stream",
          "text": [
            "Processing questions:  31%|███       | 112/366 [01:50<04:15,  1.01s/it]"
          ]
        },
        {
          "name": "stdout",
          "output_type": "stream",
          "text": [
            "Generated answer:  4: To perform switching and signaling functions for mobile\n",
            "Answer ID: 4\n"
          ]
        },
        {
          "name": "stderr",
          "output_type": "stream",
          "text": [
            "Processing questions:  31%|███       | 113/366 [01:51<04:10,  1.01it/s]"
          ]
        },
        {
          "name": "stdout",
          "output_type": "stream",
          "text": [
            "Generated answer:  3: Both HARQ-ACK information and conflict\n",
            "Answer ID: 3\n"
          ]
        },
        {
          "name": "stderr",
          "output_type": "stream",
          "text": [
            "Processing questions:  31%|███       | 114/366 [01:52<04:10,  1.01it/s]"
          ]
        },
        {
          "name": "stdout",
          "output_type": "stream",
          "text": [
            "Generated answer:  5: To associate the subscriber with groups\n",
            "Ex\n",
            "Answer ID: 5\n"
          ]
        },
        {
          "name": "stderr",
          "output_type": "stream",
          "text": [
            "Processing questions:  31%|███▏      | 115/366 [01:53<04:08,  1.01it/s]"
          ]
        },
        {
          "name": "stdout",
          "output_type": "stream",
          "text": [
            "Generated answer:  4: Indoor Group\n",
            "Explanation:\n",
            "Answer ID: 4\n"
          ]
        },
        {
          "name": "stderr",
          "output_type": "stream",
          "text": [
            "Processing questions:  32%|███▏      | 116/366 [01:54<04:06,  1.01it/s]"
          ]
        },
        {
          "name": "stdout",
          "output_type": "stream",
          "text": [
            "Generated answer:  3: To reduce the peak-to-average\n",
            "Answer ID: 3\n"
          ]
        },
        {
          "name": "stderr",
          "output_type": "stream",
          "text": [
            "Processing questions:  32%|███▏      | 117/366 [01:55<04:08,  1.00it/s]"
          ]
        },
        {
          "name": "stdout",
          "output_type": "stream",
          "text": [
            "Generated answer:  2: Unsubscribes to changes to subscription\n",
            "Answer ID: 2\n"
          ]
        },
        {
          "name": "stderr",
          "output_type": "stream",
          "text": [
            "Processing questions:  32%|███▏      | 118/366 [01:56<04:05,  1.01it/s]"
          ]
        },
        {
          "name": "stdout",
          "output_type": "stream",
          "text": [
            "Generated answer:  4: Invoking an operation and providing a response\n",
            "Answer ID: 4\n"
          ]
        },
        {
          "name": "stderr",
          "output_type": "stream",
          "text": [
            "Processing questions:  33%|███▎      | 119/366 [01:57<04:05,  1.00it/s]"
          ]
        },
        {
          "name": "stdout",
          "output_type": "stream",
          "text": [
            "Generated answer:  4: All of the above\n",
            "Explanation\n",
            "Answer ID: 4\n"
          ]
        },
        {
          "name": "stderr",
          "output_type": "stream",
          "text": [
            "Processing questions:  33%|███▎      | 120/366 [01:58<04:00,  1.02it/s]"
          ]
        },
        {
          "name": "stdout",
          "output_type": "stream",
          "text": [
            "Generated answer:  1: Simplified evaluations\n",
            "Explanation:\n",
            "Answer ID: 1\n"
          ]
        },
        {
          "name": "stderr",
          "output_type": "stream",
          "text": [
            "Processing questions:  33%|███▎      | 121/366 [01:59<04:04,  1.00it/s]"
          ]
        },
        {
          "name": "stdout",
          "output_type": "stream",
          "text": [
            "Generated answer:  5: To establish a new RRC connection for\n",
            "Answer ID: 5\n"
          ]
        },
        {
          "name": "stderr",
          "output_type": "stream",
          "text": [
            "Processing questions:  33%|███▎      | 122/366 [02:00<04:04,  1.00s/it]"
          ]
        },
        {
          "name": "stdout",
          "output_type": "stream",
          "text": [
            "Generated answer:  5: Physical Sidelink Control Channel (PS\n",
            "Answer ID: 5\n"
          ]
        },
        {
          "name": "stderr",
          "output_type": "stream",
          "text": [
            "Processing questions:  34%|███▎      | 123/366 [02:01<03:59,  1.02it/s]"
          ]
        },
        {
          "name": "stdout",
          "output_type": "stream",
          "text": [
            "Generated answer:  4: To transform charging information into CDRs for\n",
            "Answer ID: 4\n"
          ]
        },
        {
          "name": "stderr",
          "output_type": "stream",
          "text": [
            "Processing questions:  34%|███▍      | 124/366 [02:01<03:54,  1.03it/s]"
          ]
        },
        {
          "name": "stdout",
          "output_type": "stream",
          "text": [
            "Generated answer:  1: Gi reference point\n",
            "Explanation:\n",
            "Answer ID: 1\n"
          ]
        },
        {
          "name": "stderr",
          "output_type": "stream",
          "text": [
            "Processing questions:  34%|███▍      | 125/366 [02:02<03:57,  1.02it/s]"
          ]
        },
        {
          "name": "stdout",
          "output_type": "stream",
          "text": [
            "Generated answer:  5: All of the above\n",
            "Explanation\n",
            "Answer ID: 5\n"
          ]
        },
        {
          "name": "stderr",
          "output_type": "stream",
          "text": [
            "Processing questions:  34%|███▍      | 126/366 [02:03<03:47,  1.05it/s]"
          ]
        },
        {
          "name": "stdout",
          "output_type": "stream",
          "text": [
            "Generated answer:  5: Each serving cell can belong to multiple DR\n",
            "Answer ID: 5\n"
          ]
        },
        {
          "name": "stderr",
          "output_type": "stream",
          "text": [
            "Processing questions:  35%|███▍      | 127/366 [02:04<03:48,  1.04it/s]"
          ]
        },
        {
          "name": "stdout",
          "output_type": "stream",
          "text": [
            "Generated answer:  5: To allow UEs to use direct device\n",
            "Answer ID: 5\n"
          ]
        },
        {
          "name": "stderr",
          "output_type": "stream",
          "text": [
            "Processing questions:  35%|███▍      | 128/366 [02:05<03:51,  1.03it/s]"
          ]
        },
        {
          "name": "stdout",
          "output_type": "stream",
          "text": [
            "Generated answer:  4: To identify and charge for traffic transported over\n",
            "Answer ID: 4\n"
          ]
        },
        {
          "name": "stderr",
          "output_type": "stream",
          "text": [
            "Processing questions:  35%|███▌      | 129/366 [02:06<03:50,  1.03it/s]"
          ]
        },
        {
          "name": "stdout",
          "output_type": "stream",
          "text": [
            "Generated answer:  3: The target NR node decides to handover\n",
            "Answer ID: 3\n"
          ]
        },
        {
          "name": "stderr",
          "output_type": "stream",
          "text": [
            "Processing questions:  36%|███▌      | 130/366 [02:07<03:53,  1.01it/s]"
          ]
        },
        {
          "name": "stdout",
          "output_type": "stream",
          "text": [
            "Generated answer:  4: Mechanism for a 3rd party application\n",
            "Answer ID: 4\n"
          ]
        },
        {
          "name": "stderr",
          "output_type": "stream",
          "text": [
            "Processing questions:  36%|███▌      | 131/366 [02:08<03:51,  1.02it/s]"
          ]
        },
        {
          "name": "stdout",
          "output_type": "stream",
          "text": [
            "Generated answer:  5: All of the above\n",
            "Explanation\n",
            "Answer ID: 5\n"
          ]
        },
        {
          "name": "stderr",
          "output_type": "stream",
          "text": [
            "Processing questions:  36%|███▌      | 132/366 [02:09<03:52,  1.00it/s]"
          ]
        },
        {
          "name": "stdout",
          "output_type": "stream",
          "text": [
            "Generated answer:  3: To determine the RX beam peak direction\n",
            "\n",
            "Answer ID: 3\n"
          ]
        },
        {
          "name": "stderr",
          "output_type": "stream",
          "text": [
            "Processing questions:  36%|███▋      | 133/366 [02:10<03:52,  1.00it/s]"
          ]
        },
        {
          "name": "stdout",
          "output_type": "stream",
          "text": [
            "Generated answer:  5: NAS signalling security\n",
            "Explanation:\n",
            "Answer ID: 5\n"
          ]
        },
        {
          "name": "stderr",
          "output_type": "stream",
          "text": [
            "Processing questions:  37%|███▋      | 134/366 [02:11<03:52,  1.00s/it]"
          ]
        },
        {
          "name": "stdout",
          "output_type": "stream",
          "text": [
            "Generated answer:  2: Notify the LCS client\n",
            "Explan\n",
            "Answer ID: 2\n"
          ]
        },
        {
          "name": "stderr",
          "output_type": "stream",
          "text": [
            "Processing questions:  37%|███▋      | 135/366 [02:12<03:47,  1.01it/s]"
          ]
        },
        {
          "name": "stdout",
          "output_type": "stream",
          "text": [
            "Generated answer:  2: RRC_CONNECTED\n",
            "Ex\n",
            "Answer ID: 2\n"
          ]
        },
        {
          "name": "stderr",
          "output_type": "stream",
          "text": [
            "Processing questions:  37%|███▋      | 136/366 [02:13<03:43,  1.03it/s]"
          ]
        },
        {
          "name": "stdout",
          "output_type": "stream",
          "text": [
            "Generated answer:  3: TDL model\n",
            "Explanation:\n",
            "Answer ID: 3\n"
          ]
        },
        {
          "name": "stderr",
          "output_type": "stream",
          "text": [
            "Processing questions:  37%|███▋      | 137/366 [02:14<03:44,  1.02it/s]"
          ]
        },
        {
          "name": "stdout",
          "output_type": "stream",
          "text": [
            "Generated answer:  5: All of the above\n",
            "Explanation\n",
            "Answer ID: 5\n"
          ]
        },
        {
          "name": "stderr",
          "output_type": "stream",
          "text": [
            "Processing questions:  38%|███▊      | 138/366 [02:15<03:42,  1.02it/s]"
          ]
        },
        {
          "name": "stdout",
          "output_type": "stream",
          "text": [
            "Generated answer:  5: Statistics or predictions on the number of U\n",
            "Answer ID: 5\n"
          ]
        },
        {
          "name": "stderr",
          "output_type": "stream",
          "text": [
            "Processing questions:  38%|███▊      | 139/366 [02:16<03:40,  1.03it/s]"
          ]
        },
        {
          "name": "stdout",
          "output_type": "stream",
          "text": [
            "Generated answer:  1: Open-loop control\n",
            "Explanation\n",
            "Answer ID: 1\n"
          ]
        },
        {
          "name": "stderr",
          "output_type": "stream",
          "text": [
            "Processing questions:  38%|███▊      | 140/366 [02:17<03:43,  1.01it/s]"
          ]
        },
        {
          "name": "stdout",
          "output_type": "stream",
          "text": [
            "Generated answer:  5: Reuse existing CE technologies in eM\n",
            "Answer ID: 5\n"
          ]
        },
        {
          "name": "stderr",
          "output_type": "stream",
          "text": [
            "Processing questions:  39%|███▊      | 141/366 [02:18<03:45,  1.00s/it]"
          ]
        },
        {
          "name": "stdout",
          "output_type": "stream",
          "text": [
            "Generated answer:  1: Intermediate Mobile-services Switching Centre (\n",
            "Answer ID: 1\n"
          ]
        },
        {
          "name": "stderr",
          "output_type": "stream",
          "text": [
            "Processing questions:  39%|███▉      | 142/366 [02:19<03:50,  1.03s/it]"
          ]
        },
        {
          "name": "stdout",
          "output_type": "stream",
          "text": [
            "Generated answer:  5: Support of NR MBS in non-\n",
            "Answer ID: 5\n"
          ]
        },
        {
          "name": "stderr",
          "output_type": "stream",
          "text": [
            "Processing questions:  39%|███▉      | 143/366 [02:20<03:45,  1.01s/it]"
          ]
        },
        {
          "name": "stdout",
          "output_type": "stream",
          "text": [
            "Generated answer:  2: To estimate the RTT and/or\n",
            "Answer ID: 2\n"
          ]
        },
        {
          "name": "stderr",
          "output_type": "stream",
          "text": [
            "Processing questions:  39%|███▉      | 144/366 [02:21<03:49,  1.03s/it]"
          ]
        },
        {
          "name": "stdout",
          "output_type": "stream",
          "text": [
            "Generated answer:  3: To supply data or analytics from the M\n",
            "Answer ID: 3\n"
          ]
        },
        {
          "name": "stderr",
          "output_type": "stream",
          "text": [
            "Processing questions:  40%|███▉      | 145/366 [02:22<03:43,  1.01s/it]"
          ]
        },
        {
          "name": "stdout",
          "output_type": "stream",
          "text": [
            "Generated answer:  1: Configuration 1\n",
            "Explanation: In\n",
            "Answer ID: 1\n"
          ]
        },
        {
          "name": "stderr",
          "output_type": "stream",
          "text": [
            "Processing questions:  40%|███▉      | 146/366 [02:23<03:42,  1.01s/it]"
          ]
        },
        {
          "name": "stdout",
          "output_type": "stream",
          "text": [
            "Generated answer:  1: To connect the RN to a DeNB\n",
            "Answer ID: 1\n"
          ]
        },
        {
          "name": "stderr",
          "output_type": "stream",
          "text": [
            "Processing questions:  40%|████      | 147/366 [02:24<03:37,  1.01it/s]"
          ]
        },
        {
          "name": "stdout",
          "output_type": "stream",
          "text": [
            "Generated answer:  1: N1\n",
            "Explanation: The\n",
            "Answer ID: 1\n"
          ]
        },
        {
          "name": "stderr",
          "output_type": "stream",
          "text": [
            "Processing questions:  40%|████      | 148/366 [02:25<03:37,  1.00it/s]"
          ]
        },
        {
          "name": "stdout",
          "output_type": "stream",
          "text": [
            "Generated answer:  2: To enhance resource separation between transmitters\n",
            "\n",
            "Answer ID: 2\n"
          ]
        },
        {
          "name": "stderr",
          "output_type": "stream",
          "text": [
            "Processing questions:  41%|████      | 149/366 [02:26<03:34,  1.01it/s]"
          ]
        },
        {
          "name": "stdout",
          "output_type": "stream",
          "text": [
            "Generated answer:  2: ra-ResponseWindow\n",
            "Explanation\n",
            "Answer ID: 2\n"
          ]
        },
        {
          "name": "stderr",
          "output_type": "stream",
          "text": [
            "Processing questions:  41%|████      | 150/366 [02:27<03:34,  1.01it/s]"
          ]
        },
        {
          "name": "stdout",
          "output_type": "stream",
          "text": [
            "Generated answer:  4: Charging principles\n",
            "Explanation:\n",
            "Answer ID: 4\n"
          ]
        },
        {
          "name": "stderr",
          "output_type": "stream",
          "text": [
            "Processing questions:  41%|████▏     | 151/366 [02:28<03:30,  1.02it/s]"
          ]
        },
        {
          "name": "stdout",
          "output_type": "stream",
          "text": [
            "Generated answer:  1: Overall traffic\n",
            "Explanation: If\n",
            "Answer ID: 1\n"
          ]
        },
        {
          "name": "stderr",
          "output_type": "stream",
          "text": [
            "Processing questions:  42%|████▏     | 152/366 [02:29<03:31,  1.01it/s]"
          ]
        },
        {
          "name": "stdout",
          "output_type": "stream",
          "text": [
            "Generated answer:  2: Repetition of UL transport blocks with the\n",
            "Answer ID: 2\n"
          ]
        },
        {
          "name": "stderr",
          "output_type": "stream",
          "text": [
            "Processing questions:  42%|████▏     | 153/366 [02:30<03:31,  1.01it/s]"
          ]
        },
        {
          "name": "stdout",
          "output_type": "stream",
          "text": [
            "Generated answer:  3: Yes\n",
            "Explanation: A single\n",
            "Answer ID: 3\n"
          ]
        },
        {
          "name": "stderr",
          "output_type": "stream",
          "text": [
            "Processing questions:  42%|████▏     | 154/366 [02:31<03:27,  1.02it/s]"
          ]
        },
        {
          "name": "stdout",
          "output_type": "stream",
          "text": [
            "Generated answer:  3: LAI/RAI\n",
            "Explan\n",
            "Answer ID: 3\n"
          ]
        },
        {
          "name": "stderr",
          "output_type": "stream",
          "text": [
            "Processing questions:  42%|████▏     | 155/366 [02:32<03:28,  1.01it/s]"
          ]
        },
        {
          "name": "stdout",
          "output_type": "stream",
          "text": [
            "Generated answer:  5: TS 23.379 and TS \n",
            "Answer ID: 5\n"
          ]
        },
        {
          "name": "stderr",
          "output_type": "stream",
          "text": [
            "Processing questions:  43%|████▎     | 156/366 [02:33<03:29,  1.00it/s]"
          ]
        },
        {
          "name": "stdout",
          "output_type": "stream",
          "text": [
            "Generated answer:  2: The PDCCH candidate that ends later\n",
            "Answer ID: 2\n"
          ]
        },
        {
          "name": "stderr",
          "output_type": "stream",
          "text": [
            "Processing questions:  43%|████▎     | 157/366 [02:34<03:21,  1.04it/s]"
          ]
        },
        {
          "name": "stdout",
          "output_type": "stream",
          "text": [
            "Generated answer:  2: To provide interfaces for supplementary services\n",
            "Ex\n",
            "Answer ID: 2\n"
          ]
        },
        {
          "name": "stderr",
          "output_type": "stream",
          "text": [
            "Processing questions:  43%|████▎     | 158/366 [02:35<03:20,  1.04it/s]"
          ]
        },
        {
          "name": "stdout",
          "output_type": "stream",
          "text": [
            "Generated answer:  5: Prevention of mobile-originating signalling and\n",
            "Answer ID: 5\n"
          ]
        },
        {
          "name": "stderr",
          "output_type": "stream",
          "text": [
            "Processing questions:  43%|████▎     | 159/366 [02:36<03:18,  1.04it/s]"
          ]
        },
        {
          "name": "stdout",
          "output_type": "stream",
          "text": [
            "Generated answer:  4: PCF\n",
            "Explanation: For\n",
            "Answer ID: 4\n"
          ]
        },
        {
          "name": "stderr",
          "output_type": "stream",
          "text": [
            "Processing questions:  44%|████▎     | 160/366 [02:37<03:22,  1.02it/s]"
          ]
        },
        {
          "name": "stdout",
          "output_type": "stream",
          "text": [
            "Generated answer:  1: The measure of the difference between the actual\n",
            "Answer ID: 1\n"
          ]
        },
        {
          "name": "stderr",
          "output_type": "stream",
          "text": [
            "Processing questions:  44%|████▍     | 161/366 [02:38<03:24,  1.00it/s]"
          ]
        },
        {
          "name": "stdout",
          "output_type": "stream",
          "text": [
            "Generated answer:  4: If the active DL BWP and initial\n",
            "Answer ID: 4\n"
          ]
        },
        {
          "name": "stderr",
          "output_type": "stream",
          "text": [
            "Processing questions:  44%|████▍     | 162/366 [02:39<03:21,  1.01it/s]"
          ]
        },
        {
          "name": "stdout",
          "output_type": "stream",
          "text": [
            "Generated answer:  5: Before each transmission\n",
            "Explanation:\n",
            "Answer ID: 5\n"
          ]
        },
        {
          "name": "stderr",
          "output_type": "stream",
          "text": [
            "Processing questions:  45%|████▍     | 163/366 [02:40<03:19,  1.02it/s]"
          ]
        },
        {
          "name": "stdout",
          "output_type": "stream",
          "text": [
            "Generated answer:  3: 0.05 ppm\n",
            "Explanation\n",
            "Answer ID: 3\n"
          ]
        },
        {
          "name": "stderr",
          "output_type": "stream",
          "text": [
            "Processing questions:  45%|████▍     | 164/366 [02:41<03:17,  1.02it/s]"
          ]
        },
        {
          "name": "stdout",
          "output_type": "stream",
          "text": [
            "Generated answer:  3: LCS client\n",
            "Explanation: The\n",
            "Answer ID: 3\n"
          ]
        },
        {
          "name": "stderr",
          "output_type": "stream",
          "text": [
            "Processing questions:  45%|████▌     | 165/366 [02:42<03:19,  1.01it/s]"
          ]
        },
        {
          "name": "stdout",
          "output_type": "stream",
          "text": [
            "Generated answer:  1: To provide data transport service for basic road\n",
            "Answer ID: 1\n"
          ]
        },
        {
          "name": "stderr",
          "output_type": "stream",
          "text": [
            "Processing questions:  45%|████▌     | 166/366 [02:43<03:19,  1.00it/s]"
          ]
        },
        {
          "name": "stdout",
          "output_type": "stream",
          "text": [
            "Generated answer:  5: To facilitate user access to PLMN IP\n",
            "Answer ID: 5\n"
          ]
        },
        {
          "name": "stderr",
          "output_type": "stream",
          "text": [
            "Processing questions:  46%|████▌     | 167/366 [02:44<03:30,  1.06s/it]"
          ]
        },
        {
          "name": "stdout",
          "output_type": "stream",
          "text": [
            "Generated answer:  1: Semi-static CFI configuration, PR\n",
            "Answer ID: 1\n"
          ]
        },
        {
          "name": "stderr",
          "output_type": "stream",
          "text": [
            "Processing questions:  46%|████▌     | 168/366 [02:45<03:22,  1.02s/it]"
          ]
        },
        {
          "name": "stdout",
          "output_type": "stream",
          "text": [
            "Generated answer:  3: Ndccf interface\n",
            "Explan\n",
            "Answer ID: 3\n"
          ]
        },
        {
          "name": "stderr",
          "output_type": "stream",
          "text": [
            "Processing questions:  46%|████▌     | 169/366 [02:46<03:17,  1.00s/it]"
          ]
        },
        {
          "name": "stdout",
          "output_type": "stream",
          "text": [
            "Generated answer:  5: A procedure allowing data and/or signalling\n",
            "Answer ID: 5\n"
          ]
        },
        {
          "name": "stderr",
          "output_type": "stream",
          "text": [
            "Processing questions:  46%|████▋     | 170/366 [02:47<03:12,  1.02it/s]"
          ]
        },
        {
          "name": "stdout",
          "output_type": "stream",
          "text": [
            "Generated answer:  3: To indicate that both direct and PCF\n",
            "Answer ID: 3\n"
          ]
        },
        {
          "name": "stderr",
          "output_type": "stream",
          "text": [
            "Processing questions:  47%|████▋     | 171/366 [02:48<03:12,  1.01it/s]"
          ]
        },
        {
          "name": "stdout",
          "output_type": "stream",
          "text": [
            "Generated answer:  3: Both option 1 and option 2\n",
            "Ex\n",
            "Answer ID: 3\n"
          ]
        },
        {
          "name": "stderr",
          "output_type": "stream",
          "text": [
            "Processing questions:  47%|████▋     | 172/366 [02:49<03:10,  1.02it/s]"
          ]
        },
        {
          "name": "stdout",
          "output_type": "stream",
          "text": [
            "Generated answer:  1: To monitor and control the number of registered\n",
            "Answer ID: 1\n"
          ]
        },
        {
          "name": "stderr",
          "output_type": "stream",
          "text": [
            "Processing questions:  47%|████▋     | 173/366 [02:50<03:09,  1.02it/s]"
          ]
        },
        {
          "name": "stdout",
          "output_type": "stream",
          "text": [
            "Generated answer:  2: Local/Edge CHF deployment\n",
            "Ex\n",
            "Answer ID: 2\n"
          ]
        },
        {
          "name": "stderr",
          "output_type": "stream",
          "text": [
            "Processing questions:  48%|████▊     | 174/366 [02:51<03:10,  1.01it/s]"
          ]
        },
        {
          "name": "stdout",
          "output_type": "stream",
          "text": [
            "Generated answer:  5: Flexible network operations\n",
            "Explanation\n",
            "Answer ID: 5\n"
          ]
        },
        {
          "name": "stderr",
          "output_type": "stream",
          "text": [
            "Processing questions:  48%|████▊     | 175/366 [02:52<03:08,  1.01it/s]"
          ]
        },
        {
          "name": "stdout",
          "output_type": "stream",
          "text": [
            "Generated answer:  3: To register collected data or analytics with the\n",
            "Answer ID: 3\n"
          ]
        },
        {
          "name": "stderr",
          "output_type": "stream",
          "text": [
            "Processing questions:  48%|████▊     | 176/366 [02:53<03:11,  1.01s/it]"
          ]
        },
        {
          "name": "stdout",
          "output_type": "stream",
          "text": [
            "Generated answer:  5: SFI-RNTI\n",
            "Ex\n",
            "Answer ID: 5\n"
          ]
        },
        {
          "name": "stderr",
          "output_type": "stream",
          "text": [
            "Processing questions:  48%|████▊     | 177/366 [02:54<03:10,  1.01s/it]"
          ]
        },
        {
          "name": "stdout",
          "output_type": "stream",
          "text": [
            "Generated answer:  3: To notify the home environment of ME changes\n",
            "Answer ID: 3\n"
          ]
        },
        {
          "name": "stderr",
          "output_type": "stream",
          "text": [
            "Processing questions:  49%|████▊     | 178/366 [02:55<03:07,  1.01it/s]"
          ]
        },
        {
          "name": "stdout",
          "output_type": "stream",
          "text": [
            "Generated answer:  3: Both IP based and non-IP based\n",
            "Answer ID: 3\n"
          ]
        },
        {
          "name": "stderr",
          "output_type": "stream",
          "text": [
            "Processing questions:  49%|████▉     | 179/366 [02:56<03:03,  1.02it/s]"
          ]
        },
        {
          "name": "stdout",
          "output_type": "stream",
          "text": [
            "Generated answer:  3: Control of privacy for each location request\n",
            "\n",
            "Answer ID: 3\n"
          ]
        },
        {
          "name": "stderr",
          "output_type": "stream",
          "text": [
            "Processing questions:  49%|████▉     | 180/366 [02:57<03:00,  1.03it/s]"
          ]
        },
        {
          "name": "stdout",
          "output_type": "stream",
          "text": [
            "Generated answer:  5: AMF Name\n",
            "Explanation:\n",
            "Answer ID: 5\n"
          ]
        },
        {
          "name": "stderr",
          "output_type": "stream",
          "text": [
            "Processing questions:  49%|████▉     | 181/366 [02:58<02:58,  1.04it/s]"
          ]
        },
        {
          "name": "stdout",
          "output_type": "stream",
          "text": [
            "Generated answer:  2: 7 messages per second\n",
            "Explanation\n",
            "Answer ID: 2\n"
          ]
        },
        {
          "name": "stderr",
          "output_type": "stream",
          "text": [
            "Processing questions:  50%|████▉     | 182/366 [02:59<02:59,  1.02it/s]"
          ]
        },
        {
          "name": "stdout",
          "output_type": "stream",
          "text": [
            "Generated answer:  1: TS 36.211: Physical channels and\n",
            "Answer ID: 1\n"
          ]
        },
        {
          "name": "stderr",
          "output_type": "stream",
          "text": [
            "Processing questions:  50%|█████     | 183/366 [03:00<03:00,  1.01it/s]"
          ]
        },
        {
          "name": "stdout",
          "output_type": "stream",
          "text": [
            "Generated answer:  4: When a partial or temporary PLMN restriction\n",
            "Answer ID: 4\n"
          ]
        },
        {
          "name": "stderr",
          "output_type": "stream",
          "text": [
            "Processing questions:  50%|█████     | 184/366 [03:01<03:00,  1.01it/s]"
          ]
        },
        {
          "name": "stdout",
          "output_type": "stream",
          "text": [
            "Generated answer:  3: TS 23.285\n",
            "Explanation\n",
            "Answer ID: 3\n"
          ]
        },
        {
          "name": "stderr",
          "output_type": "stream",
          "text": [
            "Processing questions:  51%|█████     | 185/366 [03:02<02:54,  1.04it/s]"
          ]
        },
        {
          "name": "stdout",
          "output_type": "stream",
          "text": [
            "Generated answer:  3: Service Invocation, Authorization, End-\n",
            "Answer ID: 3\n"
          ]
        },
        {
          "name": "stderr",
          "output_type": "stream",
          "text": [
            "Processing questions:  51%|█████     | 186/366 [03:03<02:56,  1.02it/s]"
          ]
        },
        {
          "name": "stdout",
          "output_type": "stream",
          "text": [
            "Generated answer:  5: P-RNTI\n",
            "Explan\n",
            "Answer ID: 5\n"
          ]
        },
        {
          "name": "stderr",
          "output_type": "stream",
          "text": [
            "Processing questions:  51%|█████     | 187/366 [03:04<02:50,  1.05it/s]"
          ]
        },
        {
          "name": "stdout",
          "output_type": "stream",
          "text": [
            "Generated answer:  4: All of the above\n",
            "Explanation\n",
            "Answer ID: 4\n"
          ]
        },
        {
          "name": "stderr",
          "output_type": "stream",
          "text": [
            "Processing questions:  51%|█████▏    | 188/366 [03:05<02:51,  1.04it/s]"
          ]
        },
        {
          "name": "stdout",
          "output_type": "stream",
          "text": [
            "Generated answer:  4: During active-time and before the on\n",
            "Answer ID: 4\n"
          ]
        },
        {
          "name": "stderr",
          "output_type": "stream",
          "text": [
            "Processing questions:  52%|█████▏    | 189/366 [03:06<02:48,  1.05it/s]"
          ]
        },
        {
          "name": "stdout",
          "output_type": "stream",
          "text": [
            "Generated answer:  5: 128\n",
            "Explanation: The maximum\n",
            "Answer ID: 5\n"
          ]
        },
        {
          "name": "stderr",
          "output_type": "stream",
          "text": [
            "Processing questions:  52%|█████▏    | 190/366 [03:07<02:49,  1.04it/s]"
          ]
        },
        {
          "name": "stdout",
          "output_type": "stream",
          "text": [
            "Generated answer:  1: PLMN selection and access network selection\n",
            "\n",
            "Answer ID: 1\n"
          ]
        },
        {
          "name": "stderr",
          "output_type": "stream",
          "text": [
            "Processing questions:  52%|█████▏    | 191/366 [03:08<02:50,  1.03it/s]"
          ]
        },
        {
          "name": "stdout",
          "output_type": "stream",
          "text": [
            "Generated answer:  1: Nnwdaf_AnalyticsSub\n",
            "Answer ID: 1\n"
          ]
        },
        {
          "name": "stderr",
          "output_type": "stream",
          "text": [
            "Processing questions:  52%|█████▏    | 192/366 [03:08<02:47,  1.04it/s]"
          ]
        },
        {
          "name": "stdout",
          "output_type": "stream",
          "text": [
            "Generated answer:  5: PC5-U\n",
            "Explanation\n",
            "Answer ID: 5\n"
          ]
        },
        {
          "name": "stderr",
          "output_type": "stream",
          "text": [
            "Processing questions:  53%|█████▎    | 193/366 [03:10<02:49,  1.02it/s]"
          ]
        },
        {
          "name": "stdout",
          "output_type": "stream",
          "text": [
            "Generated answer:  3: RRCResumeRequest message\n",
            "Ex\n",
            "Answer ID: 3\n"
          ]
        },
        {
          "name": "stderr",
          "output_type": "stream",
          "text": [
            "Processing questions:  53%|█████▎    | 194/366 [03:11<02:50,  1.01it/s]"
          ]
        },
        {
          "name": "stdout",
          "output_type": "stream",
          "text": [
            "Generated answer:  4: Storage Transaction Identifier or Unique ML Model\n",
            "Answer ID: 4\n"
          ]
        },
        {
          "name": "stderr",
          "output_type": "stream",
          "text": [
            "Processing questions:  53%|█████▎    | 195/366 [03:11<02:46,  1.02it/s]"
          ]
        },
        {
          "name": "stdout",
          "output_type": "stream",
          "text": [
            "Generated answer:  4: All of the above\n",
            "Explanation\n",
            "Answer ID: 4\n"
          ]
        },
        {
          "name": "stderr",
          "output_type": "stream",
          "text": [
            "Processing questions:  54%|█████▎    | 196/366 [03:12<02:47,  1.02it/s]"
          ]
        },
        {
          "name": "stdout",
          "output_type": "stream",
          "text": [
            "Generated answer:  5: To compute the rotation angles\n",
            "Explan\n",
            "Answer ID: 5\n"
          ]
        },
        {
          "name": "stderr",
          "output_type": "stream",
          "text": [
            "Processing questions:  54%|█████▍    | 197/366 [03:13<02:43,  1.03it/s]"
          ]
        },
        {
          "name": "stdout",
          "output_type": "stream",
          "text": [
            "Generated answer:  4: SCell dormancy.\n",
            "Explan\n",
            "Answer ID: 4\n"
          ]
        },
        {
          "name": "stderr",
          "output_type": "stream",
          "text": [
            "Processing questions:  54%|█████▍    | 198/366 [03:14<02:37,  1.07it/s]"
          ]
        },
        {
          "name": "stdout",
          "output_type": "stream",
          "text": [
            "Generated answer:  3: OFDM with Cyclic Prefix\n",
            "\n",
            "Answer ID: 3\n"
          ]
        },
        {
          "name": "stderr",
          "output_type": "stream",
          "text": [
            "Processing questions:  54%|█████▍    | 199/366 [03:15<02:36,  1.07it/s]"
          ]
        },
        {
          "name": "stdout",
          "output_type": "stream",
          "text": [
            "Generated answer:  2: To specify the Target of Analytics Reporting\n",
            "\n",
            "Answer ID: 2\n"
          ]
        },
        {
          "name": "stderr",
          "output_type": "stream",
          "text": [
            "Processing questions:  55%|█████▍    | 200/366 [03:16<02:37,  1.05it/s]"
          ]
        },
        {
          "name": "stdout",
          "output_type": "stream",
          "text": [
            "Generated answer:  4: To provide continuous service during and following changes\n",
            "Answer ID: 4\n"
          ]
        },
        {
          "name": "stderr",
          "output_type": "stream",
          "text": [
            "Processing questions:  55%|█████▍    | 201/366 [03:17<02:37,  1.04it/s]"
          ]
        },
        {
          "name": "stdout",
          "output_type": "stream",
          "text": [
            "Generated answer:  2: The OCS returns the reserved amount back\n",
            "Answer ID: 2\n"
          ]
        },
        {
          "name": "stderr",
          "output_type": "stream",
          "text": [
            "Processing questions:  55%|█████▌    | 202/366 [03:18<02:40,  1.02it/s]"
          ]
        },
        {
          "name": "stdout",
          "output_type": "stream",
          "text": [
            "Generated answer:  3: To enable a user to use different U\n",
            "Answer ID: 3\n"
          ]
        },
        {
          "name": "stderr",
          "output_type": "stream",
          "text": [
            "Processing questions:  55%|█████▌    | 203/366 [03:19<02:38,  1.03it/s]"
          ]
        },
        {
          "name": "stdout",
          "output_type": "stream",
          "text": [
            "Generated answer:  2: Stand-Alone (SA)\n",
            "\n",
            "Answer ID: 2\n"
          ]
        },
        {
          "name": "stderr",
          "output_type": "stream",
          "text": [
            "Processing questions:  56%|█████▌    | 204/366 [03:20<02:39,  1.01it/s]"
          ]
        },
        {
          "name": "stdout",
          "output_type": "stream",
          "text": [
            "Generated answer:  5: Tracking the availability of resource usage permission\n",
            "\n",
            "Answer ID: 5\n"
          ]
        },
        {
          "name": "stderr",
          "output_type": "stream",
          "text": [
            "Processing questions:  56%|█████▌    | 205/366 [03:21<02:40,  1.00it/s]"
          ]
        },
        {
          "name": "stdout",
          "output_type": "stream",
          "text": [
            "Generated answer:  5: Both UE level data and GTP metrics\n",
            "Answer ID: 5\n"
          ]
        },
        {
          "name": "stderr",
          "output_type": "stream",
          "text": [
            "Processing questions:  56%|█████▋    | 206/366 [03:22<02:39,  1.00it/s]"
          ]
        },
        {
          "name": "stdout",
          "output_type": "stream",
          "text": [
            "Generated answer:  5: UE Group ID\n",
            "Explanation:\n",
            "Answer ID: 5\n"
          ]
        },
        {
          "name": "stderr",
          "output_type": "stream",
          "text": [
            "Processing questions:  57%|█████▋    | 207/366 [03:23<02:39,  1.00s/it]"
          ]
        },
        {
          "name": "stdout",
          "output_type": "stream",
          "text": [
            "Generated answer:  2: RAN, SA, and CT\n",
            "\n",
            "Answer ID: 2\n"
          ]
        },
        {
          "name": "stderr",
          "output_type": "stream",
          "text": [
            "Processing questions:  57%|█████▋    | 208/366 [03:24<02:33,  1.03it/s]"
          ]
        },
        {
          "name": "stdout",
          "output_type": "stream",
          "text": [
            "Generated answer:  3: ±2.2 dB\n",
            "Explan\n",
            "Answer ID: 3\n"
          ]
        },
        {
          "name": "stderr",
          "output_type": "stream",
          "text": [
            "Processing questions:  57%|█████▋    | 209/366 [03:25<02:32,  1.03it/s]"
          ]
        },
        {
          "name": "stdout",
          "output_type": "stream",
          "text": [
            "Generated answer:  1: Use of UE-to-network relay\n",
            "Answer ID: 1\n"
          ]
        },
        {
          "name": "stderr",
          "output_type": "stream",
          "text": [
            "Processing questions:  57%|█████▋    | 210/366 [03:26<02:31,  1.03it/s]"
          ]
        },
        {
          "name": "stdout",
          "output_type": "stream",
          "text": [
            "Generated answer:  2: Networks intended for the sole use of a\n",
            "Answer ID: 2\n"
          ]
        },
        {
          "name": "stderr",
          "output_type": "stream",
          "text": [
            "Processing questions:  58%|█████▊    | 211/366 [03:27<02:30,  1.03it/s]"
          ]
        },
        {
          "name": "stdout",
          "output_type": "stream",
          "text": [
            "Generated answer:  2: Both the originating and terminating application will be\n",
            "Answer ID: 2\n"
          ]
        },
        {
          "name": "stderr",
          "output_type": "stream",
          "text": [
            "Processing questions:  58%|█████▊    | 212/366 [03:28<02:24,  1.06it/s]"
          ]
        },
        {
          "name": "stdout",
          "output_type": "stream",
          "text": [
            "Generated answer:  3: Secondary Cell Group\n",
            "Explanation:\n",
            "Answer ID: 3\n"
          ]
        },
        {
          "name": "stderr",
          "output_type": "stream",
          "text": [
            "Processing questions:  58%|█████▊    | 213/366 [03:29<02:24,  1.06it/s]"
          ]
        },
        {
          "name": "stdout",
          "output_type": "stream",
          "text": [
            "Generated answer:  1: IMEI checking for stolen devices\n",
            "\n",
            "Answer ID: 1\n"
          ]
        },
        {
          "name": "stderr",
          "output_type": "stream",
          "text": [
            "Processing questions:  58%|█████▊    | 214/366 [03:30<02:24,  1.05it/s]"
          ]
        },
        {
          "name": "stdout",
          "output_type": "stream",
          "text": [
            "Generated answer:  1: Non-Stand Alone (NSA) and\n",
            "Answer ID: 1\n"
          ]
        },
        {
          "name": "stderr",
          "output_type": "stream",
          "text": [
            "Processing questions:  59%|█████▊    | 215/366 [03:31<02:24,  1.04it/s]"
          ]
        },
        {
          "name": "stdout",
          "output_type": "stream",
          "text": [
            "Generated answer:  2: A UE that can use multiple USIM\n",
            "Answer ID: 2\n"
          ]
        },
        {
          "name": "stderr",
          "output_type": "stream",
          "text": [
            "Processing questions:  59%|█████▉    | 216/366 [03:32<02:23,  1.04it/s]"
          ]
        },
        {
          "name": "stdout",
          "output_type": "stream",
          "text": [
            "Generated answer:  4: UDR\n",
            "Explanation: The\n",
            "Answer ID: 4\n"
          ]
        },
        {
          "name": "stderr",
          "output_type": "stream",
          "text": [
            "Processing questions:  59%|█████▉    | 217/366 [03:33<02:25,  1.03it/s]"
          ]
        },
        {
          "name": "stdout",
          "output_type": "stream",
          "text": [
            "Generated answer:  1: TS 24.386\n",
            "Explanation\n",
            "Answer ID: 1\n"
          ]
        },
        {
          "name": "stderr",
          "output_type": "stream",
          "text": [
            "Processing questions:  60%|█████▉    | 218/366 [03:34<02:25,  1.02it/s]"
          ]
        },
        {
          "name": "stdout",
          "output_type": "stream",
          "text": [
            "Generated answer:  2: Obtaining its own geographical location or transferring\n",
            "Answer ID: 2\n"
          ]
        },
        {
          "name": "stderr",
          "output_type": "stream",
          "text": [
            "Processing questions:  60%|█████▉    | 219/366 [03:35<02:20,  1.05it/s]"
          ]
        },
        {
          "name": "stdout",
          "output_type": "stream",
          "text": [
            "Generated answer:  3: Multiple\n",
            "Explanation: The number\n",
            "Answer ID: 3\n"
          ]
        },
        {
          "name": "stderr",
          "output_type": "stream",
          "text": [
            "Processing questions:  60%|██████    | 220/366 [03:36<02:16,  1.07it/s]"
          ]
        },
        {
          "name": "stdout",
          "output_type": "stream",
          "text": [
            "Generated answer:  2: QCI 3 and QCI 75\n",
            "\n",
            "Answer ID: 2\n"
          ]
        },
        {
          "name": "stderr",
          "output_type": "stream",
          "text": [
            "Processing questions:  60%|██████    | 221/366 [03:36<02:16,  1.07it/s]"
          ]
        },
        {
          "name": "stdout",
          "output_type": "stream",
          "text": [
            "Generated answer:  4: All of the above\n",
            "Explanation\n",
            "Answer ID: 4\n"
          ]
        },
        {
          "name": "stderr",
          "output_type": "stream",
          "text": [
            "Processing questions:  61%|██████    | 222/366 [03:37<02:15,  1.06it/s]"
          ]
        },
        {
          "name": "stdout",
          "output_type": "stream",
          "text": [
            "Generated answer:  2: They are in consecutive symbols\n",
            "Explan\n",
            "Answer ID: 2\n"
          ]
        },
        {
          "name": "stderr",
          "output_type": "stream",
          "text": [
            "Processing questions:  61%|██████    | 223/366 [03:38<02:14,  1.06it/s]"
          ]
        },
        {
          "name": "stdout",
          "output_type": "stream",
          "text": [
            "Generated answer:  3: TS 22.119\n",
            "Explan\n",
            "Answer ID: 3\n"
          ]
        },
        {
          "name": "stderr",
          "output_type": "stream",
          "text": [
            "Processing questions:  61%|██████    | 224/366 [03:39<02:14,  1.06it/s]"
          ]
        },
        {
          "name": "stdout",
          "output_type": "stream",
          "text": [
            "Generated answer:  3: The resource usage is debited from the\n",
            "Answer ID: 3\n"
          ]
        },
        {
          "name": "stderr",
          "output_type": "stream",
          "text": [
            "Processing questions:  61%|██████▏   | 225/366 [03:40<02:15,  1.04it/s]"
          ]
        },
        {
          "name": "stdout",
          "output_type": "stream",
          "text": [
            "Generated answer:  3: IMSI retrieved from another SGS\n",
            "Answer ID: 3\n"
          ]
        },
        {
          "name": "stderr",
          "output_type": "stream",
          "text": [
            "Processing questions:  62%|██████▏   | 226/366 [03:41<02:20,  1.00s/it]"
          ]
        },
        {
          "name": "stdout",
          "output_type": "stream",
          "text": [
            "Generated answer:  3: To request the release of the bearer context\n",
            "Answer ID: 3\n"
          ]
        },
        {
          "name": "stderr",
          "output_type": "stream",
          "text": [
            "Processing questions:  62%|██████▏   | 227/366 [03:42<02:20,  1.01s/it]"
          ]
        },
        {
          "name": "stdout",
          "output_type": "stream",
          "text": [
            "Generated answer:  2: Unacknowledged Mode (UM)\n",
            "Answer ID: 2\n"
          ]
        },
        {
          "name": "stderr",
          "output_type": "stream",
          "text": [
            "Processing questions:  62%|██████▏   | 228/366 [03:43<02:16,  1.01it/s]"
          ]
        },
        {
          "name": "stdout",
          "output_type": "stream",
          "text": [
            "Generated answer:  1: Any type of analytics\n",
            "Explanation\n",
            "Answer ID: 1\n"
          ]
        },
        {
          "name": "stderr",
          "output_type": "stream",
          "text": [
            "Processing questions:  63%|██████▎   | 229/366 [03:44<02:16,  1.00it/s]"
          ]
        },
        {
          "name": "stdout",
          "output_type": "stream",
          "text": [
            "Generated answer:  5: Based on preferences of service delivery within the\n",
            "Answer ID: 5\n"
          ]
        },
        {
          "name": "stderr",
          "output_type": "stream",
          "text": [
            "Processing questions:  63%|██████▎   | 230/366 [03:45<02:13,  1.02it/s]"
          ]
        },
        {
          "name": "stdout",
          "output_type": "stream",
          "text": [
            "Generated answer:  4: Vehicle-to-Vehicle\n",
            "Ex\n",
            "Answer ID: 4\n"
          ]
        },
        {
          "name": "stderr",
          "output_type": "stream",
          "text": [
            "Processing questions:  63%|██████▎   | 231/366 [03:46<02:10,  1.03it/s]"
          ]
        },
        {
          "name": "stdout",
          "output_type": "stream",
          "text": [
            "Generated answer:  1: S1 interface\n",
            "Explanation:\n",
            "Answer ID: 1\n"
          ]
        },
        {
          "name": "stderr",
          "output_type": "stream",
          "text": [
            "Processing questions:  63%|██████▎   | 232/366 [03:47<02:09,  1.03it/s]"
          ]
        },
        {
          "name": "stdout",
          "output_type": "stream",
          "text": [
            "Generated answer:  3: Both licensed and unlicensed spectrum.\n",
            "\n",
            "Answer ID: 3\n"
          ]
        },
        {
          "name": "stderr",
          "output_type": "stream",
          "text": [
            "Processing questions:  64%|██████▎   | 233/366 [03:48<02:08,  1.04it/s]"
          ]
        },
        {
          "name": "stdout",
          "output_type": "stream",
          "text": [
            "Generated answer:  2: To describe the supported MnS components and\n",
            "Answer ID: 2\n"
          ]
        },
        {
          "name": "stderr",
          "output_type": "stream",
          "text": [
            "Processing questions:  64%|██████▍   | 234/366 [03:49<02:07,  1.04it/s]"
          ]
        },
        {
          "name": "stdout",
          "output_type": "stream",
          "text": [
            "Generated answer:  4: To go back to sleep after a period\n",
            "Answer ID: 4\n"
          ]
        },
        {
          "name": "stderr",
          "output_type": "stream",
          "text": [
            "Processing questions:  64%|██████▍   | 235/366 [03:50<02:08,  1.02it/s]"
          ]
        },
        {
          "name": "stdout",
          "output_type": "stream",
          "text": [
            "Generated answer:  3: G-CS-RNTI\n",
            "\n",
            "Answer ID: 3\n"
          ]
        },
        {
          "name": "stderr",
          "output_type": "stream",
          "text": [
            "Processing questions:  64%|██████▍   | 236/366 [03:51<02:09,  1.00it/s]"
          ]
        },
        {
          "name": "stdout",
          "output_type": "stream",
          "text": [
            "Generated answer:  1: The NEF invokes the Nne\n",
            "Answer ID: 1\n"
          ]
        },
        {
          "name": "stderr",
          "output_type": "stream",
          "text": [
            "Processing questions:  65%|██████▍   | 237/366 [03:52<02:09,  1.00s/it]"
          ]
        },
        {
          "name": "stdout",
          "output_type": "stream",
          "text": [
            "Generated answer:  4: All of the above\n",
            "Explanation\n",
            "Answer ID: 4\n"
          ]
        },
        {
          "name": "stderr",
          "output_type": "stream",
          "text": [
            "Processing questions:  65%|██████▌   | 238/366 [03:53<02:09,  1.01s/it]"
          ]
        },
        {
          "name": "stdout",
          "output_type": "stream",
          "text": [
            "Generated answer:  3: Based on the number of resource blocks for\n",
            "Answer ID: 3\n"
          ]
        },
        {
          "name": "stderr",
          "output_type": "stream",
          "text": [
            "Processing questions:  65%|██████▌   | 239/366 [03:54<02:08,  1.01s/it]"
          ]
        },
        {
          "name": "stdout",
          "output_type": "stream",
          "text": [
            "Generated answer:  5: Identity of the cell serving the UE\n",
            "\n",
            "Answer ID: 5\n"
          ]
        },
        {
          "name": "stderr",
          "output_type": "stream",
          "text": [
            "Processing questions:  66%|██████▌   | 240/366 [03:55<02:05,  1.01it/s]"
          ]
        },
        {
          "name": "stdout",
          "output_type": "stream",
          "text": [
            "Generated answer:  1: 3GPP TS 22.263\n",
            "\n",
            "Answer ID: 1\n"
          ]
        },
        {
          "name": "stderr",
          "output_type": "stream",
          "text": [
            "Processing questions:  66%|██████▌   | 241/366 [03:56<02:05,  1.01s/it]"
          ]
        },
        {
          "name": "stdout",
          "output_type": "stream",
          "text": [
            "Generated answer:  5: All of the above\n",
            "Explanation\n",
            "Answer ID: 5\n"
          ]
        },
        {
          "name": "stderr",
          "output_type": "stream",
          "text": [
            "Processing questions:  66%|██████▌   | 242/366 [03:57<02:04,  1.01s/it]"
          ]
        },
        {
          "name": "stdout",
          "output_type": "stream",
          "text": [
            "Generated answer:  5: Charging Function (CHF)\n",
            "\n",
            "Answer ID: 5\n"
          ]
        },
        {
          "name": "stderr",
          "output_type": "stream",
          "text": [
            "Processing questions:  66%|██████▋   | 243/366 [03:58<02:04,  1.01s/it]"
          ]
        },
        {
          "name": "stdout",
          "output_type": "stream",
          "text": [
            "Generated answer:  4: TS 36.214: Physical layer –\n",
            "Answer ID: 4\n"
          ]
        },
        {
          "name": "stderr",
          "output_type": "stream",
          "text": [
            "Processing questions:  67%|██████▋   | 244/366 [03:59<02:03,  1.02s/it]"
          ]
        },
        {
          "name": "stdout",
          "output_type": "stream",
          "text": [
            "Generated answer:  5: AI/ML operation splitting between AI/\n",
            "Answer ID: 5\n"
          ]
        },
        {
          "name": "stderr",
          "output_type": "stream",
          "text": [
            "Processing questions:  67%|██████▋   | 245/366 [04:00<02:03,  1.02s/it]"
          ]
        },
        {
          "name": "stdout",
          "output_type": "stream",
          "text": [
            "Generated answer:  5: To establish redundant paths in the IAB\n",
            "Answer ID: 5\n"
          ]
        },
        {
          "name": "stderr",
          "output_type": "stream",
          "text": [
            "Processing questions:  67%|██████▋   | 246/366 [04:01<02:02,  1.02s/it]"
          ]
        },
        {
          "name": "stdout",
          "output_type": "stream",
          "text": [
            "Generated answer:  2: To store information about broadcast and multicast\n",
            "Answer ID: 2\n"
          ]
        },
        {
          "name": "stderr",
          "output_type": "stream",
          "text": [
            "Processing questions:  67%|██████▋   | 247/366 [04:02<02:00,  1.02s/it]"
          ]
        },
        {
          "name": "stdout",
          "output_type": "stream",
          "text": [
            "Generated answer:  3: RRCReconfigurationCompleteS\n",
            "Answer ID: 3\n"
          ]
        },
        {
          "name": "stderr",
          "output_type": "stream",
          "text": [
            "Processing questions:  68%|██████▊   | 248/366 [04:03<01:59,  1.01s/it]"
          ]
        },
        {
          "name": "stdout",
          "output_type": "stream",
          "text": [
            "Generated answer:  2: A feature that allows a UE to utilize\n",
            "Answer ID: 2\n"
          ]
        },
        {
          "name": "stderr",
          "output_type": "stream",
          "text": [
            "Processing questions:  68%|██████▊   | 249/366 [04:04<01:54,  1.02it/s]"
          ]
        },
        {
          "name": "stdout",
          "output_type": "stream",
          "text": [
            "Generated answer:  3: To minimize service interruption in disaster conditions.\n",
            "Answer ID: 3\n"
          ]
        },
        {
          "name": "stderr",
          "output_type": "stream",
          "text": [
            "Processing questions:  68%|██████▊   | 250/366 [04:05<01:52,  1.03it/s]"
          ]
        },
        {
          "name": "stdout",
          "output_type": "stream",
          "text": [
            "Generated answer:  4: Line of sight\n",
            "Explanation:\n",
            "Answer ID: 4\n"
          ]
        },
        {
          "name": "stderr",
          "output_type": "stream",
          "text": [
            "Processing questions:  69%|██████▊   | 251/366 [04:06<01:50,  1.04it/s]"
          ]
        },
        {
          "name": "stdout",
          "output_type": "stream",
          "text": [
            "Generated answer:  4: SA3\n",
            "Explanation: The\n",
            "Answer ID: 4\n"
          ]
        },
        {
          "name": "stderr",
          "output_type": "stream",
          "text": [
            "Processing questions:  69%|██████▉   | 252/366 [04:07<01:51,  1.02it/s]"
          ]
        },
        {
          "name": "stdout",
          "output_type": "stream",
          "text": [
            "Generated answer:  1: Free-to-air (FTA\n",
            "Answer ID: 1\n"
          ]
        },
        {
          "name": "stderr",
          "output_type": "stream",
          "text": [
            "Processing questions:  69%|██████▉   | 253/366 [04:08<01:50,  1.03it/s]"
          ]
        },
        {
          "name": "stdout",
          "output_type": "stream",
          "text": [
            "Generated answer:  1: Yes\n",
            "Explanation: The UE\n",
            "Answer ID: 1\n"
          ]
        },
        {
          "name": "stderr",
          "output_type": "stream",
          "text": [
            "Processing questions:  69%|██████▉   | 254/366 [04:09<01:48,  1.04it/s]"
          ]
        },
        {
          "name": "stdout",
          "output_type": "stream",
          "text": [
            "Generated answer:  2: L2 and L3 based UE-\n",
            "Answer ID: 2\n"
          ]
        },
        {
          "name": "stderr",
          "output_type": "stream",
          "text": [
            "Processing questions:  70%|██████▉   | 255/366 [04:10<01:48,  1.02it/s]"
          ]
        },
        {
          "name": "stdout",
          "output_type": "stream",
          "text": [
            "Generated answer:  1: 15 kHz\n",
            "Explanation: The\n",
            "Answer ID: 1\n"
          ]
        },
        {
          "name": "stderr",
          "output_type": "stream",
          "text": [
            "Processing questions:  70%|██████▉   | 256/366 [04:11<01:48,  1.01it/s]"
          ]
        },
        {
          "name": "stdout",
          "output_type": "stream",
          "text": [
            "Generated answer:  4: HandoverPreparationInformation\n",
            "Ex\n",
            "Answer ID: 4\n"
          ]
        },
        {
          "name": "stderr",
          "output_type": "stream",
          "text": [
            "Processing questions:  70%|███████   | 257/366 [04:12<01:48,  1.01it/s]"
          ]
        },
        {
          "name": "stdout",
          "output_type": "stream",
          "text": [
            "Generated answer:  3: TS 23.558\n",
            "Explanation\n",
            "Answer ID: 3\n"
          ]
        },
        {
          "name": "stderr",
          "output_type": "stream",
          "text": [
            "Processing questions:  70%|███████   | 258/366 [04:13<01:46,  1.01it/s]"
          ]
        },
        {
          "name": "stdout",
          "output_type": "stream",
          "text": [
            "Generated answer:  4: To provide Target NSSAI and RF\n",
            "Answer ID: 4\n"
          ]
        },
        {
          "name": "stderr",
          "output_type": "stream",
          "text": [
            "Processing questions:  71%|███████   | 259/366 [04:14<01:46,  1.00it/s]"
          ]
        },
        {
          "name": "stdout",
          "output_type": "stream",
          "text": [
            "Generated answer:  5: Fraunhofer HHI\n",
            "Ex\n",
            "Answer ID: 5\n"
          ]
        },
        {
          "name": "stderr",
          "output_type": "stream",
          "text": [
            "Processing questions:  71%|███████   | 260/366 [04:15<01:45,  1.00it/s]"
          ]
        },
        {
          "name": "stdout",
          "output_type": "stream",
          "text": [
            "Generated answer:  3: To optimize PLMN search using stored information\n",
            "Answer ID: 3\n"
          ]
        },
        {
          "name": "stderr",
          "output_type": "stream",
          "text": [
            "Processing questions:  71%|███████▏  | 261/366 [04:16<01:43,  1.02it/s]"
          ]
        },
        {
          "name": "stdout",
          "output_type": "stream",
          "text": [
            "Generated answer:  1: To provide multimedia telephony communications\n",
            "Ex\n",
            "Answer ID: 1\n"
          ]
        },
        {
          "name": "stderr",
          "output_type": "stream",
          "text": [
            "Processing questions:  72%|███████▏  | 262/366 [04:17<01:43,  1.00it/s]"
          ]
        },
        {
          "name": "stdout",
          "output_type": "stream",
          "text": [
            "Generated answer:  5: To notify upper layers in the UE about\n",
            "Answer ID: 5\n"
          ]
        },
        {
          "name": "stderr",
          "output_type": "stream",
          "text": [
            "Processing questions:  72%|███████▏  | 263/366 [04:18<01:39,  1.04it/s]"
          ]
        },
        {
          "name": "stdout",
          "output_type": "stream",
          "text": [
            "Generated answer:  2: To determine peak data rates\n",
            "Explan\n",
            "Answer ID: 2\n"
          ]
        },
        {
          "name": "stderr",
          "output_type": "stream",
          "text": [
            "Processing questions:  72%|███████▏  | 264/366 [04:19<01:37,  1.05it/s]"
          ]
        },
        {
          "name": "stdout",
          "output_type": "stream",
          "text": [
            "Generated answer:  1: Yes\n",
            "Explanation: The home\n",
            "Answer ID: 1\n"
          ]
        },
        {
          "name": "stderr",
          "output_type": "stream",
          "text": [
            "Processing questions:  72%|███████▏  | 265/366 [04:20<01:39,  1.02it/s]"
          ]
        },
        {
          "name": "stdout",
          "output_type": "stream",
          "text": [
            "Generated answer:  5: Activation of SIPTO@L\n",
            "Answer ID: 5\n"
          ]
        },
        {
          "name": "stderr",
          "output_type": "stream",
          "text": [
            "Processing questions:  73%|███████▎  | 266/366 [04:21<01:37,  1.02it/s]"
          ]
        },
        {
          "name": "stdout",
          "output_type": "stream",
          "text": [
            "Generated answer:  1: NF Instance IDs and NF Set IDs\n",
            "Answer ID: 1\n"
          ]
        },
        {
          "name": "stderr",
          "output_type": "stream",
          "text": [
            "Processing questions:  73%|███████▎  | 267/366 [04:22<01:36,  1.03it/s]"
          ]
        },
        {
          "name": "stdout",
          "output_type": "stream",
          "text": [
            "Generated answer:  2: Two lists for home PLMN and two\n",
            "Answer ID: 2\n"
          ]
        },
        {
          "name": "stderr",
          "output_type": "stream",
          "text": [
            "Processing questions:  73%|███████▎  | 268/366 [04:23<01:36,  1.01it/s]"
          ]
        },
        {
          "name": "stdout",
          "output_type": "stream",
          "text": [
            "Generated answer:  2: To separate the data from the application logic\n",
            "Answer ID: 2\n"
          ]
        },
        {
          "name": "stderr",
          "output_type": "stream",
          "text": [
            "Processing questions:  73%|███████▎  | 269/366 [04:24<01:36,  1.01it/s]"
          ]
        },
        {
          "name": "stdout",
          "output_type": "stream",
          "text": [
            "Generated answer:  2: It is set to the maximum EIR\n",
            "Answer ID: 2\n"
          ]
        },
        {
          "name": "stderr",
          "output_type": "stream",
          "text": [
            "Processing questions:  74%|███████▍  | 270/366 [04:25<01:33,  1.02it/s]"
          ]
        },
        {
          "name": "stdout",
          "output_type": "stream",
          "text": [
            "Generated answer:  4: All of the above\n",
            "Explanation\n",
            "Answer ID: 4\n"
          ]
        },
        {
          "name": "stderr",
          "output_type": "stream",
          "text": [
            "Processing questions:  74%|███████▍  | 271/366 [04:26<01:33,  1.01it/s]"
          ]
        },
        {
          "name": "stdout",
          "output_type": "stream",
          "text": [
            "Generated answer:  4: Signalling channel or media bearer\n",
            "Ex\n",
            "Answer ID: 4\n"
          ]
        },
        {
          "name": "stderr",
          "output_type": "stream",
          "text": [
            "Processing questions:  74%|███████▍  | 272/366 [04:27<01:31,  1.03it/s]"
          ]
        },
        {
          "name": "stdout",
          "output_type": "stream",
          "text": [
            "Generated answer:  4: V2P\n",
            "Explanation:\n",
            "Answer ID: 4\n"
          ]
        },
        {
          "name": "stderr",
          "output_type": "stream",
          "text": [
            "Processing questions:  75%|███████▍  | 273/366 [04:28<01:34,  1.02s/it]"
          ]
        },
        {
          "name": "stdout",
          "output_type": "stream",
          "text": [
            "Generated answer:  5: To reduce UE power consumption during idle mode\n",
            "Answer ID: 5\n"
          ]
        },
        {
          "name": "stderr",
          "output_type": "stream",
          "text": [
            "Processing questions:  75%|███████▍  | 274/366 [04:29<01:35,  1.03s/it]"
          ]
        },
        {
          "name": "stdout",
          "output_type": "stream",
          "text": [
            "Generated answer:  2: MAC sublayer\n",
            "Explanation:\n",
            "Answer ID: 2\n"
          ]
        },
        {
          "name": "stderr",
          "output_type": "stream",
          "text": [
            "Processing questions:  75%|███████▌  | 275/366 [04:30<01:32,  1.01s/it]"
          ]
        },
        {
          "name": "stdout",
          "output_type": "stream",
          "text": [
            "Generated answer:  1: Fixed Wireless Access (FWA) and\n",
            "Answer ID: 1\n"
          ]
        },
        {
          "name": "stderr",
          "output_type": "stream",
          "text": [
            "Processing questions:  75%|███████▌  | 276/366 [04:31<01:29,  1.00it/s]"
          ]
        },
        {
          "name": "stdout",
          "output_type": "stream",
          "text": [
            "Generated answer:  4: AF\n",
            "Explanation: The AF\n",
            "Answer ID: 4\n"
          ]
        },
        {
          "name": "stderr",
          "output_type": "stream",
          "text": [
            "Processing questions:  76%|███████▌  | 277/366 [04:32<01:29,  1.01s/it]"
          ]
        },
        {
          "name": "stdout",
          "output_type": "stream",
          "text": [
            "Generated answer:  2: To provide configurations to the Edge Enab\n",
            "Answer ID: 2\n"
          ]
        },
        {
          "name": "stderr",
          "output_type": "stream",
          "text": [
            "Processing questions:  76%|███████▌  | 278/366 [04:33<01:28,  1.00s/it]"
          ]
        },
        {
          "name": "stdout",
          "output_type": "stream",
          "text": [
            "Generated answer:  1: When the PLMN provides support for Period\n",
            "Answer ID: 1\n"
          ]
        },
        {
          "name": "stderr",
          "output_type": "stream",
          "text": [
            "Processing questions:  76%|███████▌  | 279/366 [04:34<01:29,  1.03s/it]"
          ]
        },
        {
          "name": "stdout",
          "output_type": "stream",
          "text": [
            "Generated answer:  1: To configure the logging of measurements performed by\n",
            "Answer ID: 1\n"
          ]
        },
        {
          "name": "stderr",
          "output_type": "stream",
          "text": [
            "Processing questions:  77%|███████▋  | 280/366 [04:35<01:28,  1.03s/it]"
          ]
        },
        {
          "name": "stdout",
          "output_type": "stream",
          "text": [
            "Generated answer:  4: Detection ambiguity caused by high Doppler\n",
            "Answer ID: 4\n"
          ]
        },
        {
          "name": "stderr",
          "output_type": "stream",
          "text": [
            "Processing questions:  77%|███████▋  | 281/366 [04:36<01:26,  1.02s/it]"
          ]
        },
        {
          "name": "stdout",
          "output_type": "stream",
          "text": [
            "Generated answer:  4: All of the above\n",
            "Explanation\n",
            "Answer ID: 4\n"
          ]
        },
        {
          "name": "stderr",
          "output_type": "stream",
          "text": [
            "Processing questions:  77%|███████▋  | 282/366 [04:37<01:23,  1.00it/s]"
          ]
        },
        {
          "name": "stdout",
          "output_type": "stream",
          "text": [
            "Generated answer:  4: Slot\n",
            "Explanation: The minimum\n",
            "Answer ID: 4\n"
          ]
        },
        {
          "name": "stderr",
          "output_type": "stream",
          "text": [
            "Processing questions:  77%|███████▋  | 283/366 [04:38<01:19,  1.04it/s]"
          ]
        },
        {
          "name": "stdout",
          "output_type": "stream",
          "text": [
            "Generated answer:  2: 100 kHz\n",
            "Explanation: The\n",
            "Answer ID: 2\n"
          ]
        },
        {
          "name": "stderr",
          "output_type": "stream",
          "text": [
            "Processing questions:  78%|███████▊  | 284/366 [04:39<01:18,  1.05it/s]"
          ]
        },
        {
          "name": "stdout",
          "output_type": "stream",
          "text": [
            "Generated answer:  1: A-interface\n",
            "Explanation:\n",
            "Answer ID: 1\n"
          ]
        },
        {
          "name": "stderr",
          "output_type": "stream",
          "text": [
            "Processing questions:  78%|███████▊  | 285/366 [04:40<01:18,  1.03it/s]"
          ]
        },
        {
          "name": "stdout",
          "output_type": "stream",
          "text": [
            "Generated answer:  3: To group equivalent NFs into interchangeable sets\n",
            "Answer ID: 3\n"
          ]
        },
        {
          "name": "stderr",
          "output_type": "stream",
          "text": [
            "Processing questions:  78%|███████▊  | 286/366 [04:41<01:17,  1.03it/s]"
          ]
        },
        {
          "name": "stdout",
          "output_type": "stream",
          "text": [
            "Generated answer:  1: Based on the Data Consumer's request\n",
            "\n",
            "Answer ID: 1\n"
          ]
        },
        {
          "name": "stderr",
          "output_type": "stream",
          "text": [
            "Processing questions:  78%|███████▊  | 287/366 [04:42<01:17,  1.02it/s]"
          ]
        },
        {
          "name": "stdout",
          "output_type": "stream",
          "text": [
            "Generated answer:  2: For Data Radio Bearers (DRBs\n",
            "Answer ID: 2\n"
          ]
        },
        {
          "name": "stderr",
          "output_type": "stream",
          "text": [
            "Processing questions:  79%|███████▊  | 288/366 [04:43<01:15,  1.03it/s]"
          ]
        },
        {
          "name": "stdout",
          "output_type": "stream",
          "text": [
            "Generated answer:  5: System Information\n",
            "Explanation: SI\n",
            "Answer ID: 5\n"
          ]
        },
        {
          "name": "stderr",
          "output_type": "stream",
          "text": [
            "Processing questions:  79%|███████▉  | 289/366 [04:44<01:16,  1.01it/s]"
          ]
        },
        {
          "name": "stdout",
          "output_type": "stream",
          "text": [
            "Generated answer:  5: To manage the trusted third-party owned\n",
            "Answer ID: 5\n"
          ]
        },
        {
          "name": "stderr",
          "output_type": "stream",
          "text": [
            "Processing questions:  79%|███████▉  | 290/366 [04:45<01:15,  1.00it/s]"
          ]
        },
        {
          "name": "stdout",
          "output_type": "stream",
          "text": [
            "Generated answer:  2: PLMN selection, cell selection and rese\n",
            "Answer ID: 2\n"
          ]
        },
        {
          "name": "stderr",
          "output_type": "stream",
          "text": [
            "Processing questions:  80%|███████▉  | 291/366 [04:46<01:15,  1.01s/it]"
          ]
        },
        {
          "name": "stdout",
          "output_type": "stream",
          "text": [
            "Generated answer:  1: Handles Registration Management and Connection Management state\n",
            "Answer ID: 1\n"
          ]
        },
        {
          "name": "stderr",
          "output_type": "stream",
          "text": [
            "Processing questions:  80%|███████▉  | 292/366 [04:47<01:14,  1.01s/it]"
          ]
        },
        {
          "name": "stdout",
          "output_type": "stream",
          "text": [
            "Generated answer:  2: TS 22.185\n",
            "Explanation\n",
            "Answer ID: 2\n"
          ]
        },
        {
          "name": "stderr",
          "output_type": "stream",
          "text": [
            "Processing questions:  80%|████████  | 293/366 [04:48<01:12,  1.01it/s]"
          ]
        },
        {
          "name": "stdout",
          "output_type": "stream",
          "text": [
            "Generated answer:  3: Inter-band (FR2+FR\n",
            "Answer ID: 3\n"
          ]
        },
        {
          "name": "stderr",
          "output_type": "stream",
          "text": [
            "Processing questions:  80%|████████  | 294/366 [04:49<01:12,  1.00s/it]"
          ]
        },
        {
          "name": "stdout",
          "output_type": "stream",
          "text": [
            "Generated answer:  4: To enable access to non-public networks\n",
            "Answer ID: 4\n"
          ]
        },
        {
          "name": "stderr",
          "output_type": "stream",
          "text": [
            "Processing questions:  81%|████████  | 295/366 [04:50<01:10,  1.00it/s]"
          ]
        },
        {
          "name": "stdout",
          "output_type": "stream",
          "text": [
            "Generated answer:  2: CI-RNTI\n",
            "Explan\n",
            "Answer ID: 2\n"
          ]
        },
        {
          "name": "stderr",
          "output_type": "stream",
          "text": [
            "Processing questions:  81%|████████  | 296/366 [04:51<01:07,  1.04it/s]"
          ]
        },
        {
          "name": "stdout",
          "output_type": "stream",
          "text": [
            "Generated answer:  2: The capacity of an AMF node relative\n",
            "Answer ID: 2\n"
          ]
        },
        {
          "name": "stderr",
          "output_type": "stream",
          "text": [
            "Processing questions:  81%|████████  | 297/366 [04:52<01:06,  1.03it/s]"
          ]
        },
        {
          "name": "stdout",
          "output_type": "stream",
          "text": [
            "Generated answer:  4: To indicate the time for which monitoring event\n",
            "Answer ID: 4\n"
          ]
        },
        {
          "name": "stderr",
          "output_type": "stream",
          "text": [
            "Processing questions:  81%|████████▏ | 298/366 [04:53<01:06,  1.02it/s]"
          ]
        },
        {
          "name": "stdout",
          "output_type": "stream",
          "text": [
            "Generated answer:  1: Subscription Correlation ID\n",
            "Explan\n",
            "Answer ID: 1\n"
          ]
        },
        {
          "name": "stderr",
          "output_type": "stream",
          "text": [
            "Processing questions:  82%|████████▏ | 299/366 [04:54<01:03,  1.05it/s]"
          ]
        },
        {
          "name": "stdout",
          "output_type": "stream",
          "text": [
            "Generated answer:  3: Client/Server\n",
            "Explanation:\n",
            "Answer ID: 3\n"
          ]
        },
        {
          "name": "stderr",
          "output_type": "stream",
          "text": [
            "Processing questions:  82%|████████▏ | 300/366 [04:54<01:02,  1.06it/s]"
          ]
        },
        {
          "name": "stdout",
          "output_type": "stream",
          "text": [
            "Generated answer:  1: Yes\n",
            "Explanation: The user\n",
            "Answer ID: 1\n"
          ]
        },
        {
          "name": "stderr",
          "output_type": "stream",
          "text": [
            "Processing questions:  82%|████████▏ | 301/366 [04:55<01:01,  1.06it/s]"
          ]
        },
        {
          "name": "stdout",
          "output_type": "stream",
          "text": [
            "Generated answer:  3: TS 22.281\n",
            "Explanation\n",
            "Answer ID: 3\n"
          ]
        },
        {
          "name": "stderr",
          "output_type": "stream",
          "text": [
            "Processing questions:  83%|████████▎ | 302/366 [04:56<01:00,  1.06it/s]"
          ]
        },
        {
          "name": "stdout",
          "output_type": "stream",
          "text": [
            "Generated answer:  2: No\n",
            "Explanation: A subscription\n",
            "Answer ID: 2\n"
          ]
        },
        {
          "name": "stderr",
          "output_type": "stream",
          "text": [
            "Processing questions:  83%|████████▎ | 303/366 [04:57<01:02,  1.00it/s]"
          ]
        },
        {
          "name": "stdout",
          "output_type": "stream",
          "text": [
            "Generated answer:  1: The SCG radio configuration for one or\n",
            "Answer ID: 1\n"
          ]
        },
        {
          "name": "stderr",
          "output_type": "stream",
          "text": [
            "Processing questions:  83%|████████▎ | 304/366 [04:58<01:01,  1.00it/s]"
          ]
        },
        {
          "name": "stdout",
          "output_type": "stream",
          "text": [
            "Generated answer:  5: SP-CSI-RNTI\n",
            "Answer ID: 5\n"
          ]
        },
        {
          "name": "stderr",
          "output_type": "stream",
          "text": [
            "Processing questions:  83%|████████▎ | 305/366 [04:59<01:00,  1.01it/s]"
          ]
        },
        {
          "name": "stdout",
          "output_type": "stream",
          "text": [
            "Generated answer:  1: 1%\n",
            "Explanation: The\n",
            "Answer ID: 1\n"
          ]
        },
        {
          "name": "stderr",
          "output_type": "stream",
          "text": [
            "Processing questions:  84%|████████▎ | 306/366 [05:00<00:58,  1.02it/s]"
          ]
        },
        {
          "name": "stdout",
          "output_type": "stream",
          "text": [
            "Generated answer:  4: To provide continuity of service to UEs\n",
            "Answer ID: 4\n"
          ]
        },
        {
          "name": "stderr",
          "output_type": "stream",
          "text": [
            "Processing questions:  84%|████████▍ | 307/366 [05:01<00:57,  1.02it/s]"
          ]
        },
        {
          "name": "stdout",
          "output_type": "stream",
          "text": [
            "Generated answer:  3: Both Tx and Rx hopping\n",
            "Ex\n",
            "Answer ID: 3\n"
          ]
        },
        {
          "name": "stderr",
          "output_type": "stream",
          "text": [
            "Processing questions:  84%|████████▍ | 308/366 [05:02<00:56,  1.03it/s]"
          ]
        },
        {
          "name": "stdout",
          "output_type": "stream",
          "text": [
            "Generated answer:  5: All of the above\n",
            "Explanation\n",
            "Answer ID: 5\n"
          ]
        },
        {
          "name": "stderr",
          "output_type": "stream",
          "text": [
            "Processing questions:  84%|████████▍ | 309/366 [05:03<00:55,  1.03it/s]"
          ]
        },
        {
          "name": "stdout",
          "output_type": "stream",
          "text": [
            "Generated answer:  1: Message Identifiers for ePWS-\n",
            "Answer ID: 1\n"
          ]
        },
        {
          "name": "stderr",
          "output_type": "stream",
          "text": [
            "Processing questions:  85%|████████▍ | 310/366 [05:04<00:54,  1.03it/s]"
          ]
        },
        {
          "name": "stdout",
          "output_type": "stream",
          "text": [
            "Generated answer:  2: Y-axis and Z-axis\n",
            "\n",
            "Answer ID: 2\n"
          ]
        },
        {
          "name": "stderr",
          "output_type": "stream",
          "text": [
            "Processing questions:  85%|████████▍ | 311/366 [05:05<00:54,  1.01it/s]"
          ]
        },
        {
          "name": "stdout",
          "output_type": "stream",
          "text": [
            "Generated answer:  1: DNN, S-NSSAI\n",
            "Answer ID: 1\n"
          ]
        },
        {
          "name": "stderr",
          "output_type": "stream",
          "text": [
            "Processing questions:  85%|████████▌ | 312/366 [05:06<00:53,  1.01it/s]"
          ]
        },
        {
          "name": "stdout",
          "output_type": "stream",
          "text": [
            "Generated answer:  3: By their set IDs\n",
            "Explanation\n",
            "Answer ID: 3\n"
          ]
        },
        {
          "name": "stderr",
          "output_type": "stream",
          "text": [
            "Processing questions:  86%|████████▌ | 313/366 [05:07<00:52,  1.01it/s]"
          ]
        },
        {
          "name": "stdout",
          "output_type": "stream",
          "text": [
            "Generated answer:  4: The PDU Session is released\n",
            "Ex\n",
            "Answer ID: 4\n"
          ]
        },
        {
          "name": "stderr",
          "output_type": "stream",
          "text": [
            "Processing questions:  86%|████████▌ | 314/366 [05:08<00:51,  1.01it/s]"
          ]
        },
        {
          "name": "stdout",
          "output_type": "stream",
          "text": [
            "Generated answer:  5: Option 4 and subject to operator policy and\n",
            "Answer ID: 5\n"
          ]
        },
        {
          "name": "stderr",
          "output_type": "stream",
          "text": [
            "Processing questions:  86%|████████▌ | 315/366 [05:09<00:50,  1.01it/s]"
          ]
        },
        {
          "name": "stdout",
          "output_type": "stream",
          "text": [
            "Generated answer:  2: International Telecommunications Union - Telecommunications\n",
            "Explan\n",
            "Answer ID: 2\n"
          ]
        },
        {
          "name": "stderr",
          "output_type": "stream",
          "text": [
            "Processing questions:  86%|████████▋ | 316/366 [05:10<00:48,  1.02it/s]"
          ]
        },
        {
          "name": "stdout",
          "output_type": "stream",
          "text": [
            "Generated answer:  1: Low-loss model\n",
            "Explanation\n",
            "Answer ID: 1\n"
          ]
        },
        {
          "name": "stderr",
          "output_type": "stream",
          "text": [
            "Processing questions:  87%|████████▋ | 317/366 [05:11<00:48,  1.01it/s]"
          ]
        },
        {
          "name": "stdout",
          "output_type": "stream",
          "text": [
            "Generated answer:  4: Store the Voice Service Indication\n",
            "Ex\n",
            "Answer ID: 4\n"
          ]
        },
        {
          "name": "stderr",
          "output_type": "stream",
          "text": [
            "Processing questions:  87%|████████▋ | 318/366 [05:12<00:49,  1.02s/it]"
          ]
        },
        {
          "name": "stdout",
          "output_type": "stream",
          "text": [
            "Generated answer:  1: Not perform cell selection/reselection\n",
            "\n",
            "Answer ID: 1\n"
          ]
        },
        {
          "name": "stderr",
          "output_type": "stream",
          "text": [
            "Processing questions:  87%|████████▋ | 319/366 [05:13<00:47,  1.00s/it]"
          ]
        },
        {
          "name": "stdout",
          "output_type": "stream",
          "text": [
            "Generated answer:  4: UE mobility status and exact relaxation criteria\n",
            "\n",
            "Answer ID: 4\n"
          ]
        },
        {
          "name": "stderr",
          "output_type": "stream",
          "text": [
            "Processing questions:  87%|████████▋ | 320/366 [05:14<00:46,  1.01s/it]"
          ]
        },
        {
          "name": "stdout",
          "output_type": "stream",
          "text": [
            "Generated answer:  3: To extend the coverage and capacity of the\n",
            "Answer ID: 3\n"
          ]
        },
        {
          "name": "stderr",
          "output_type": "stream",
          "text": [
            "Processing questions:  88%|████████▊ | 321/366 [05:15<00:45,  1.02s/it]"
          ]
        },
        {
          "name": "stdout",
          "output_type": "stream",
          "text": [
            "Generated answer:  3: Consistent with the behaviour of IMS\n",
            "Answer ID: 3\n"
          ]
        },
        {
          "name": "stderr",
          "output_type": "stream",
          "text": [
            "Processing questions:  88%|████████▊ | 322/366 [05:16<00:43,  1.00it/s]"
          ]
        },
        {
          "name": "stdout",
          "output_type": "stream",
          "text": [
            "Generated answer:  5: UDM\n",
            "Explanation: The\n",
            "Answer ID: 5\n"
          ]
        },
        {
          "name": "stderr",
          "output_type": "stream",
          "text": [
            "Processing questions:  88%|████████▊ | 323/366 [05:17<00:42,  1.00it/s]"
          ]
        },
        {
          "name": "stdout",
          "output_type": "stream",
          "text": [
            "Generated answer:  4: 400 ms\n",
            "Explanation: The\n",
            "Answer ID: 4\n"
          ]
        },
        {
          "name": "stderr",
          "output_type": "stream",
          "text": [
            "Processing questions:  89%|████████▊ | 324/366 [05:18<00:41,  1.02it/s]"
          ]
        },
        {
          "name": "stdout",
          "output_type": "stream",
          "text": [
            "Generated answer:  3: Rel-14\n",
            "Explanation:\n",
            "Answer ID: 3\n"
          ]
        },
        {
          "name": "stderr",
          "output_type": "stream",
          "text": [
            "Processing questions:  89%|████████▉ | 325/366 [05:19<00:40,  1.01it/s]"
          ]
        },
        {
          "name": "stdout",
          "output_type": "stream",
          "text": [
            "Generated answer:  5: Yes\n",
            "Explanation: The U\n",
            "Answer ID: 5\n"
          ]
        },
        {
          "name": "stderr",
          "output_type": "stream",
          "text": [
            "Processing questions:  89%|████████▉ | 326/366 [05:20<00:39,  1.01it/s]"
          ]
        },
        {
          "name": "stdout",
          "output_type": "stream",
          "text": [
            "Generated answer:  1: Management capabilities for authentication of MnS consumers\n",
            "Answer ID: 1\n"
          ]
        },
        {
          "name": "stderr",
          "output_type": "stream",
          "text": [
            "Processing questions:  89%|████████▉ | 327/366 [05:21<00:38,  1.00it/s]"
          ]
        },
        {
          "name": "stdout",
          "output_type": "stream",
          "text": [
            "Generated answer:  4: Through an identifier called S-NSSA\n",
            "Answer ID: 4\n"
          ]
        },
        {
          "name": "stderr",
          "output_type": "stream",
          "text": [
            "Processing questions:  90%|████████▉ | 328/366 [05:22<00:37,  1.01it/s]"
          ]
        },
        {
          "name": "stdout",
          "output_type": "stream",
          "text": [
            "Generated answer:  1: To provide access to 5G network services\n",
            "Answer ID: 1\n"
          ]
        },
        {
          "name": "stderr",
          "output_type": "stream",
          "text": [
            "Processing questions:  90%|████████▉ | 329/366 [05:23<00:37,  1.00s/it]"
          ]
        },
        {
          "name": "stdout",
          "output_type": "stream",
          "text": [
            "Generated answer:  2: Same slot and symbol for PRS resources\n",
            "Answer ID: 2\n"
          ]
        },
        {
          "name": "stderr",
          "output_type": "stream",
          "text": [
            "Processing questions:  90%|█████████ | 330/366 [05:24<00:35,  1.00it/s]"
          ]
        },
        {
          "name": "stdout",
          "output_type": "stream",
          "text": [
            "Generated answer:  3: To inform the RAN node that the\n",
            "Answer ID: 3\n"
          ]
        },
        {
          "name": "stderr",
          "output_type": "stream",
          "text": [
            "Processing questions:  90%|█████████ | 331/366 [05:25<00:35,  1.00s/it]"
          ]
        },
        {
          "name": "stdout",
          "output_type": "stream",
          "text": [
            "Generated answer:  3: Temporary C-RNTI\n",
            "Ex\n",
            "Answer ID: 3\n"
          ]
        },
        {
          "name": "stderr",
          "output_type": "stream",
          "text": [
            "Processing questions:  91%|█████████ | 332/366 [05:26<00:33,  1.01it/s]"
          ]
        },
        {
          "name": "stdout",
          "output_type": "stream",
          "text": [
            "Generated answer:  4: Non-Access Stratum\n",
            "Explan\n",
            "Answer ID: 4\n"
          ]
        },
        {
          "name": "stderr",
          "output_type": "stream",
          "text": [
            "Processing questions:  91%|█████████ | 333/366 [05:27<00:32,  1.01it/s]"
          ]
        },
        {
          "name": "stdout",
          "output_type": "stream",
          "text": [
            "Generated answer:  5: Gateway Location Register\n",
            "Explanation:\n",
            "Answer ID: 5\n"
          ]
        },
        {
          "name": "stderr",
          "output_type": "stream",
          "text": [
            "Processing questions:  91%|█████████▏| 334/366 [05:28<00:30,  1.05it/s]"
          ]
        },
        {
          "name": "stdout",
          "output_type": "stream",
          "text": [
            "Generated answer:  1: Yes\n",
            "Explanation: The radio\n",
            "Answer ID: 1\n"
          ]
        },
        {
          "name": "stderr",
          "output_type": "stream",
          "text": [
            "Processing questions:  92%|█████████▏| 335/366 [05:29<00:29,  1.05it/s]"
          ]
        },
        {
          "name": "stdout",
          "output_type": "stream",
          "text": [
            "Generated answer:  2: By C-RNTI\n",
            "Ex\n",
            "Answer ID: 2\n"
          ]
        },
        {
          "name": "stderr",
          "output_type": "stream",
          "text": [
            "Processing questions:  92%|█████████▏| 336/366 [05:30<00:28,  1.06it/s]"
          ]
        },
        {
          "name": "stdout",
          "output_type": "stream",
          "text": [
            "Generated answer:  2: Rel-12\n",
            "Explanation:\n",
            "Answer ID: 2\n"
          ]
        },
        {
          "name": "stderr",
          "output_type": "stream",
          "text": [
            "Processing questions:  92%|█████████▏| 337/366 [05:31<00:27,  1.05it/s]"
          ]
        },
        {
          "name": "stdout",
          "output_type": "stream",
          "text": [
            "Generated answer:  5: Semi-Persistent Scheduling\n",
            "Ex\n",
            "Answer ID: 5\n"
          ]
        },
        {
          "name": "stderr",
          "output_type": "stream",
          "text": [
            "Processing questions:  92%|█████████▏| 338/366 [05:32<00:26,  1.05it/s]"
          ]
        },
        {
          "name": "stdout",
          "output_type": "stream",
          "text": [
            "Generated answer:  1: The network initiates the in-call\n",
            "Answer ID: 1\n"
          ]
        },
        {
          "name": "stderr",
          "output_type": "stream",
          "text": [
            "Processing questions:  93%|█████████▎| 339/366 [05:33<00:25,  1.04it/s]"
          ]
        },
        {
          "name": "stdout",
          "output_type": "stream",
          "text": [
            "Generated answer:  1: Radio conditions and coverage availability\n",
            "Explan\n",
            "Answer ID: 1\n"
          ]
        },
        {
          "name": "stderr",
          "output_type": "stream",
          "text": [
            "Processing questions:  93%|█████████▎| 340/366 [05:34<00:25,  1.00it/s]"
          ]
        },
        {
          "name": "stdout",
          "output_type": "stream",
          "text": [
            "Generated answer:  4: Parameters for the sidelink data radio bearer\n",
            "Answer ID: 4\n"
          ]
        },
        {
          "name": "stderr",
          "output_type": "stream",
          "text": [
            "Processing questions:  93%|█████████▎| 341/366 [05:35<00:25,  1.00s/it]"
          ]
        },
        {
          "name": "stdout",
          "output_type": "stream",
          "text": [
            "Generated answer:  2: TS 27.007\n",
            "Explanation\n",
            "Answer ID: 2\n"
          ]
        },
        {
          "name": "stderr",
          "output_type": "stream",
          "text": [
            "Processing questions:  93%|█████████▎| 342/366 [05:36<00:23,  1.01it/s]"
          ]
        },
        {
          "name": "stdout",
          "output_type": "stream",
          "text": [
            "Generated answer:  3: Both 3GPP RAT and non\n",
            "Answer ID: 3\n"
          ]
        },
        {
          "name": "stderr",
          "output_type": "stream",
          "text": [
            "Processing questions:  94%|█████████▎| 343/366 [05:37<00:22,  1.01it/s]"
          ]
        },
        {
          "name": "stdout",
          "output_type": "stream",
          "text": [
            "Generated answer:  1: Activation of management services for UEs\n",
            "Answer ID: 1\n"
          ]
        },
        {
          "name": "stderr",
          "output_type": "stream",
          "text": [
            "Processing questions:  94%|█████████▍| 344/366 [05:38<00:21,  1.02it/s]"
          ]
        },
        {
          "name": "stdout",
          "output_type": "stream",
          "text": [
            "Generated answer:  2: Connected via an Ethernet switch\n",
            "Ex\n",
            "Answer ID: 2\n"
          ]
        },
        {
          "name": "stderr",
          "output_type": "stream",
          "text": [
            "Processing questions:  94%|█████████▍| 345/366 [05:39<00:20,  1.01it/s]"
          ]
        },
        {
          "name": "stdout",
          "output_type": "stream",
          "text": [
            "Generated answer:  3: 1 Mbit/s on DL and\n",
            "Answer ID: 3\n"
          ]
        },
        {
          "name": "stderr",
          "output_type": "stream",
          "text": [
            "Processing questions:  95%|█████████▍| 346/366 [05:40<00:19,  1.02it/s]"
          ]
        },
        {
          "name": "stdout",
          "output_type": "stream",
          "text": [
            "Generated answer:  1: Open-loop control, closed-loop\n",
            "Answer ID: 1\n"
          ]
        },
        {
          "name": "stderr",
          "output_type": "stream",
          "text": [
            "Processing questions:  95%|█████████▍| 347/366 [05:41<00:18,  1.03it/s]"
          ]
        },
        {
          "name": "stdout",
          "output_type": "stream",
          "text": [
            "Generated answer:  5: Mobility Restriction List\n",
            "Explanation\n",
            "Answer ID: 5\n"
          ]
        },
        {
          "name": "stderr",
          "output_type": "stream",
          "text": [
            "Processing questions:  95%|█████████▌| 348/366 [05:42<00:17,  1.03it/s]"
          ]
        },
        {
          "name": "stdout",
          "output_type": "stream",
          "text": [
            "Generated answer:  1: After the multiple of the number of frames\n",
            "Answer ID: 1\n"
          ]
        },
        {
          "name": "stderr",
          "output_type": "stream",
          "text": [
            "Processing questions:  95%|█████████▌| 349/366 [05:43<00:16,  1.04it/s]"
          ]
        },
        {
          "name": "stdout",
          "output_type": "stream",
          "text": [
            "Generated answer:  4: Composite rotation matrix\n",
            "Explanation:\n",
            "Answer ID: 4\n"
          ]
        },
        {
          "name": "stderr",
          "output_type": "stream",
          "text": [
            "Processing questions:  96%|█████████▌| 350/366 [05:44<00:15,  1.06it/s]"
          ]
        },
        {
          "name": "stdout",
          "output_type": "stream",
          "text": [
            "Generated answer:  3: Process automation\n",
            "Explanation: Process\n",
            "Answer ID: 3\n"
          ]
        },
        {
          "name": "stderr",
          "output_type": "stream",
          "text": [
            "Processing questions:  96%|█████████▌| 351/366 [05:45<00:14,  1.03it/s]"
          ]
        },
        {
          "name": "stdout",
          "output_type": "stream",
          "text": [
            "Generated answer:  3: Precoding matrix  for single-layer\n",
            "Answer ID: 3\n"
          ]
        },
        {
          "name": "stderr",
          "output_type": "stream",
          "text": [
            "Processing questions:  96%|█████████▌| 352/366 [05:46<00:13,  1.03it/s]"
          ]
        },
        {
          "name": "stdout",
          "output_type": "stream",
          "text": [
            "Generated answer:  2: PFDs\n",
            "Explanation:\n",
            "Answer ID: 2\n"
          ]
        },
        {
          "name": "stderr",
          "output_type": "stream",
          "text": [
            "Processing questions:  96%|█████████▋| 353/366 [05:47<00:12,  1.04it/s]"
          ]
        },
        {
          "name": "stdout",
          "output_type": "stream",
          "text": [
            "Generated answer:  1: To request the ADRF to store data\n",
            "Answer ID: 1\n"
          ]
        },
        {
          "name": "stderr",
          "output_type": "stream",
          "text": [
            "Processing questions:  97%|█████████▋| 354/366 [05:48<00:11,  1.02it/s]"
          ]
        },
        {
          "name": "stdout",
          "output_type": "stream",
          "text": [
            "Generated answer:  3: To track the location and status of specific\n",
            "Answer ID: 3\n"
          ]
        },
        {
          "name": "stderr",
          "output_type": "stream",
          "text": [
            "Processing questions:  97%|█████████▋| 355/366 [05:49<00:10,  1.01it/s]"
          ]
        },
        {
          "name": "stdout",
          "output_type": "stream",
          "text": [
            "Generated answer:  2: Number of DMRS port\n",
            "Explan\n",
            "Answer ID: 2\n"
          ]
        },
        {
          "name": "stderr",
          "output_type": "stream",
          "text": [
            "Processing questions:  97%|█████████▋| 356/366 [05:50<00:09,  1.02it/s]"
          ]
        },
        {
          "name": "stdout",
          "output_type": "stream",
          "text": [
            "Generated answer:  2: To enable fast time-to-market\n",
            "Answer ID: 2\n"
          ]
        },
        {
          "name": "stderr",
          "output_type": "stream",
          "text": [
            "Processing questions:  98%|█████████▊| 357/366 [05:51<00:08,  1.01it/s]"
          ]
        },
        {
          "name": "stdout",
          "output_type": "stream",
          "text": [
            "Generated answer:  4: Filtering and prioritization based on V\n",
            "Answer ID: 4\n"
          ]
        },
        {
          "name": "stderr",
          "output_type": "stream",
          "text": [
            "Processing questions:  98%|█████████▊| 358/366 [05:52<00:08,  1.01s/it]"
          ]
        },
        {
          "name": "stdout",
          "output_type": "stream",
          "text": [
            "Generated answer:  4: Methods for producing, reporting, and discovering\n",
            "Answer ID: 4\n"
          ]
        },
        {
          "name": "stderr",
          "output_type": "stream",
          "text": [
            "Processing questions:  98%|█████████▊| 359/366 [05:53<00:06,  1.01it/s]"
          ]
        },
        {
          "name": "stdout",
          "output_type": "stream",
          "text": [
            "Generated answer:  5: Common PLMN\n",
            "Explanation:\n",
            "Answer ID: 5\n"
          ]
        },
        {
          "name": "stderr",
          "output_type": "stream",
          "text": [
            "Processing questions:  98%|█████████▊| 360/366 [05:54<00:05,  1.01it/s]"
          ]
        },
        {
          "name": "stdout",
          "output_type": "stream",
          "text": [
            "Generated answer:  4: It is the sum of the power consumption\n",
            "Answer ID: 4\n"
          ]
        },
        {
          "name": "stderr",
          "output_type": "stream",
          "text": [
            "Processing questions:  99%|█████████▊| 361/366 [05:55<00:04,  1.01it/s]"
          ]
        },
        {
          "name": "stdout",
          "output_type": "stream",
          "text": [
            "Generated answer:  5: All of the above.\n",
            "Explan\n",
            "Answer ID: 5\n"
          ]
        },
        {
          "name": "stderr",
          "output_type": "stream",
          "text": [
            "Processing questions:  99%|█████████▉| 362/366 [05:55<00:03,  1.04it/s]"
          ]
        },
        {
          "name": "stdout",
          "output_type": "stream",
          "text": [
            "Generated answer:  2: To compare predictions with ground truth data\n",
            "\n",
            "Answer ID: 2\n"
          ]
        },
        {
          "name": "stderr",
          "output_type": "stream",
          "text": [
            "Processing questions:  99%|█████████▉| 363/366 [05:56<00:02,  1.02it/s]"
          ]
        },
        {
          "name": "stdout",
          "output_type": "stream",
          "text": [
            "Generated answer:  2: TS 33.185\n",
            "Explanation\n",
            "Answer ID: 2\n"
          ]
        },
        {
          "name": "stderr",
          "output_type": "stream",
          "text": [
            "Processing questions:  99%|█████████▉| 364/366 [05:57<00:01,  1.01it/s]"
          ]
        },
        {
          "name": "stdout",
          "output_type": "stream",
          "text": [
            "Generated answer:  4: Session Based Charging Function (SBC\n",
            "Answer ID: 4\n"
          ]
        },
        {
          "name": "stderr",
          "output_type": "stream",
          "text": [
            "Processing questions: 100%|█████████▉| 365/366 [05:58<00:00,  1.00it/s]"
          ]
        },
        {
          "name": "stdout",
          "output_type": "stream",
          "text": [
            "Generated answer:  1: Via a transmission over RACH or over\n",
            "Answer ID: 1\n"
          ]
        },
        {
          "name": "stderr",
          "output_type": "stream",
          "text": [
            "Processing questions: 100%|██████████| 366/366 [05:59<00:00,  1.02it/s]"
          ]
        },
        {
          "name": "stdout",
          "output_type": "stream",
          "text": [
            "Generated answer:  2: There are 504 unique physical-layer cell\n",
            "Answer ID: 2\n",
            "Processing complete. Responses saved to 'output_results.csv'.\n"
          ]
        },
        {
          "name": "stderr",
          "output_type": "stream",
          "text": [
            "\n"
          ]
        }
      ],
      "source": [
        "import csv\n",
        "from tqdm import tqdm\n",
        "\n",
        "responses = []\n",
        "\n",
        "# Loop through each question and get the response\n",
        "for q_id, q_data in tqdm(questions.items(), desc=\"Processing questions\"):\n",
        "    q_id_number = q_id.split()[1]\n",
        "    question_text = q_data[\"question\"]\n",
        "    question_text = re.sub(r'\\s*\\[.*?\\]\\s*$', '', question_text)\n",
        "    # options = [v for k, v in q_data.items() if k.startswith(\"option\")]\n",
        "    options = [(k, v) for k, v in q_data.items() if k.startswith(\"option\")]\n",
        "\n",
        "    # Retrieve context using ColBERT search\n",
        "    results = RAG.search(query=question_text, k=7)\n",
        "    context = \" \".join([result['content'] for result in results])\n",
        "\n",
        "    abbreviations = find_appearing_abbreviations(q_data)\n",
        "    # Generate the answer using the loaded model\n",
        "    response = generate_answer(question_text, options, context, abbreviations, model, tokenizer)\n",
        "\n",
        "    answer = parse_answer(response)\n",
        "\n",
        "    # Extract the answer ID from the response\n",
        "    match = re.search(r'Option (\\d+)', answer)\n",
        "    if match:\n",
        "        try:\n",
        "            answer_id = int(match.group(1))\n",
        "            print(f\"Answer ID: {answer_id}\")\n",
        "            responses.append([q_id_number, answer_id, \"Phi-2\"])\n",
        "        except (KeyError, IndexError, ValueError) as e:\n",
        "            responses.append([q_id_number, \"Error\", \"Phi-2\"])\n",
        "            print(f\"Error processing question {q_id}: {answer}\")\n",
        "    else:\n",
        "        responses.append([q_id_number, \"Error\", \"Phi-2\"])\n",
        "        print(f\"Error processing question {q_id_number}: {answer}\")\n",
        "\n",
        "# Save responses to a CSV file\n",
        "with open('output_results.csv', 'w', newline='') as csvfile:\n",
        "    csvwriter = csv.writer(csvfile)\n",
        "    csvwriter.writerow([\"Question_ID\", \"Answer_ID\", \"Task\"])\n",
        "    csvwriter.writerows(responses)\n",
        "\n",
        "print(\"Processing complete. Responses saved to 'output_results.csv'.\")\n"
      ]
    },
    {
      "cell_type": "markdown",
      "metadata": {},
      "source": [
        "grade the 366 qs"
      ]
    },
    {
      "cell_type": "code",
      "execution_count": 55,
      "metadata": {
        "id": "Ub7HWTlivGrd"
      },
      "outputs": [
        {
          "name": "stdout",
          "output_type": "stream",
          "text": [
            "Total Questions: 366\n",
            "Correct Answers: 283\n",
            "Score: 77.32%\n"
          ]
        }
      ],
      "source": [
        "# Load the questions dataset from the JSON file\n",
        "with open('data/366qs.txt', 'r') as rubric:\n",
        "    qs_w_ans = json.load(rubric)\n",
        "\n",
        "# Load the responses from the CSV file\n",
        "responses = []\n",
        "with open('output_results.csv', 'r') as answers:\n",
        "    reader = csv.DictReader(answers)\n",
        "    for row in reader:\n",
        "        responses.append(row)\n",
        "\n",
        "# Initialize score\n",
        "correct_answers = 0\n",
        "total_questions = len(responses)\n",
        "\n",
        "# track question_ids for failed questions\n",
        "failed_questions = []\n",
        "# Compare the responses with the correct answers\n",
        "for response in responses:\n",
        "    question_id = response['Question_ID']\n",
        "    answer_id = response['Answer_ID']\n",
        "    task = response['Task']\n",
        "    \n",
        "    # Find the corresponding question in the JSON data\n",
        "    question_key = f\"question {question_id}\"\n",
        "    if question_key in qs_w_ans:\n",
        "        correct_answer = qs_w_ans[question_key]['answer']\n",
        "        # Extract the correct option number from the correct answer string\n",
        "        correct_option_number = correct_answer.split()[1].replace(\":\", \"\")\n",
        "        \n",
        "        # Check if the given answer matches the correct answer\n",
        "        if answer_id == correct_option_number:\n",
        "            correct_answers += 1\n",
        "        else:\n",
        "            # append questionid and answerid to failed questions\n",
        "            failed_questions.append((question_id, answer_id))\n",
        "\n",
        "# Calculate the score\n",
        "score = (correct_answers / total_questions) * 100\n",
        "\n",
        "# Print the results\n",
        "print(f\"Total Questions: {total_questions}\")\n",
        "print(f\"Correct Answers: {correct_answers}\")\n",
        "print(f\"Score: {score:.2f}%\")\n",
        "# write failed questions to a file\n",
        "with open('failed_questions.txt', 'w') as file:\n",
        "    for question_id, answer_id in failed_questions:\n",
        "        file.write(f\"{question_id} {answer_id}\\n\")"
      ]
    },
    {
      "cell_type": "code",
      "execution_count": 56,
      "metadata": {},
      "outputs": [
        {
          "name": "stdout",
          "output_type": "stream",
          "text": [
            "Dummy data has been appended to the CSV file.\n"
          ]
        }
      ],
      "source": [
        "def append_dummy_data(csv_filename):\n",
        "    dummy_task = \"Phi-2\"\n",
        "    dummy_entries = [(dummy_id, 0, dummy_task) for dummy_id in range(10000, 12000)]\n",
        "\n",
        "    try:\n",
        "        # Open the existing CSV file and append dummy data\n",
        "        with open(csv_filename, \"a\", newline='') as csvfile:\n",
        "            csv_writer = csv.writer(csvfile)\n",
        "            for entry in dummy_entries:\n",
        "                csv_writer.writerow(entry)\n",
        "        print(\"Dummy data has been appended to the CSV file.\")\n",
        "    except Exception as e:\n",
        "        print(\"Encountered an error while appending dummy data.\")\n",
        "        print(e)\n",
        "\n",
        "# Assuming 'output_results.csv' is the CSV file to which we need to append dummy data\n",
        "csv_filename = \"output_results.csv\"\n",
        "append_dummy_data(csv_filename)"
      ]
    },
    {
      "cell_type": "code",
      "execution_count": null,
      "metadata": {},
      "outputs": [],
      "source": []
    }
  ],
  "metadata": {
    "accelerator": "GPU",
    "colab": {
      "gpuType": "A100",
      "machine_shape": "hm",
      "provenance": []
    },
    "kernelspec": {
      "display_name": "Python 3",
      "name": "python3"
    },
    "language_info": {
      "codemirror_mode": {
        "name": "ipython",
        "version": 3
      },
      "file_extension": ".py",
      "mimetype": "text/x-python",
      "name": "python",
      "nbconvert_exporter": "python",
      "pygments_lexer": "ipython3",
      "version": "3.10.13"
    }
  },
  "nbformat": 4,
  "nbformat_minor": 0
}
