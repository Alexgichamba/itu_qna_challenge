{
 "cells": [
  {
   "cell_type": "code",
   "execution_count": null,
   "metadata": {},
   "outputs": [],
   "source": [
    "from llama_index.core import SimpleDirectoryReader\n",
    "documents = SimpleDirectoryReader(\"data/rel18\").load_data()"
   ]
  },
  {
   "cell_type": "code",
   "execution_count": 151,
   "metadata": {},
   "outputs": [],
   "source": [
    "from llama_index.core.node_parser import SentenceSplitter\n",
    "# initialize node parser\n",
    "splitter = SentenceSplitter(chunk_size=300, chunk_overlap=30)\n",
    "nodes = splitter.get_nodes_from_documents(documents)"
   ]
  },
  {
   "cell_type": "code",
   "execution_count": 152,
   "metadata": {},
   "outputs": [],
   "source": [
    "from llama_index.retrievers.bm25 import BM25Retriever\n",
    "import Stemmer\n",
    "\n",
    "# We can pass in the index, doctore, or list of nodes to create the retriever\n",
    "bm25_retriever = BM25Retriever.from_defaults(\n",
    "    nodes=nodes,\n",
    "    similarity_top_k=3,)"
   ]
  },
  {
   "cell_type": "code",
   "execution_count": null,
   "metadata": {},
   "outputs": [],
   "source": [
    "# bm25_retriever.persist(\"./bm25_retriever_150_50\")\n",
    "# loaded_bm25_retriever = BM25Retriever.from_persist_dir(\"./bm25_retriever_150_50\")"
   ]
  },
  {
   "cell_type": "code",
   "execution_count": 153,
   "metadata": {},
   "outputs": [
    {
     "data": {
      "text/markdown": [
       "**Node ID:** e7ff744b-2b96-4452-98c2-d454589cbe25<br>**Similarity:** 8.08073616027832<br>**Text:** -\tThe UE makes measurements of attributes of the serving and neighbour cells to enable the reselection process:\n",
       "\n",
       "-\tFor the search and measurement of inter-frequency neighbouring cells, only the carrier frequencies need to be indicated.\n",
       "\n",
       "-\tCell reselection identifies the cell that the UE should camp on. It is based on cell reselection criteria which involves measurements of the serving and neighbour cells:\n",
       "\n",
       "-\tIntra-frequency reselection is based on ranking of cells;\n",
       "\n",
       "-\tInter-frequency reselection is based on absolute priorities where a UE tries to camp on the highest priority frequency available;\n",
       "\n",
       "-\tA Neighbour Cell List (NCL) can be provided by the serving cell to handle specific cases for intra- and inter-frequency neighbouring cells;\n",
       "\n",
       "-\tExclude-lists can be provided to prevent the UE from reselecting to specific intra- and inter-frequency neighbouring cells;\n",
       "\n",
       "-\tAllow-lists can be provided to request the UE to reselect to only specific intra- and inter-frequency neighbouring cells;\n",
       "\n",
       "-\tCell reselection can be speed dependent;\n",
       "\n",
       "-\tService specific prioritisation;\n",
       "\n",
       "-\tSlice-based cell reselection information can be provided to facilitate the UE to reselect a cell that supports specific slices.\n",
       "\n",
       "In multi-beam operations, the cell quality is derived amongst the beams corresponding to the same cell (see clause 9.2.4).<br>"
      ],
      "text/plain": [
       "<IPython.core.display.Markdown object>"
      ]
     },
     "metadata": {},
     "output_type": "display_data"
    },
    {
     "data": {
      "text/markdown": [
       "**Node ID:** 1f0f1bfa-cc4e-460e-878b-b4ae8caa362c<br>**Similarity:** 7.8390116691589355<br>**Text:** The UE shall disable the autonomous search function for CSG cells if the UE's Permitted CSG list is empty.\n",
       "\n",
       "NOTE:\tThe UE autonomous search function, per UE implementation, determines when and/or where to search for CSG member cells.\n",
       "\n",
       "If the UE detects one or more suitable CSG cells on different frequencies, then the UE shall reselect to one of the detected cells irrespective of the frequency priority of the cell the UE is currently camped on, if the concerned CSG cell is the highest ranked cell on that frequency.\n",
       "\n",
       "If the UE detects a suitable CSG cell on the same frequency, it shall reselect to this cell as per normal reselection rules (5.2.4.6.).\n",
       "\n",
       "If the UE detects one or more suitable CSG cells on another RAT, the UE shall reselect to one of them according to TS 25.304 [19].\n",
       "\n",
       "5.2.4.8.2\tCell reselection from a CSG cell\n",
       "\n",
       "While camped on a suitable CSG cell, the UE shall apply the normal cell reselection rules as defined in clause 5.2.4.\n",
       "\n",
       "To search for suitable CSG cells on non-serving frequencies, the UE may use an autonomous search function.<br>"
      ],
      "text/plain": [
       "<IPython.core.display.Markdown object>"
      ]
     },
     "metadata": {},
     "output_type": "display_data"
    },
    {
     "data": {
      "text/markdown": [
       "**Node ID:** 4f7addea-d70f-48e0-bf56-a66d27a7d135<br>**Similarity:** 7.057534217834473<br>**Text:** To search for suitable CSG cells on non-serving frequencies, the UE may use an autonomous search function. If the UE detects a CSG cell on a non-serving frequency, the UE may reselect to the detected CSG cell if it is the highest ranked cell on its frequency.\n",
       "\n",
       "If the UE detects one or more suitable CSG cells on another RAT, the UE may reselect to one of them if allowed according to TS 25.304 [19].\n",
       "\n",
       "5.2.4.9\tCell reselection with Hybrid cells\n",
       "\n",
       "In addition to normal cell reselection rules, the UE shall use an autonomous search function to detect at least previously visited hybrid cells whose CSG ID and associated PLMN identity is in the UE's Permitted CSG list according to the performance requirements specified in TS 36.133 [10]. The UE shall treat detected hybrid cells as CSG cells if the CSG ID and associated PLMN identity of the hybrid cell is in the UE's Permitted CSG list and as normal cells otherwise.<br>"
      ],
      "text/plain": [
       "<IPython.core.display.Markdown object>"
      ]
     },
     "metadata": {},
     "output_type": "display_data"
    }
   ],
   "source": [
    "from llama_index.core.response.notebook_utils import display_source_node\n",
    "\n",
    "retrieved_nodes = bm25_retriever.retrieve(\n",
    "    \"What does the UE provide to the AS for slice aware cell reselection?\"\n",
    ")\n",
    "for node in retrieved_nodes:\n",
    "    display_source_node(node, source_length=2000)"
   ]
  },
  {
   "cell_type": "code",
   "execution_count": null,
   "metadata": {},
   "outputs": [],
   "source": [
    "# from peft import PeftModel, PeftConfig\n",
    "# from transformers import AutoModelForCausalLM, AutoTokenizer\n",
    "\n",
    "# config = PeftConfig.from_pretrained(\"alexgichamba/phi-2-finetuned-qa-lora-r32-a16_notag\")\n",
    "# base_model = AutoModelForCausalLM.from_pretrained(\"microsoft/phi-2\").to('cuda')\n",
    "# model = PeftModel.from_pretrained(base_model, \"alexgichamba/phi-2-finetuned-qa-lora-r32-a16_notag\").to('cuda')\n",
    "# tokenizer = AutoTokenizer.from_pretrained(\"microsoft/phi-2\")"
   ]
  },
  {
   "cell_type": "code",
   "execution_count": 154,
   "metadata": {},
   "outputs": [],
   "source": [
    "import json\n",
    "# Read questions from the JSON file\n",
    "with open('data/366qs.txt', 'r') as file1:\n",
    "  with open('data/questions_new.txt', 'r') as file2:\n",
    "    questions = json.load(file1)\n",
    "    # questions.update(json.load(file2))"
   ]
  },
  {
   "cell_type": "code",
   "execution_count": 155,
   "metadata": {},
   "outputs": [
    {
     "data": {
      "text/plain": [
       "366"
      ]
     },
     "execution_count": 155,
     "metadata": {},
     "output_type": "execute_result"
    }
   ],
   "source": [
    "len(questions)"
   ]
  },
  {
   "cell_type": "code",
   "execution_count": 156,
   "metadata": {},
   "outputs": [
    {
     "data": {
      "text/plain": [
       "{'question': 'When can a gNB transmit a DL transmission(s) on a channel after initiating a channel occupancy? [3GPP Release 17]',\n",
       " 'option 1': 'Regardless of the duration of the gap between the DL transmission(s) and any previous transmission(s) corresponding to the channel occupancy initiated by the gNB.',\n",
       " 'option 2': 'If the gap between the DL transmission(s) and any previous transmission(s) corresponding to the channel occupancy initiated by the gNB is more than a threshold.',\n",
       " 'option 3': 'Both option 1 and option 2',\n",
       " 'option 4': 'None of the above',\n",
       " 'answer': 'option 3: Both option 1 and option 2',\n",
       " 'explanation': 'A gNB can transmit a DL transmission(s) on a channel after initiating a channel occupancy regardless of the duration of the gap between the DL transmission(s) and any previous transmission(s), or if the gap between the DL transmission(s) and any previous transmission(s) is more than a threshold.',\n",
       " 'category': 'Standards specifications'}"
      ]
     },
     "execution_count": 156,
     "metadata": {},
     "output_type": "execute_result"
    }
   ],
   "source": [
    "first_key = next(iter(questions))\n",
    "first_value = questions[first_key]\n",
    "first_value"
   ]
  },
  {
   "cell_type": "code",
   "execution_count": 157,
   "metadata": {},
   "outputs": [
    {
     "data": {
      "text/plain": [
       "[('option 1',\n",
       "  'Regardless of the duration of the gap between the DL transmission(s) and any previous transmission(s) corresponding to the channel occupancy initiated by the gNB.'),\n",
       " ('option 2',\n",
       "  'If the gap between the DL transmission(s) and any previous transmission(s) corresponding to the channel occupancy initiated by the gNB is more than a threshold.'),\n",
       " ('option 3', 'Both option 1 and option 2'),\n",
       " ('option 4', 'None of the above')]"
      ]
     },
     "execution_count": 157,
     "metadata": {},
     "output_type": "execute_result"
    }
   ],
   "source": [
    "options = [(k, v) for k, v in first_value.items() if k.startswith(\"option\")]\n",
    "options"
   ]
  },
  {
   "cell_type": "code",
   "execution_count": 158,
   "metadata": {},
   "outputs": [],
   "source": [
    "def create_prompt(question, options, context, abbreviations):\n",
    "    options_text = \"\\n\".join([f\"Option {i+1}: {opt[1]}\" for i, opt in enumerate(options)])\n",
    "    # abbreviations is a list of dictionaries of form {\"abbreviation\": \"full form\"}\n",
    "    abbreviations_text = \"\\n\".join([f\"{list(abbrev.keys())[0]}: {list(abbrev.values())[0]}\" for abbrev in abbreviations])\n",
    "    prompt = (\n",
    "        f\"Instruct: You will answer each question correctly by giving only the Option ID, the number that follows each Option.\\n\"\n",
    "        f\"The output should be in the format: Option <Option id>\\n\"\n",
    "        f\"Provide the answer to the following multiple choice question in the specified format.\\n\\n\"\n",
    "        f\"Context:\\n{context}\\n\\n\"\n",
    "        f\"Abbreviations:\\n{abbreviations_text}\\n\\n\"\n",
    "        f\"Question: {question}\\n\"\n",
    "        f\"Options:\\n{options_text}\\n\"\n",
    "        f\"Answer: Option\"\n",
    "    )\n",
    "    return prompt"
   ]
  },
  {
   "cell_type": "code",
   "execution_count": 159,
   "metadata": {},
   "outputs": [],
   "source": [
    "def generate_answer(question, options, context, abbreviations, model, tokenizer):\n",
    "    prompt = create_prompt(question, options, context, abbreviations)\n",
    "    input_ids = tokenizer.encode(prompt, return_tensors='pt').to('cuda')\n",
    "\n",
    "    # Ensure the pad token is set\n",
    "    if tokenizer.pad_token_id is None:\n",
    "        tokenizer.pad_token_id = tokenizer.eos_token_id\n",
    "\n",
    "    attention_mask = input_ids.ne(tokenizer.pad_token_id).long().to('cuda')  # Set attention mask\n",
    "\n",
    "    # Generate the answer with appropriate parameters\n",
    "    outputs = model.generate(\n",
    "        input_ids,\n",
    "        attention_mask=attention_mask,\n",
    "        max_new_tokens=10,  # Limit the number of new tokens generated\n",
    "        pad_token_id=tokenizer.eos_token_id,  # Handle padding correctly\n",
    "        num_return_sequences=1,\n",
    "        no_repeat_ngram_size=2,\n",
    "    )\n",
    "    generated_answer = tokenizer.decode(outputs[0][input_ids.shape[1]:], skip_special_tokens=True).strip()\n",
    "    # print(f\"RESPONSE - {answer[900:]}\")\n",
    "    # print(\"-------------------------------------------\")\n",
    "    print(f\"Generated answer: {generated_answer}\")\n",
    "    return generated_answer"
   ]
  },
  {
   "cell_type": "code",
   "execution_count": 160,
   "metadata": {},
   "outputs": [],
   "source": [
    "from data.prepare_docs import find_appearing_abbreviations"
   ]
  },
  {
   "cell_type": "code",
   "execution_count": 161,
   "metadata": {},
   "outputs": [
    {
     "name": "stdout",
     "output_type": "stream",
     "text": [
      "Generated answer: 3\n",
      "Explanation: A gnb can\n",
      "3\n",
      "Explanation: A gnb can\n"
     ]
    }
   ],
   "source": [
    "ans = generate_answer(first_value['question'], options, \" \".join([node.text for node in retrieved_nodes]), find_appearing_abbreviations(first_value), model, tokenizer)\n",
    "print(ans)"
   ]
  },
  {
   "cell_type": "code",
   "execution_count": 162,
   "metadata": {},
   "outputs": [],
   "source": [
    "import re\n",
    "# First search for the full pattern\n",
    "def parse_answer(response):\n",
    "  match_1 = re.search(r'Option\\s*(\\d+)', response, re.IGNORECASE)\n",
    "  match_2 = re.search(r'(\\d+)', response, re.IGNORECASE)\n",
    "  if match_1:\n",
    "      answer = f\"Option {match_1.group(1)}\"\n",
    "  elif match_2:    \n",
    "      answer = f\"Option {match_2.group(1)}\"\n",
    "  else:\n",
    "      # Try another pattern if the first one fails\n",
    "      match = re.search(r'Option\\s*(\\d+)', response, re.IGNORECASE)\n",
    "      if match:\n",
    "          answer = f\"Option {match.group(1)}\"\n",
    "      else:\n",
    "          answer = \"Error\"\n",
    "  return answer"
   ]
  },
  {
   "cell_type": "code",
   "execution_count": 163,
   "metadata": {},
   "outputs": [
    {
     "name": "stderr",
     "output_type": "stream",
     "text": [
      "Processing questions:   0%|          | 1/366 [00:00<03:43,  1.63it/s]"
     ]
    },
    {
     "name": "stdout",
     "output_type": "stream",
     "text": [
      "Generated answer: 2\n",
      "Answer ID: 2\n"
     ]
    },
    {
     "name": "stderr",
     "output_type": "stream",
     "text": [
      "Processing questions:   1%|          | 2/366 [00:01<04:42,  1.29it/s]"
     ]
    },
    {
     "name": "stdout",
     "output_type": "stream",
     "text": [
      "Generated answer: 5\n",
      "Explanation: Ota REFs\n",
      "Answer ID: 5\n"
     ]
    },
    {
     "name": "stderr",
     "output_type": "stream",
     "text": [
      "Processing questions:   1%|          | 3/366 [00:02<04:52,  1.24it/s]"
     ]
    },
    {
     "name": "stdout",
     "output_type": "stream",
     "text": [
      "Generated answer: 3\n",
      "Explanation: The MSAF\n",
      "Answer ID: 3\n"
     ]
    },
    {
     "name": "stderr",
     "output_type": "stream",
     "text": [
      "Processing questions:   1%|          | 4/366 [00:03<05:08,  1.17it/s]"
     ]
    },
    {
     "name": "stdout",
     "output_type": "stream",
     "text": [
      "Generated answer: 3\n",
      "Explanation: An NB‑I\n",
      "Answer ID: 3\n"
     ]
    },
    {
     "name": "stderr",
     "output_type": "stream",
     "text": [
      "Processing questions:   1%|▏         | 5/366 [00:04<05:19,  1.13it/s]"
     ]
    },
    {
     "name": "stdout",
     "output_type": "stream",
     "text": [
      "Generated answer: 4\n",
      "Explanation: The purpose is to\n",
      "Answer ID: 4\n"
     ]
    },
    {
     "name": "stderr",
     "output_type": "stream",
     "text": [
      "Processing questions:   2%|▏         | 6/366 [00:05<05:17,  1.14it/s]"
     ]
    },
    {
     "name": "stdout",
     "output_type": "stream",
     "text": [
      "Generated answer: 4\n",
      "Explanation: The purpose is to\n",
      "Answer ID: 4\n"
     ]
    },
    {
     "name": "stderr",
     "output_type": "stream",
     "text": [
      "Processing questions:   2%|▏         | 7/366 [00:05<05:08,  1.17it/s]"
     ]
    },
    {
     "name": "stdout",
     "output_type": "stream",
     "text": [
      "Generated answer: 4\n",
      "Explanation: The Diamante\n",
      "Answer ID: 4\n"
     ]
    },
    {
     "name": "stderr",
     "output_type": "stream",
     "text": [
      "Processing questions:   2%|▏         | 8/366 [00:06<05:10,  1.15it/s]"
     ]
    },
    {
     "name": "stdout",
     "output_type": "stream",
     "text": [
      "Generated answer: 4\n",
      "Explanation: The message sent by\n",
      "Answer ID: 4\n"
     ]
    },
    {
     "name": "stderr",
     "output_type": "stream",
     "text": [
      "Processing questions:   2%|▏         | 9/366 [00:07<05:08,  1.16it/s]"
     ]
    },
    {
     "name": "stdout",
     "output_type": "stream",
     "text": [
      "Generated answer: 1 (1)\n",
      "Explanation: For\n",
      "Answer ID: 1\n"
     ]
    },
    {
     "name": "stderr",
     "output_type": "stream",
     "text": [
      "Processing questions:   3%|▎         | 10/366 [00:08<05:17,  1.12it/s]"
     ]
    },
    {
     "name": "stdout",
     "output_type": "stream",
     "text": [
      "Generated answer: 4\n",
      "Explanation: The purpose is to\n",
      "Answer ID: 4\n"
     ]
    },
    {
     "name": "stderr",
     "output_type": "stream",
     "text": [
      "Processing questions:   3%|▎         | 11/366 [00:09<05:13,  1.13it/s]"
     ]
    },
    {
     "name": "stdout",
     "output_type": "stream",
     "text": [
      "Generated answer: 3\n",
      "Explanation: The cardinalty rule\n",
      "Answer ID: 3\n"
     ]
    },
    {
     "name": "stderr",
     "output_type": "stream",
     "text": [
      "Processing questions:   3%|▎         | 12/366 [00:10<05:08,  1.15it/s]"
     ]
    },
    {
     "name": "stdout",
     "output_type": "stream",
     "text": [
      "Generated answer: 5\n",
      "Explanation: Cell search (Option\n",
      "Answer ID: 5\n"
     ]
    },
    {
     "name": "stderr",
     "output_type": "stream",
     "text": [
      "Processing questions:   4%|▎         | 13/366 [00:11<05:01,  1.17it/s]"
     ]
    },
    {
     "name": "stdout",
     "output_type": "stream",
     "text": [
      "Generated answer: 1\n",
      "Explanation: The minimum requirement is\n",
      "Answer ID: 1\n"
     ]
    },
    {
     "name": "stderr",
     "output_type": "stream",
     "text": [
      "Processing questions:   4%|▍         | 14/366 [00:12<05:16,  1.11it/s]"
     ]
    },
    {
     "name": "stdout",
     "output_type": "stream",
     "text": [
      "Generated answer: 1\n",
      "Explanation: HandOverPrepared\n",
      "Answer ID: 1\n"
     ]
    },
    {
     "name": "stderr",
     "output_type": "stream",
     "text": [
      "Processing questions:   4%|▍         | 15/366 [00:13<05:17,  1.10it/s]"
     ]
    },
    {
     "name": "stdout",
     "output_type": "stream",
     "text": [
      "Generated answer: 3\n",
      "Explanation: There can only be\n",
      "Answer ID: 3\n"
     ]
    },
    {
     "name": "stderr",
     "output_type": "stream",
     "text": [
      "Processing questions:   4%|▍         | 16/366 [00:13<05:13,  1.12it/s]"
     ]
    },
    {
     "name": "stdout",
     "output_type": "stream",
     "text": [
      "Generated answer: 2\n",
      "Explanation: The purpose is to\n",
      "Answer ID: 2\n"
     ]
    },
    {
     "name": "stderr",
     "output_type": "stream",
     "text": [
      "Processing questions:   5%|▍         | 17/366 [00:14<05:09,  1.13it/s]"
     ]
    },
    {
     "name": "stdout",
     "output_type": "stream",
     "text": [
      "Generated answer: 3\n",
      "Explanation: An AI model should\n",
      "Answer ID: 3\n"
     ]
    },
    {
     "name": "stderr",
     "output_type": "stream",
     "text": [
      "Processing questions:   5%|▍         | 18/366 [00:15<05:08,  1.13it/s]"
     ]
    },
    {
     "name": "stdout",
     "output_type": "stream",
     "text": [
      "Generated answer: 1\n",
      "Explanation: The objective is stated\n",
      "Answer ID: 1\n"
     ]
    },
    {
     "name": "stderr",
     "output_type": "stream",
     "text": [
      "Processing questions:   5%|▌         | 19/366 [00:16<05:02,  1.15it/s]"
     ]
    },
    {
     "name": "stdout",
     "output_type": "stream",
     "text": [
      "Generated answer: 1\n",
      "Explanation: The architecture enhancements work\n",
      "Answer ID: 1\n"
     ]
    },
    {
     "name": "stderr",
     "output_type": "stream",
     "text": [
      "Processing questions:   5%|▌         | 20/366 [00:17<04:59,  1.16it/s]"
     ]
    },
    {
     "name": "stdout",
     "output_type": "stream",
     "text": [
      "Generated answer: 1\n",
      "Explanation: The charging principles that\n",
      "Answer ID: 1\n"
     ]
    },
    {
     "name": "stderr",
     "output_type": "stream",
     "text": [
      "Processing questions:   6%|▌         | 21/366 [00:18<05:05,  1.13it/s]"
     ]
    },
    {
     "name": "stdout",
     "output_type": "stream",
     "text": [
      "Generated answer: 1 - To provision the SBI for Charged\n",
      "Answer ID: 1\n"
     ]
    },
    {
     "name": "stderr",
     "output_type": "stream",
     "text": [
      "Processing questions:   6%|▌         | 22/366 [00:19<05:15,  1.09it/s]"
     ]
    },
    {
     "name": "stdout",
     "output_type": "stream",
     "text": [
      "Generated answer: 3\n",
      "Explanation: The Etsun\n",
      "Answer ID: 3\n"
     ]
    },
    {
     "name": "stderr",
     "output_type": "stream",
     "text": [
      "Processing questions:   6%|▋         | 23/366 [00:20<05:09,  1.11it/s]"
     ]
    },
    {
     "name": "stdout",
     "output_type": "stream",
     "text": [
      "Generated answer: 4\n",
      "Explanation: The demolulation\n",
      "Answer ID: 4\n"
     ]
    },
    {
     "name": "stderr",
     "output_type": "stream",
     "text": [
      "Processing questions:   7%|▋         | 24/366 [00:21<05:05,  1.12it/s]"
     ]
    },
    {
     "name": "stdout",
     "output_type": "stream",
     "text": [
      "Generated answer: 3\n",
      "Explanation: The identifier that contains\n",
      "Answer ID: 3\n"
     ]
    },
    {
     "name": "stderr",
     "output_type": "stream",
     "text": [
      "Processing questions:   7%|▋         | 25/366 [00:21<05:02,  1.13it/s]"
     ]
    },
    {
     "name": "stdout",
     "output_type": "stream",
     "text": [
      "Generated answer: 3\n",
      "Explanation: The requirements include very\n",
      "Answer ID: 3\n"
     ]
    },
    {
     "name": "stderr",
     "output_type": "stream",
     "text": [
      "Processing questions:   7%|▋         | 26/366 [00:22<04:53,  1.16it/s]"
     ]
    },
    {
     "name": "stdout",
     "output_type": "stream",
     "text": [
      "Generated answer: 3\n",
      "Explanation: Exemption of sensing\n",
      "Answer ID: 3\n"
     ]
    },
    {
     "name": "stderr",
     "output_type": "stream",
     "text": [
      "Processing questions:   7%|▋         | 27/366 [00:23<04:51,  1.16it/s]"
     ]
    },
    {
     "name": "stdout",
     "output_type": "stream",
     "text": [
      "Generated answer: 3\n",
      "Explanation: The functions that the\n",
      "Answer ID: 3\n"
     ]
    },
    {
     "name": "stderr",
     "output_type": "stream",
     "text": [
      "Processing questions:   8%|▊         | 28/366 [00:24<04:57,  1.14it/s]"
     ]
    },
    {
     "name": "stdout",
     "output_type": "stream",
     "text": [
      "Generated answer: 4 - Relative Importance of User's Experience of\n",
      "Answer ID: 4\n"
     ]
    },
    {
     "name": "stderr",
     "output_type": "stream",
     "text": [
      "Processing questions:   8%|▊         | 29/366 [00:25<04:52,  1.15it/s]"
     ]
    },
    {
     "name": "stdout",
     "output_type": "stream",
     "text": [
      "Generated answer: 5\n",
      "Explanation: Downlink Power Control\n",
      "Answer ID: 5\n"
     ]
    },
    {
     "name": "stderr",
     "output_type": "stream",
     "text": [
      "Processing questions:   8%|▊         | 30/366 [00:26<05:01,  1.12it/s]"
     ]
    },
    {
     "name": "stdout",
     "output_type": "stream",
     "text": [
      "Generated answer: 1 - To Activate the FirstOutsideActivatedTime\n",
      "Answer ID: 1\n"
     ]
    },
    {
     "name": "stderr",
     "output_type": "stream",
     "text": [
      "Processing questions:   8%|▊         | 31/366 [00:27<04:54,  1.14it/s]"
     ]
    },
    {
     "name": "stdout",
     "output_type": "stream",
     "text": [
      "Generated answer: 1\n",
      "Explanation: The NWDF is\n",
      "Answer ID: 1\n"
     ]
    },
    {
     "name": "stderr",
     "output_type": "stream",
     "text": [
      "Processing questions:   9%|▊         | 32/366 [00:27<04:52,  1.14it/s]"
     ]
    },
    {
     "name": "stdout",
     "output_type": "stream",
     "text": [
      "Generated answer: 2\n",
      "Explanation: The Location Services of\n",
      "Answer ID: 2\n"
     ]
    },
    {
     "name": "stderr",
     "output_type": "stream",
     "text": [
      "Processing questions:   9%|▉         | 33/366 [00:28<04:44,  1.17it/s]"
     ]
    },
    {
     "name": "stdout",
     "output_type": "stream",
     "text": [
      "Generated answer: 3\n",
      "Explanation: The full detail of\n",
      "Answer ID: 3\n"
     ]
    },
    {
     "name": "stderr",
     "output_type": "stream",
     "text": [
      "Processing questions:   9%|▉         | 34/366 [00:29<04:48,  1.15it/s]"
     ]
    },
    {
     "name": "stdout",
     "output_type": "stream",
     "text": [
      "Generated answer: 1\n",
      "Explanation: The purpose is to\n",
      "Answer ID: 1\n"
     ]
    },
    {
     "name": "stderr",
     "output_type": "stream",
     "text": [
      "Processing questions:  10%|▉         | 35/366 [00:30<04:53,  1.13it/s]"
     ]
    },
    {
     "name": "stdout",
     "output_type": "stream",
     "text": [
      "Generated answer: 3\n",
      "Explanation: The interfering channel is\n",
      "Answer ID: 3\n"
     ]
    },
    {
     "name": "stderr",
     "output_type": "stream",
     "text": [
      "Processing questions:  10%|▉         | 36/366 [00:31<04:50,  1.14it/s]"
     ]
    },
    {
     "name": "stdout",
     "output_type": "stream",
     "text": [
      "Generated answer: 5\n",
      "Explanation: The Page Cause\n",
      "Answer ID: 5\n"
     ]
    },
    {
     "name": "stderr",
     "output_type": "stream",
     "text": [
      "Processing questions:  10%|█         | 37/366 [00:32<04:56,  1.11it/s]"
     ]
    },
    {
     "name": "stdout",
     "output_type": "stream",
     "text": [
      "Generated answer: 3\n",
      "Explanation: The purpose is to\n",
      "Answer ID: 3\n"
     ]
    },
    {
     "name": "stderr",
     "output_type": "stream",
     "text": [
      "Processing questions:  10%|█         | 38/366 [00:33<04:45,  1.15it/s]"
     ]
    },
    {
     "name": "stdout",
     "output_type": "stream",
     "text": [
      "Generated answer: 5\n",
      "Explanation: The 3rd Generation\n",
      "Answer ID: 5\n"
     ]
    },
    {
     "name": "stderr",
     "output_type": "stream",
     "text": [
      "Processing questions:  11%|█         | 39/366 [00:34<04:45,  1.15it/s]"
     ]
    },
    {
     "name": "stdout",
     "output_type": "stream",
     "text": [
      "Generated answer: 1\n",
      "Explanation: Mps-Sub\n",
      "Answer ID: 1\n"
     ]
    },
    {
     "name": "stderr",
     "output_type": "stream",
     "text": [
      "Processing questions:  11%|█         | 40/366 [00:34<04:44,  1.15it/s]"
     ]
    },
    {
     "name": "stdout",
     "output_type": "stream",
     "text": [
      "Generated answer: 3\n",
      "Explanation: The default capability for\n",
      "Answer ID: 3\n"
     ]
    },
    {
     "name": "stderr",
     "output_type": "stream",
     "text": [
      "Processing questions:  11%|█         | 41/366 [00:35<04:48,  1.12it/s]"
     ]
    },
    {
     "name": "stdout",
     "output_type": "stream",
     "text": [
      "Generated answer: 5\n",
      "Explanation: The feedback required for\n",
      "Answer ID: 5\n"
     ]
    },
    {
     "name": "stderr",
     "output_type": "stream",
     "text": [
      "Processing questions:  11%|█▏        | 42/366 [00:36<04:52,  1.11it/s]"
     ]
    },
    {
     "name": "stdout",
     "output_type": "stream",
     "text": [
      "Generated answer: 3\n",
      "Explanation: The GMB cause\n",
      "Answer ID: 3\n"
     ]
    },
    {
     "name": "stderr",
     "output_type": "stream",
     "text": [
      "Processing questions:  12%|█▏        | 43/366 [00:37<04:54,  1.10it/s]"
     ]
    },
    {
     "name": "stdout",
     "output_type": "stream",
     "text": [
      "Generated answer: 3\n",
      "Explanation: The function that supports\n",
      "Answer ID: 3\n"
     ]
    },
    {
     "name": "stderr",
     "output_type": "stream",
     "text": [
      "Processing questions:  12%|█▏        | 44/366 [00:38<04:54,  1.09it/s]"
     ]
    },
    {
     "name": "stdout",
     "output_type": "stream",
     "text": [
      "Generated answer: 2\n",
      "Explanation: The document TS32\n",
      "Answer ID: 2\n"
     ]
    },
    {
     "name": "stderr",
     "output_type": "stream",
     "text": [
      "Processing questions:  12%|█▏        | 45/366 [00:39<04:46,  1.12it/s]"
     ]
    },
    {
     "name": "stdout",
     "output_type": "stream",
     "text": [
      "Generated answer: 3\n",
      "Explanation: The identity used for\n",
      "Answer ID: 3\n"
     ]
    },
    {
     "name": "stderr",
     "output_type": "stream",
     "text": [
      "Processing questions:  13%|█▎        | 46/366 [00:40<04:50,  1.10it/s]"
     ]
    },
    {
     "name": "stdout",
     "output_type": "stream",
     "text": [
      "Generated answer: 2\n",
      "Explanation: The purpose is to\n",
      "Answer ID: 2\n"
     ]
    },
    {
     "name": "stderr",
     "output_type": "stream",
     "text": [
      "Processing questions:  13%|█▎        | 47/366 [00:41<04:52,  1.09it/s]"
     ]
    },
    {
     "name": "stdout",
     "output_type": "stream",
     "text": [
      "Generated answer: 4\n",
      "Explanation: The function responsible to\n",
      "Answer ID: 4\n"
     ]
    },
    {
     "name": "stderr",
     "output_type": "stream",
     "text": [
      "Processing questions:  13%|█▎        | 48/366 [00:42<04:45,  1.11it/s]"
     ]
    },
    {
     "name": "stdout",
     "output_type": "stream",
     "text": [
      "Generated answer: 3 - Both AI and ML functionality resides in both\n",
      "Answer ID: 3\n"
     ]
    },
    {
     "name": "stderr",
     "output_type": "stream",
     "text": [
      "Processing questions:  13%|█▎        | 49/366 [00:43<04:47,  1.10it/s]"
     ]
    },
    {
     "name": "stdout",
     "output_type": "stream",
     "text": [
      "Generated answer: 3\n",
      "Explanation: A SharedGERan\n",
      "Answer ID: 3\n"
     ]
    },
    {
     "name": "stderr",
     "output_type": "stream",
     "text": [
      "Processing questions:  14%|█▎        | 50/366 [00:44<04:51,  1.08it/s]"
     ]
    },
    {
     "name": "stdout",
     "output_type": "stream",
     "text": [
      "Generated answer: 3\n",
      "Explanation: It is used for\n",
      "Answer ID: 3\n"
     ]
    },
    {
     "name": "stderr",
     "output_type": "stream",
     "text": [
      "Processing questions:  14%|█▍        | 51/366 [00:45<04:42,  1.11it/s]"
     ]
    },
    {
     "name": "stdout",
     "output_type": "stream",
     "text": [
      "Generated answer: 4\n",
      "Explanation: AF invokes the\n",
      "Answer ID: 4\n"
     ]
    },
    {
     "name": "stderr",
     "output_type": "stream",
     "text": [
      "Processing questions:  14%|█▍        | 52/366 [00:45<04:38,  1.13it/s]"
     ]
    },
    {
     "name": "stdout",
     "output_type": "stream",
     "text": [
      "Generated answer: 1\n",
      "Explanation: The access mechanism that\n",
      "Answer ID: 1\n"
     ]
    },
    {
     "name": "stderr",
     "output_type": "stream",
     "text": [
      "Processing questions:  14%|█▍        | 53/366 [00:46<04:35,  1.14it/s]"
     ]
    },
    {
     "name": "stdout",
     "output_type": "stream",
     "text": [
      "Generated answer: 1\n",
      "Explanation: The purpose is stated\n",
      "Answer ID: 1\n"
     ]
    },
    {
     "name": "stderr",
     "output_type": "stream",
     "text": [
      "Processing questions:  15%|█▍        | 54/366 [00:47<04:31,  1.15it/s]"
     ]
    },
    {
     "name": "stdout",
     "output_type": "stream",
     "text": [
      "Generated answer: 5\n",
      "Explanation: A Topical Service\n",
      "Answer ID: 5\n"
     ]
    },
    {
     "name": "stderr",
     "output_type": "stream",
     "text": [
      "Processing questions:  15%|█▌        | 55/366 [00:48<04:30,  1.15it/s]"
     ]
    },
    {
     "name": "stdout",
     "output_type": "stream",
     "text": [
      "Generated answer: 4\n",
      "Explanation: The document states that\n",
      "Answer ID: 4\n"
     ]
    },
    {
     "name": "stderr",
     "output_type": "stream",
     "text": [
      "Processing questions:  15%|█▌        | 56/366 [00:49<04:30,  1.15it/s]"
     ]
    },
    {
     "name": "stdout",
     "output_type": "stream",
     "text": [
      "Generated answer: 4\n",
      "Explanation: End to End Priority\n",
      "Answer ID: 4\n"
     ]
    },
    {
     "name": "stderr",
     "output_type": "stream",
     "text": [
      "Processing questions:  16%|█▌        | 57/366 [00:50<04:36,  1.12it/s]"
     ]
    },
    {
     "name": "stdout",
     "output_type": "stream",
     "text": [
      "Generated answer: 2\n",
      "Explanation: Double differential measurement is\n",
      "Answer ID: 2\n"
     ]
    },
    {
     "name": "stderr",
     "output_type": "stream",
     "text": [
      "Processing questions:  16%|█▌        | 58/366 [00:51<04:39,  1.10it/s]"
     ]
    },
    {
     "name": "stdout",
     "output_type": "stream",
     "text": [
      "Generated answer: 1\n",
      "Explanation: In the context of\n",
      "Answer ID: 1\n"
     ]
    },
    {
     "name": "stderr",
     "output_type": "stream",
     "text": [
      "Processing questions:  16%|█▌        | 59/366 [00:52<04:34,  1.12it/s]"
     ]
    },
    {
     "name": "stdout",
     "output_type": "stream",
     "text": [
      "Generated answer: 2\n",
      "Explanation: This service is requested\n",
      "Answer ID: 2\n"
     ]
    },
    {
     "name": "stderr",
     "output_type": "stream",
     "text": [
      "Processing questions:  16%|█▋        | 60/366 [00:52<04:31,  1.13it/s]"
     ]
    },
    {
     "name": "stdout",
     "output_type": "stream",
     "text": [
      "Generated answer: 1\n",
      "Explanation: In RARAN\n",
      "Answer ID: 1\n"
     ]
    },
    {
     "name": "stderr",
     "output_type": "stream",
     "text": [
      "Processing questions:  17%|█▋        | 61/366 [00:53<04:34,  1.11it/s]"
     ]
    },
    {
     "name": "stdout",
     "output_type": "stream",
     "text": [
      "Generated answer: 1\n",
      "Explanation: The purpose is to\n",
      "Answer ID: 1\n"
     ]
    },
    {
     "name": "stderr",
     "output_type": "stream",
     "text": [
      "Processing questions:  17%|█▋        | 62/366 [00:54<04:23,  1.15it/s]"
     ]
    },
    {
     "name": "stdout",
     "output_type": "stream",
     "text": [
      "Generated answer: 4\n",
      "Explanation: The selection is determined\n",
      "Answer ID: 4\n"
     ]
    },
    {
     "name": "stderr",
     "output_type": "stream",
     "text": [
      "Processing questions:  17%|█▋        | 63/366 [00:55<04:29,  1.12it/s]"
     ]
    },
    {
     "name": "stdout",
     "output_type": "stream",
     "text": [
      "Generated answer: 5\n",
      "Explanation: The Uecap\n",
      "Answer ID: 5\n"
     ]
    },
    {
     "name": "stderr",
     "output_type": "stream",
     "text": [
      "Processing questions:  17%|█▋        | 64/366 [00:56<04:28,  1.12it/s]"
     ]
    },
    {
     "name": "stdout",
     "output_type": "stream",
     "text": [
      "Generated answer: 5\n",
      "Explanation: The UE should enter\n",
      "Answer ID: 5\n"
     ]
    },
    {
     "name": "stderr",
     "output_type": "stream",
     "text": [
      "Processing questions:  18%|█▊        | 65/366 [00:57<04:24,  1.14it/s]"
     ]
    },
    {
     "name": "stdout",
     "output_type": "stream",
     "text": [
      "Generated answer: 4\n",
      "Explanation: UE capability segmentation\n",
      "Answer ID: 4\n"
     ]
    },
    {
     "name": "stderr",
     "output_type": "stream",
     "text": [
      "Processing questions:  18%|█▊        | 66/366 [00:58<04:23,  1.14it/s]"
     ]
    },
    {
     "name": "stdout",
     "output_type": "stream",
     "text": [
      "Generated answer: 1\n",
      "Explanation: The radiate performance\n",
      "Answer ID: 1\n"
     ]
    },
    {
     "name": "stderr",
     "output_type": "stream",
     "text": [
      "Processing questions:  18%|█▊        | 67/366 [00:59<04:21,  1.14it/s]"
     ]
    },
    {
     "name": "stdout",
     "output_type": "stream",
     "text": [
      "Generated answer: 3\n",
      "Explanation: Autonomic Networks are\n",
      "Answer ID: 3\n"
     ]
    },
    {
     "name": "stderr",
     "output_type": "stream",
     "text": [
      "Processing questions:  19%|█▊        | 68/366 [00:59<04:20,  1.15it/s]"
     ]
    },
    {
     "name": "stdout",
     "output_type": "stream",
     "text": [
      "Generated answer: 4\n",
      "Explanation: The Location reporting control\n",
      "Answer ID: 4\n"
     ]
    },
    {
     "name": "stderr",
     "output_type": "stream",
     "text": [
      "Processing questions:  19%|█▉        | 69/366 [01:00<04:25,  1.12it/s]"
     ]
    },
    {
     "name": "stdout",
     "output_type": "stream",
     "text": [
      "Generated answer: 3\n",
      "Explanation: It is mentioned in\n",
      "Answer ID: 3\n"
     ]
    },
    {
     "name": "stderr",
     "output_type": "stream",
     "text": [
      "Processing questions:  19%|█▉        | 70/366 [01:01<04:23,  1.12it/s]"
     ]
    },
    {
     "name": "stdout",
     "output_type": "stream",
     "text": [
      "Generated answer: 1\n",
      "Explanation: The purpose is to\n",
      "Answer ID: 1\n"
     ]
    },
    {
     "name": "stderr",
     "output_type": "stream",
     "text": [
      "Processing questions:  19%|█▉        | 71/366 [01:02<04:27,  1.10it/s]"
     ]
    },
    {
     "name": "stdout",
     "output_type": "stream",
     "text": [
      "Generated answer: 4\n",
      "Explanation: For PUBCH\n",
      "Answer ID: 4\n"
     ]
    },
    {
     "name": "stderr",
     "output_type": "stream",
     "text": [
      "Processing questions:  20%|█▉        | 72/366 [01:03<04:18,  1.14it/s]"
     ]
    },
    {
     "name": "stdout",
     "output_type": "stream",
     "text": [
      "Generated answer: 3\n",
      "Explanation: NF Context is transferred\n",
      "Answer ID: 3\n"
     ]
    },
    {
     "name": "stderr",
     "output_type": "stream",
     "text": [
      "Processing questions:  20%|█▉        | 73/366 [01:04<04:16,  1.14it/s]"
     ]
    },
    {
     "name": "stdout",
     "output_type": "stream",
     "text": [
      "Generated answer: 1\n",
      "Explanation: The purpose is to\n",
      "Answer ID: 1\n"
     ]
    },
    {
     "name": "stderr",
     "output_type": "stream",
     "text": [
      "Processing questions:  20%|██        | 74/366 [01:05<04:21,  1.12it/s]"
     ]
    },
    {
     "name": "stdout",
     "output_type": "stream",
     "text": [
      "Generated answer: 4\n",
      "Explanation: The UE fails the\n",
      "Answer ID: 4\n"
     ]
    },
    {
     "name": "stderr",
     "output_type": "stream",
     "text": [
      "Processing questions:  20%|██        | 75/366 [01:06<04:17,  1.13it/s]"
     ]
    },
    {
     "name": "stdout",
     "output_type": "stream",
     "text": [
      "Generated answer: 4\n",
      "Explanation: The physical Uml\n",
      "Answer ID: 4\n"
     ]
    },
    {
     "name": "stderr",
     "output_type": "stream",
     "text": [
      "Processing questions:  21%|██        | 76/366 [01:07<04:14,  1.14it/s]"
     ]
    },
    {
     "name": "stdout",
     "output_type": "stream",
     "text": [
      "Generated answer: 3\n",
      "Explanation: The user-plane\n",
      "Answer ID: 3\n"
     ]
    },
    {
     "name": "stderr",
     "output_type": "stream",
     "text": [
      "Processing questions:  21%|██        | 77/366 [01:08<04:19,  1.12it/s]"
     ]
    },
    {
     "name": "stdout",
     "output_type": "stream",
     "text": [
      "Generated answer: 3\n",
      "Explanation: The AF can subscribe\n",
      "Answer ID: 3\n"
     ]
    },
    {
     "name": "stderr",
     "output_type": "stream",
     "text": [
      "Processing questions:  21%|██▏       | 78/366 [01:08<04:15,  1.13it/s]"
     ]
    },
    {
     "name": "stdout",
     "output_type": "stream",
     "text": [
      "Generated answer: 4\n",
      "Explanation: The MS sends an\n",
      "Answer ID: 4\n"
     ]
    },
    {
     "name": "stderr",
     "output_type": "stream",
     "text": [
      "Processing questions:  22%|██▏       | 79/366 [01:09<04:14,  1.13it/s]"
     ]
    },
    {
     "name": "stdout",
     "output_type": "stream",
     "text": [
      "Generated answer: 2\n",
      "Explanation: The eNb\n",
      "Answer ID: 2\n"
     ]
    },
    {
     "name": "stderr",
     "output_type": "stream",
     "text": [
      "Processing questions:  22%|██▏       | 80/366 [01:10<04:16,  1.12it/s]"
     ]
    },
    {
     "name": "stdout",
     "output_type": "stream",
     "text": [
      "Generated answer: 5\n",
      "Explanation: The document states that\n",
      "Answer ID: 5\n"
     ]
    },
    {
     "name": "stderr",
     "output_type": "stream",
     "text": [
      "Processing questions:  22%|██▏       | 81/366 [01:11<04:13,  1.12it/s]"
     ]
    },
    {
     "name": "stdout",
     "output_type": "stream",
     "text": [
      "Generated answer: 2\n",
      "Explanation: The maximum size of\n",
      "Answer ID: 2\n"
     ]
    },
    {
     "name": "stderr",
     "output_type": "stream",
     "text": [
      "Processing questions:  22%|██▏       | 82/366 [01:12<04:16,  1.11it/s]"
     ]
    },
    {
     "name": "stdout",
     "output_type": "stream",
     "text": [
      "Generated answer: 2\n",
      "Explanation: The UE selects a\n",
      "Answer ID: 2\n"
     ]
    },
    {
     "name": "stderr",
     "output_type": "stream",
     "text": [
      "Processing questions:  23%|██▎       | 83/366 [01:13<04:16,  1.10it/s]"
     ]
    },
    {
     "name": "stdout",
     "output_type": "stream",
     "text": [
      "Generated answer: 2\n",
      "Explanation: The RLM sub\n",
      "Answer ID: 2\n"
     ]
    },
    {
     "name": "stderr",
     "output_type": "stream",
     "text": [
      "Processing questions:  23%|██▎       | 84/366 [01:14<04:12,  1.12it/s]"
     ]
    },
    {
     "name": "stdout",
     "output_type": "stream",
     "text": [
      "Generated answer: 3\n",
      "Explanation: The requirement states that\n",
      "Answer ID: 3\n"
     ]
    },
    {
     "name": "stderr",
     "output_type": "stream",
     "text": [
      "Processing questions:  23%|██▎       | 85/366 [01:15<04:07,  1.14it/s]"
     ]
    },
    {
     "name": "stdout",
     "output_type": "stream",
     "text": [
      "Generated answer: 1\n",
      "Explanation: The value REFER\n",
      "Answer ID: 1\n"
     ]
    },
    {
     "name": "stderr",
     "output_type": "stream",
     "text": [
      "Processing questions:  23%|██▎       | 86/366 [01:15<04:05,  1.14it/s]"
     ]
    },
    {
     "name": "stdout",
     "output_type": "stream",
     "text": [
      "Generated answer: 4\n",
      "Explanation: Subsequent UL transmission\n",
      "Answer ID: 4\n"
     ]
    },
    {
     "name": "stderr",
     "output_type": "stream",
     "text": [
      "Processing questions:  24%|██▍       | 87/366 [01:16<03:59,  1.17it/s]"
     ]
    },
    {
     "name": "stdout",
     "output_type": "stream",
     "text": [
      "Generated answer: 5\n",
      "Explanation: Each measurement of M\n",
      "Answer ID: 5\n"
     ]
    },
    {
     "name": "stderr",
     "output_type": "stream",
     "text": [
      "Processing questions:  24%|██▍       | 88/366 [01:17<03:58,  1.16it/s]"
     ]
    },
    {
     "name": "stdout",
     "output_type": "stream",
     "text": [
      "Generated answer: 1 - To advanced/delayed UE Timings\n",
      "Answer ID: 1\n"
     ]
    },
    {
     "name": "stderr",
     "output_type": "stream",
     "text": [
      "Processing questions:  24%|██▍       | 89/366 [01:18<04:03,  1.14it/s]"
     ]
    },
    {
     "name": "stdout",
     "output_type": "stream",
     "text": [
      "Generated answer: 4\n",
      "Explanation: The purpose is to\n",
      "Answer ID: 4\n"
     ]
    },
    {
     "name": "stderr",
     "output_type": "stream",
     "text": [
      "Processing questions:  25%|██▍       | 90/366 [01:19<03:59,  1.15it/s]"
     ]
    },
    {
     "name": "stdout",
     "output_type": "stream",
     "text": [
      "Generated answer: 3\n",
      "Explanation: L1 measurement is\n",
      "Answer ID: 3\n"
     ]
    },
    {
     "name": "stderr",
     "output_type": "stream",
     "text": [
      "Processing questions:  25%|██▍       | 91/366 [01:20<03:58,  1.15it/s]"
     ]
    },
    {
     "name": "stdout",
     "output_type": "stream",
     "text": [
      "Generated answer: 1\n",
      "Explanation: The requirements include ensuring\n",
      "Answer ID: 1\n"
     ]
    },
    {
     "name": "stderr",
     "output_type": "stream",
     "text": [
      "Processing questions:  25%|██▌       | 92/366 [01:21<03:52,  1.18it/s]"
     ]
    },
    {
     "name": "stdout",
     "output_type": "stream",
     "text": [
      "Generated answer: 5 - An Association between the EAs belonging in\n",
      "Answer ID: 5\n"
     ]
    },
    {
     "name": "stderr",
     "output_type": "stream",
     "text": [
      "Processing questions:  25%|██▌       | 93/366 [01:21<03:54,  1.16it/s]"
     ]
    },
    {
     "name": "stdout",
     "output_type": "stream",
     "text": [
      "Generated answer: 5\n",
      "Explanation: Exposing monitoring information\n",
      "Answer ID: 5\n"
     ]
    },
    {
     "name": "stderr",
     "output_type": "stream",
     "text": [
      "Processing questions:  26%|██▌       | 94/366 [01:22<04:02,  1.12it/s]"
     ]
    },
    {
     "name": "stdout",
     "output_type": "stream",
     "text": [
      "Generated answer: 3\n",
      "Explanation: The UE context is\n",
      "Answer ID: 3\n"
     ]
    },
    {
     "name": "stderr",
     "output_type": "stream",
     "text": [
      "Processing questions:  26%|██▌       | 95/366 [01:23<04:05,  1.10it/s]"
     ]
    },
    {
     "name": "stdout",
     "output_type": "stream",
     "text": [
      "Generated answer: 4\n",
      "Explanation: Provisioning of GN\n",
      "Answer ID: 4\n"
     ]
    },
    {
     "name": "stderr",
     "output_type": "stream",
     "text": [
      "Processing questions:  26%|██▌       | 96/366 [01:24<04:06,  1.09it/s]"
     ]
    },
    {
     "name": "stdout",
     "output_type": "stream",
     "text": [
      "Generated answer: 5\n",
      "Explanation: The control planes for\n",
      "Answer ID: 5\n"
     ]
    },
    {
     "name": "stderr",
     "output_type": "stream",
     "text": [
      "Processing questions:  27%|██▋       | 97/366 [01:25<04:03,  1.11it/s]"
     ]
    },
    {
     "name": "stdout",
     "output_type": "stream",
     "text": [
      "Generated answer: 3\n",
      "Explanation: The purpose is to\n",
      "Answer ID: 3\n"
     ]
    },
    {
     "name": "stderr",
     "output_type": "stream",
     "text": [
      "Processing questions:  27%|██▋       | 98/366 [01:26<03:58,  1.12it/s]"
     ]
    },
    {
     "name": "stdout",
     "output_type": "stream",
     "text": [
      "Generated answer: 2\n",
      "Explanation: An alternative routing path\n",
      "Answer ID: 2\n"
     ]
    },
    {
     "name": "stderr",
     "output_type": "stream",
     "text": [
      "Processing questions:  27%|██▋       | 99/366 [01:27<04:02,  1.10it/s]"
     ]
    },
    {
     "name": "stdout",
     "output_type": "stream",
     "text": [
      "Generated answer: 1\n",
      "Explanation: The format for the\n",
      "Answer ID: 1\n"
     ]
    },
    {
     "name": "stderr",
     "output_type": "stream",
     "text": [
      "Processing questions:  27%|██▋       | 100/366 [01:28<03:58,  1.11it/s]"
     ]
    },
    {
     "name": "stdout",
     "output_type": "stream",
     "text": [
      "Generated answer: 4\n",
      "Explanation: The relayue selection\n",
      "Answer ID: 4\n"
     ]
    },
    {
     "name": "stderr",
     "output_type": "stream",
     "text": [
      "Processing questions:  28%|██▊       | 101/366 [01:29<03:55,  1.13it/s]"
     ]
    },
    {
     "name": "stdout",
     "output_type": "stream",
     "text": [
      "Generated answer: 3\n",
      "Explanation: The function responsible is\n",
      "Answer ID: 3\n"
     ]
    },
    {
     "name": "stderr",
     "output_type": "stream",
     "text": [
      "Processing questions:  28%|██▊       | 102/366 [01:30<03:57,  1.11it/s]"
     ]
    },
    {
     "name": "stdout",
     "output_type": "stream",
     "text": [
      "Generated answer: 1\n",
      "Explanation: The protocols specified for\n",
      "Answer ID: 1\n"
     ]
    },
    {
     "name": "stderr",
     "output_type": "stream",
     "text": [
      "Processing questions:  28%|██▊       | 103/366 [01:31<03:59,  1.10it/s]"
     ]
    },
    {
     "name": "stdout",
     "output_type": "stream",
     "text": [
      "Generated answer: 2 - During PDu Session Establish procedure\n",
      "Answer ID: 2\n"
     ]
    },
    {
     "name": "stderr",
     "output_type": "stream",
     "text": [
      "Processing questions:  28%|██▊       | 104/366 [01:31<03:53,  1.12it/s]"
     ]
    },
    {
     "name": "stdout",
     "output_type": "stream",
     "text": [
      "Generated answer: 4\n",
      "Explanation: An SSB MS\n",
      "Answer ID: 4\n"
     ]
    },
    {
     "name": "stderr",
     "output_type": "stream",
     "text": [
      "Processing questions:  29%|██▊       | 105/366 [01:32<03:51,  1.13it/s]"
     ]
    },
    {
     "name": "stdout",
     "output_type": "stream",
     "text": [
      "Generated answer: 1\n",
      "Explanation: The LCS-CL\n",
      "Answer ID: 1\n"
     ]
    },
    {
     "name": "stderr",
     "output_type": "stream",
     "text": [
      "Processing questions:  29%|██▉       | 106/366 [01:33<03:49,  1.14it/s]"
     ]
    },
    {
     "name": "stdout",
     "output_type": "stream",
     "text": [
      "Generated answer: 1\n",
      "Explanation: The two reference types\n",
      "Answer ID: 1\n"
     ]
    },
    {
     "name": "stderr",
     "output_type": "stream",
     "text": [
      "Processing questions:  29%|██▉       | 107/366 [01:34<03:52,  1.11it/s]"
     ]
    },
    {
     "name": "stdout",
     "output_type": "stream",
     "text": [
      "Generated answer: 3\n",
      "Explanation: A cell that broadcasts\n",
      "Answer ID: 3\n"
     ]
    },
    {
     "name": "stderr",
     "output_type": "stream",
     "text": [
      "Processing questions:  30%|██▉       | 108/366 [01:35<03:46,  1.14it/s]"
     ]
    },
    {
     "name": "stdout",
     "output_type": "stream",
     "text": [
      "Generated answer: 5\n",
      "Explanation: A UE expects to\n",
      "Answer ID: 5\n"
     ]
    },
    {
     "name": "stderr",
     "output_type": "stream",
     "text": [
      "Processing questions:  30%|██▉       | 109/366 [01:36<03:49,  1.12it/s]"
     ]
    },
    {
     "name": "stdout",
     "output_type": "stream",
     "text": [
      "Generated answer: 5\n",
      "Explanation: The Edge application server\n",
      "Answer ID: 5\n"
     ]
    },
    {
     "name": "stderr",
     "output_type": "stream",
     "text": [
      "Processing questions:  30%|███       | 110/366 [01:37<03:54,  1.09it/s]"
     ]
    },
    {
     "name": "stdout",
     "output_type": "stream",
     "text": [
      "Generated answer: 2\n",
      "Explanation: This workitem provides\n",
      "Answer ID: 2\n"
     ]
    },
    {
     "name": "stderr",
     "output_type": "stream",
     "text": [
      "Processing questions:  30%|███       | 111/366 [01:38<03:48,  1.11it/s]"
     ]
    },
    {
     "name": "stdout",
     "output_type": "stream",
     "text": [
      "Generated answer: 3\n",
      "Explanation: ADrf in 5\n",
      "Answer ID: 3\n"
     ]
    },
    {
     "name": "stderr",
     "output_type": "stream",
     "text": [
      "Processing questions:  31%|███       | 112/366 [01:39<03:52,  1.09it/s]"
     ]
    },
    {
     "name": "stdout",
     "output_type": "stream",
     "text": [
      "Generated answer: 5\n",
      "Explanation: The Serving SNS\n",
      "Answer ID: 5\n"
     ]
    },
    {
     "name": "stderr",
     "output_type": "stream",
     "text": [
      "Processing questions:  31%|███       | 113/366 [01:40<03:46,  1.12it/s]"
     ]
    },
    {
     "name": "stdout",
     "output_type": "stream",
     "text": [
      "Generated answer: 3\n",
      "Explanation: A PSFCH\n",
      "Answer ID: 3\n"
     ]
    },
    {
     "name": "stderr",
     "output_type": "stream",
     "text": [
      "Processing questions:  31%|███       | 114/366 [01:40<03:43,  1.13it/s]"
     ]
    },
    {
     "name": "stdout",
     "output_type": "stream",
     "text": [
      "Generated answer: 5\n",
      "Explanation: Internal Group Identifiers\n",
      "Answer ID: 5\n"
     ]
    },
    {
     "name": "stderr",
     "output_type": "stream",
     "text": [
      "Processing questions:  31%|███▏      | 115/366 [01:41<03:40,  1.14it/s]"
     ]
    },
    {
     "name": "stdout",
     "output_type": "stream",
     "text": [
      "Generated answer: 4\n",
      "Explanation: The Indirect Group\n",
      "Answer ID: 4\n"
     ]
    },
    {
     "name": "stderr",
     "output_type": "stream",
     "text": [
      "Processing questions:  32%|███▏      | 116/366 [01:42<03:38,  1.14it/s]"
     ]
    },
    {
     "name": "stdout",
     "output_type": "stream",
     "text": [
      "Generated answer: 3\n",
      "Explanation: Transform preconding is\n",
      "Answer ID: 3\n"
     ]
    },
    {
     "name": "stderr",
     "output_type": "stream",
     "text": [
      "Processing questions:  32%|███▏      | 117/366 [01:43<03:38,  1.14it/s]"
     ]
    },
    {
     "name": "stdout",
     "output_type": "stream",
     "text": [
      "Generated answer: 2\n",
      "Explanation: The AMFA pur\n",
      "Answer ID: 2\n"
     ]
    },
    {
     "name": "stderr",
     "output_type": "stream",
     "text": [
      "Processing questions:  32%|███▏      | 118/366 [01:44<03:36,  1.15it/s]"
     ]
    },
    {
     "name": "stdout",
     "output_type": "stream",
     "text": [
      "Generated answer: 4\n",
      "Explanation: The'request-\n",
      "Answer ID: 4\n"
     ]
    },
    {
     "name": "stderr",
     "output_type": "stream",
     "text": [
      "Processing questions:  33%|███▎      | 119/366 [01:45<03:39,  1.13it/s]"
     ]
    },
    {
     "name": "stdout",
     "output_type": "stream",
     "text": [
      "Generated answer: 4\n",
      "Explanation: The efficient and reliable\n",
      "Answer ID: 4\n"
     ]
    },
    {
     "name": "stderr",
     "output_type": "stream",
     "text": [
      "Processing questions:  33%|███▎      | 120/366 [01:46<03:35,  1.14it/s]"
     ]
    },
    {
     "name": "stdout",
     "output_type": "stream",
     "text": [
      "Generated answer: 1\n",
      "Explanation: The TDl models\n",
      "Answer ID: 1\n"
     ]
    },
    {
     "name": "stderr",
     "output_type": "stream",
     "text": [
      "Processing questions:  33%|███▎      | 121/366 [01:47<03:44,  1.09it/s]"
     ]
    },
    {
     "name": "stdout",
     "output_type": "stream",
     "text": [
      "Generated answer: 5\n",
      "Explanation: The purpose is to\n",
      "Answer ID: 5\n"
     ]
    },
    {
     "name": "stderr",
     "output_type": "stream",
     "text": [
      "Processing questions:  33%|███▎      | 122/366 [01:48<03:46,  1.08it/s]"
     ]
    },
    {
     "name": "stdout",
     "output_type": "stream",
     "text": [
      "Generated answer: 5\n",
      "Explanation: PsschResource\n",
      "Answer ID: 5\n"
     ]
    },
    {
     "name": "stderr",
     "output_type": "stream",
     "text": [
      "Processing questions:  34%|███▎      | 123/366 [01:48<03:41,  1.10it/s]"
     ]
    },
    {
     "name": "stdout",
     "output_type": "stream",
     "text": [
      "Generated answer: 5\n",
      "Explanation: Offline charging is used\n",
      "Answer ID: 5\n"
     ]
    },
    {
     "name": "stderr",
     "output_type": "stream",
     "text": [
      "Processing questions:  34%|███▍      | 124/366 [01:49<03:41,  1.09it/s]"
     ]
    },
    {
     "name": "stdout",
     "output_type": "stream",
     "text": [
      "Generated answer: 1\n",
      "Explanation: The reference pointer between\n",
      "Answer ID: 1\n"
     ]
    },
    {
     "name": "stderr",
     "output_type": "stream",
     "text": [
      "Processing questions:  34%|███▍      | 125/366 [01:50<03:36,  1.12it/s]"
     ]
    },
    {
     "name": "stdout",
     "output_type": "stream",
     "text": [
      "Generated answer: 5\n",
      "Explanation: The improvements in reliability\n",
      "Answer ID: 5\n"
     ]
    },
    {
     "name": "stderr",
     "output_type": "stream",
     "text": [
      "Processing questions:  34%|███▍      | 126/366 [01:51<03:29,  1.15it/s]"
     ]
    },
    {
     "name": "stdout",
     "output_type": "stream",
     "text": [
      "Generated answer: 5\n",
      "Explanation: Serving cells are configured\n",
      "Answer ID: 5\n"
     ]
    },
    {
     "name": "stderr",
     "output_type": "stream",
     "text": [
      "Processing questions:  35%|███▍      | 127/366 [01:52<03:28,  1.14it/s]"
     ]
    },
    {
     "name": "stdout",
     "output_type": "stream",
     "text": [
      "Generated answer: 5\n",
      "Explanation: The 5GC system\n",
      "Answer ID: 5\n"
     ]
    },
    {
     "name": "stderr",
     "output_type": "stream",
     "text": [
      "Processing questions:  35%|███▍      | 128/366 [01:53<03:22,  1.18it/s]"
     ]
    },
    {
     "name": "stdout",
     "output_type": "stream",
     "text": [
      "Generated answer: 1\n",
      "Explanation: The purpose is to\n",
      "Answer ID: 1\n"
     ]
    },
    {
     "name": "stderr",
     "output_type": "stream",
     "text": [
      "Processing questions:  35%|███▌      | 129/366 [01:54<03:27,  1.14it/s]"
     ]
    },
    {
     "name": "stdout",
     "output_type": "stream",
     "text": [
      "Generated answer: 3\n",
      "Explanation: With SRVC operation\n",
      "Answer ID: 3\n"
     ]
    },
    {
     "name": "stderr",
     "output_type": "stream",
     "text": [
      "Processing questions:  36%|███▌      | 130/366 [01:55<03:23,  1.16it/s]"
     ]
    },
    {
     "name": "stdout",
     "output_type": "stream",
     "text": [
      "Generated answer: 4\n",
      "Explanation: The mechanism that the\n",
      "Answer ID: 4\n"
     ]
    },
    {
     "name": "stderr",
     "output_type": "stream",
     "text": [
      "Processing questions:  36%|███▌      | 131/366 [01:55<03:23,  1.16it/s]"
     ]
    },
    {
     "name": "stdout",
     "output_type": "stream",
     "text": [
      "Generated answer: 5\n",
      "Explanation: Call Whispers are\n",
      "Answer ID: 5\n"
     ]
    },
    {
     "name": "stderr",
     "output_type": "stream",
     "text": [
      "Processing questions:  36%|███▌      | 132/366 [01:56<03:27,  1.13it/s]"
     ]
    },
    {
     "name": "stdout",
     "output_type": "stream",
     "text": [
      "Generated answer: 5\n",
      "Explanation: The purpose is stated\n",
      "Answer ID: 5\n"
     ]
    },
    {
     "name": "stderr",
     "output_type": "stream",
     "text": [
      "Processing questions:  36%|███▋      | 133/366 [01:57<03:26,  1.13it/s]"
     ]
    },
    {
     "name": "stdout",
     "output_type": "stream",
     "text": [
      "Generated answer: 5\n",
      "Explanation: The NAS signaling security\n",
      "Answer ID: 5\n"
     ]
    },
    {
     "name": "stderr",
     "output_type": "stream",
     "text": [
      "Processing questions:  37%|███▋      | 134/366 [01:58<03:24,  1.13it/s]"
     ]
    },
    {
     "name": "stdout",
     "output_type": "stream",
     "text": [
      "Generated answer: 1\n",
      "Explanation: The LCS Server should\n",
      "Answer ID: 1\n"
     ]
    },
    {
     "name": "stderr",
     "output_type": "stream",
     "text": [
      "Processing questions:  37%|███▋      | 135/366 [01:59<03:22,  1.14it/s]"
     ]
    },
    {
     "name": "stdout",
     "output_type": "stream",
     "text": [
      "Generated answer: 2\n",
      "Explanation: QOE collection\n",
      "Answer ID: 2\n"
     ]
    },
    {
     "name": "stderr",
     "output_type": "stream",
     "text": [
      "Processing questions:  37%|███▋      | 136/366 [02:00<03:20,  1.15it/s]"
     ]
    },
    {
     "name": "stdout",
     "output_type": "stream",
     "text": [
      "Generated answer: 3\n",
      "Explanation: A delay scaled CD\n",
      "Answer ID: 3\n"
     ]
    },
    {
     "name": "stderr",
     "output_type": "stream",
     "text": [
      "Processing questions:  37%|███▋      | 137/366 [02:01<03:14,  1.18it/s]"
     ]
    },
    {
     "name": "stdout",
     "output_type": "stream",
     "text": [
      "Generated answer: 5\n",
      "Explanation: The considerations include limitation\n",
      "Answer ID: 5\n"
     ]
    },
    {
     "name": "stderr",
     "output_type": "stream",
     "text": [
      "Processing questions:  38%|███▊      | 138/366 [02:01<03:15,  1.17it/s]"
     ]
    },
    {
     "name": "stdout",
     "output_type": "stream",
     "text": [
      "Generated answer: 2\n",
      "Explanation: NWDF provides statistics\n",
      "Answer ID: 2\n"
     ]
    },
    {
     "name": "stderr",
     "output_type": "stream",
     "text": [
      "Processing questions:  38%|███▊      | 139/366 [02:02<03:05,  1.22it/s]"
     ]
    },
    {
     "name": "stdout",
     "output_type": "stream",
     "text": [
      "Generated answer: 5\n",
      "Explanation: The control loops that\n",
      "Answer ID: 5\n"
     ]
    },
    {
     "name": "stderr",
     "output_type": "stream",
     "text": [
      "Processing questions:  38%|███▊      | 140/366 [02:03<03:12,  1.17it/s]"
     ]
    },
    {
     "name": "stdout",
     "output_type": "stream",
     "text": [
      "Generated answer: 2\n",
      "Explanation: The purpose is to\n",
      "Answer ID: 2\n"
     ]
    },
    {
     "name": "stderr",
     "output_type": "stream",
     "text": [
      "Processing questions:  39%|███▊      | 141/366 [02:04<03:14,  1.16it/s]"
     ]
    },
    {
     "name": "stdout",
     "output_type": "stream",
     "text": [
      "Generated answer: 1\n",
      "Explanation: The Intermediate M-\n",
      "Answer ID: 1\n"
     ]
    },
    {
     "name": "stderr",
     "output_type": "stream",
     "text": [
      "Processing questions:  39%|███▉      | 142/366 [02:05<03:12,  1.16it/s]"
     ]
    },
    {
     "name": "stdout",
     "output_type": "stream",
     "text": [
      "Generated answer: 2\n",
      "Explanation: NG_Ran\n",
      "Answer ID: 2\n"
     ]
    },
    {
     "name": "stderr",
     "output_type": "stream",
     "text": [
      "Processing questions:  39%|███▉      | 143/366 [02:06<03:09,  1.18it/s]"
     ]
    },
    {
     "name": "stdout",
     "output_type": "stream",
     "text": [
      "Generated answer: 2\n",
      "Explanation: Access performance measurement per\n",
      "Answer ID: 2\n"
     ]
    },
    {
     "name": "stderr",
     "output_type": "stream",
     "text": [
      "Processing questions:  39%|███▉      | 144/366 [02:07<03:09,  1.17it/s]"
     ]
    },
    {
     "name": "stdout",
     "output_type": "stream",
     "text": [
      "Generated answer: 3\n",
      "Explanation: The NmA-\n",
      "Answer ID: 3\n"
     ]
    },
    {
     "name": "stderr",
     "output_type": "stream",
     "text": [
      "Processing questions:  40%|███▉      | 145/366 [02:07<02:59,  1.23it/s]"
     ]
    },
    {
     "name": "stdout",
     "output_type": "stream",
     "text": [
      "Generated answer: 1 - Configuration1\n",
      "Answer ID: 1\n"
     ]
    },
    {
     "name": "stderr",
     "output_type": "stream",
     "text": [
      "Processing questions:  40%|███▉      | 146/366 [02:08<03:02,  1.20it/s]"
     ]
    },
    {
     "name": "stdout",
     "output_type": "stream",
     "text": [
      "Generated answer: 1\n",
      "Explanation: The purpose is to\n",
      "Answer ID: 1\n"
     ]
    },
    {
     "name": "stderr",
     "output_type": "stream",
     "text": [
      "Processing questions:  40%|████      | 147/366 [02:09<03:07,  1.17it/s]"
     ]
    },
    {
     "name": "stdout",
     "output_type": "stream",
     "text": [
      "Generated answer: 1\n",
      "Explanation: The reference pointing to\n",
      "Answer ID: 1\n"
     ]
    },
    {
     "name": "stderr",
     "output_type": "stream",
     "text": [
      "Processing questions:  40%|████      | 148/366 [02:10<03:06,  1.17it/s]"
     ]
    },
    {
     "name": "stdout",
     "output_type": "stream",
     "text": [
      "Generated answer: 2\n",
      "Explanation: The purpose is to\n",
      "Answer ID: 2\n"
     ]
    },
    {
     "name": "stderr",
     "output_type": "stream",
     "text": [
      "Processing questions:  41%|████      | 149/366 [02:11<03:06,  1.16it/s]"
     ]
    },
    {
     "name": "stdout",
     "output_type": "stream",
     "text": [
      "Generated answer: 2\n",
      "Explanation: The length is indicated\n",
      "Answer ID: 2\n"
     ]
    },
    {
     "name": "stderr",
     "output_type": "stream",
     "text": [
      "Processing questions:  41%|████      | 150/366 [02:12<03:05,  1.16it/s]"
     ]
    },
    {
     "name": "stdout",
     "output_type": "stream",
     "text": [
      "Generated answer: 4\n",
      "Explanation: The SA-5\n",
      "Answer ID: 4\n"
     ]
    },
    {
     "name": "stderr",
     "output_type": "stream",
     "text": [
      "Processing questions:  41%|████▏     | 151/366 [02:12<03:01,  1.18it/s]"
     ]
    },
    {
     "name": "stdout",
     "output_type": "stream",
     "text": [
      "Generated answer: 1\n",
      "Explanation: If Traffic Type of\n",
      "Answer ID: 1\n"
     ]
    },
    {
     "name": "stderr",
     "output_type": "stream",
     "text": [
      "Processing questions:  42%|████▏     | 152/366 [02:13<03:07,  1.14it/s]"
     ]
    },
    {
     "name": "stdout",
     "output_type": "stream",
     "text": [
      "Generated answer: 2\n",
      "Explanation: UL semi-pers\n",
      "Answer ID: 2\n"
     ]
    },
    {
     "name": "stderr",
     "output_type": "stream",
     "text": [
      "Processing questions:  42%|████▏     | 153/366 [02:14<03:01,  1.17it/s]"
     ]
    },
    {
     "name": "stdout",
     "output_type": "stream",
     "text": [
      "Generated answer: 2\n",
      "Explanation: A single UIM\n",
      "Answer ID: 2\n"
     ]
    },
    {
     "name": "stderr",
     "output_type": "stream",
     "text": [
      "Processing questions:  42%|████▏     | 154/366 [02:15<03:05,  1.14it/s]"
     ]
    },
    {
     "name": "stdout",
     "output_type": "stream",
     "text": [
      "Generated answer: 5\n",
      "Explanation: The MMe indicates\n",
      "Answer ID: 5\n"
     ]
    },
    {
     "name": "stderr",
     "output_type": "stream",
     "text": [
      "Processing questions:  42%|████▏     | 155/366 [02:16<03:08,  1.12it/s]"
     ]
    },
    {
     "name": "stdout",
     "output_type": "stream",
     "text": [
      "Generated answer: 5\n",
      "Explanation: The architecture, information\n",
      "Answer ID: 5\n"
     ]
    },
    {
     "name": "stderr",
     "output_type": "stream",
     "text": [
      "Processing questions:  43%|████▎     | 156/366 [02:17<03:05,  1.13it/s]"
     ]
    },
    {
     "name": "stdout",
     "output_type": "stream",
     "text": [
      "Generated answer: 2\n",
      "Explanation: When Pdcch\n",
      "Answer ID: 2\n"
     ]
    },
    {
     "name": "stderr",
     "output_type": "stream",
     "text": [
      "Processing questions:  43%|████▎     | 157/366 [02:18<03:03,  1.14it/s]"
     ]
    },
    {
     "name": "stdout",
     "output_type": "stream",
     "text": [
      "Generated answer: 2\n",
      "Explanation: The adaptation and inter\n",
      "Answer ID: 2\n"
     ]
    },
    {
     "name": "stderr",
     "output_type": "stream",
     "text": [
      "Processing questions:  43%|████▎     | 158/366 [02:19<03:02,  1.14it/s]"
     ]
    },
    {
     "name": "stdout",
     "output_type": "stream",
     "text": [
      "Generated answer: 4\n",
      "Explanation: The application specific congestion\n",
      "Answer ID: 4\n"
     ]
    },
    {
     "name": "stderr",
     "output_type": "stream",
     "text": [
      "Processing questions:  43%|████▎     | 159/366 [02:20<02:59,  1.15it/s]"
     ]
    },
    {
     "name": "stdout",
     "output_type": "stream",
     "text": [
      "Generated answer: 1\n",
      "Explanation: The Analytics Id '\n",
      "Answer ID: 1\n"
     ]
    },
    {
     "name": "stderr",
     "output_type": "stream",
     "text": [
      "Processing questions:  44%|████▎     | 160/366 [02:21<03:08,  1.09it/s]"
     ]
    },
    {
     "name": "stdout",
     "output_type": "stream",
     "text": [
      "Generated answer: 5\n",
      "Explanation: Ota frequency errors\n",
      "Answer ID: 5\n"
     ]
    },
    {
     "name": "stderr",
     "output_type": "stream",
     "text": [
      "Processing questions:  44%|████▍     | 161/366 [02:21<03:09,  1.08it/s]"
     ]
    },
    {
     "name": "stdout",
     "output_type": "stream",
     "text": [
      "Generated answer: 4\n",
      "Explanation: A UE may determine\n",
      "Answer ID: 4\n"
     ]
    },
    {
     "name": "stderr",
     "output_type": "stream",
     "text": [
      "Processing questions:  44%|████▍     | 162/366 [02:22<03:04,  1.10it/s]"
     ]
    },
    {
     "name": "stdout",
     "output_type": "stream",
     "text": [
      "Generated answer: 5\n",
      "Explanation: The UE uses Listen\n",
      "Answer ID: 5\n"
     ]
    },
    {
     "name": "stderr",
     "output_type": "stream",
     "text": [
      "Processing questions:  45%|████▍     | 163/366 [02:23<03:01,  1.12it/s]"
     ]
    },
    {
     "name": "stdout",
     "output_type": "stream",
     "text": [
      "Generated answer: 3\n",
      "Explanation: The modated carrier\n",
      "Answer ID: 3\n"
     ]
    },
    {
     "name": "stderr",
     "output_type": "stream",
     "text": [
      "Processing questions:  45%|████▍     | 164/366 [02:24<02:58,  1.13it/s]"
     ]
    },
    {
     "name": "stdout",
     "output_type": "stream",
     "text": [
      "Generated answer: 5\n",
      "Explanation: In the context of\n",
      "Answer ID: 5\n"
     ]
    },
    {
     "name": "stderr",
     "output_type": "stream",
     "text": [
      "Processing questions:  45%|████▌     | 165/366 [02:25<03:01,  1.10it/s]"
     ]
    },
    {
     "name": "stdout",
     "output_type": "stream",
     "text": [
      "Generated answer: 1\n",
      "Explanation: The main goal of\n",
      "Answer ID: 1\n"
     ]
    },
    {
     "name": "stderr",
     "output_type": "stream",
     "text": [
      "Processing questions:  45%|████▌     | 166/366 [02:26<02:58,  1.12it/s]"
     ]
    },
    {
     "name": "stdout",
     "output_type": "stream",
     "text": [
      "Generated answer: 4\n",
      "Explanation: Service reachable in\n",
      "Answer ID: 4\n"
     ]
    },
    {
     "name": "stderr",
     "output_type": "stream",
     "text": [
      "Processing questions:  46%|████▌     | 167/366 [02:27<03:03,  1.08it/s]"
     ]
    },
    {
     "name": "stdout",
     "output_type": "stream",
     "text": [
      "Generated answer: 1\n",
      "Explanation: The LTE HRLL\n",
      "Answer ID: 1\n"
     ]
    },
    {
     "name": "stderr",
     "output_type": "stream",
     "text": [
      "Processing questions:  46%|████▌     | 168/366 [02:28<02:58,  1.11it/s]"
     ]
    },
    {
     "name": "stdout",
     "output_type": "stream",
     "text": [
      "Generated answer: 4\n",
      "Explanation: NWDF is the\n",
      "Answer ID: 4\n"
     ]
    },
    {
     "name": "stderr",
     "output_type": "stream",
     "text": [
      "Processing questions:  46%|████▌     | 169/366 [02:29<02:56,  1.12it/s]"
     ]
    },
    {
     "name": "stdout",
     "output_type": "stream",
     "text": [
      "Generated answer: 5\n",
      "Explanation: The procedure SmallData\n",
      "Answer ID: 5\n"
     ]
    },
    {
     "name": "stderr",
     "output_type": "stream",
     "text": [
      "Processing questions:  46%|████▋     | 170/366 [02:29<02:53,  1.13it/s]"
     ]
    },
    {
     "name": "stdout",
     "output_type": "stream",
     "text": [
      "Generated answer: 3\n",
      "Explanation: The Direct method of\n",
      "Answer ID: 3\n"
     ]
    },
    {
     "name": "stderr",
     "output_type": "stream",
     "text": [
      "Processing questions:  47%|████▋     | 171/366 [02:30<02:51,  1.14it/s]"
     ]
    },
    {
     "name": "stdout",
     "output_type": "stream",
     "text": [
      "Generated answer: 3\n",
      "Explanation: The network should support\n",
      "Answer ID: 3\n"
     ]
    },
    {
     "name": "stderr",
     "output_type": "stream",
     "text": [
      "Processing questions:  47%|████▋     | 172/366 [02:31<02:54,  1.11it/s]"
     ]
    },
    {
     "name": "stdout",
     "output_type": "stream",
     "text": [
      "Generated answer: 1\n",
      "Explanation: The purpose is to\n",
      "Answer ID: 1\n"
     ]
    },
    {
     "name": "stderr",
     "output_type": "stream",
     "text": [
      "Processing questions:  47%|████▋     | 173/366 [02:32<02:48,  1.15it/s]"
     ]
    },
    {
     "name": "stdout",
     "output_type": "stream",
     "text": [
      "Generated answer: 2\n",
      "Explanation: The local/edge\n",
      "Answer ID: 2\n"
     ]
    },
    {
     "name": "stderr",
     "output_type": "stream",
     "text": [
      "Processing questions:  48%|████▊     | 174/366 [02:33<02:51,  1.12it/s]"
     ]
    },
    {
     "name": "stdout",
     "output_type": "stream",
     "text": [
      "Generated answer: 5\n",
      "Explanation: The aspect covered by\n",
      "Answer ID: 5\n"
     ]
    },
    {
     "name": "stderr",
     "output_type": "stream",
     "text": [
      "Processing questions:  48%|████▊     | 175/366 [02:34<02:48,  1.14it/s]"
     ]
    },
    {
     "name": "stdout",
     "output_type": "stream",
     "text": [
      "Generated answer: 3\n",
      "Explanation: The Ncff\n",
      "Answer ID: 3\n"
     ]
    },
    {
     "name": "stderr",
     "output_type": "stream",
     "text": [
      "Processing questions:  48%|████▊     | 176/366 [02:35<02:49,  1.12it/s]"
     ]
    },
    {
     "name": "stdout",
     "output_type": "stream",
     "text": [
      "Generated answer: 5\n",
      "Explanation: The identity used to\n",
      "Answer ID: 5\n"
     ]
    },
    {
     "name": "stderr",
     "output_type": "stream",
     "text": [
      "Processing questions:  48%|████▊     | 177/366 [02:36<02:48,  1.12it/s]"
     ]
    },
    {
     "name": "stdout",
     "output_type": "stream",
     "text": [
      "Generated answer: 3\n",
      "Explanation: Automatic device discovery is\n",
      "Answer ID: 3\n"
     ]
    },
    {
     "name": "stderr",
     "output_type": "stream",
     "text": [
      "Processing questions:  49%|████▊     | 178/366 [02:37<02:46,  1.13it/s]"
     ]
    },
    {
     "name": "stdout",
     "output_type": "stream",
     "text": [
      "Generated answer: 3\n",
      "Explanation: V-2-\n",
      "Answer ID: 3\n"
     ]
    },
    {
     "name": "stderr",
     "output_type": "stream",
     "text": [
      "Processing questions:  49%|████▉     | 179/366 [02:37<02:44,  1.14it/s]"
     ]
    },
    {
     "name": "stdout",
     "output_type": "stream",
     "text": [
      "Generated answer: 2\n",
      "Explanation: The LCS Feature allows\n",
      "Answer ID: 2\n"
     ]
    },
    {
     "name": "stderr",
     "output_type": "stream",
     "text": [
      "Processing questions:  49%|████▉     | 180/366 [02:38<02:45,  1.12it/s]"
     ]
    },
    {
     "name": "stdout",
     "output_type": "stream",
     "text": [
      "Generated answer: 5\n",
      "Explanation: The identity used by\n",
      "Answer ID: 5\n"
     ]
    },
    {
     "name": "stderr",
     "output_type": "stream",
     "text": [
      "Processing questions:  49%|████▉     | 181/366 [02:39<02:43,  1.13it/s]"
     ]
    },
    {
     "name": "stdout",
     "output_type": "stream",
     "text": [
      "Generated answer: 2\n",
      "Explanation: The maximum number of\n",
      "Answer ID: 2\n"
     ]
    },
    {
     "name": "stderr",
     "output_type": "stream",
     "text": [
      "Processing questions:  50%|████▉     | 182/366 [02:40<02:42,  1.13it/s]"
     ]
    },
    {
     "name": "stdout",
     "output_type": "stream",
     "text": [
      "Generated answer: 1\n",
      "Explanation: The document TS36\n",
      "Answer ID: 1\n"
     ]
    },
    {
     "name": "stderr",
     "output_type": "stream",
     "text": [
      "Processing questions:  50%|█████     | 183/366 [02:41<02:40,  1.14it/s]"
     ]
    },
    {
     "name": "stdout",
     "output_type": "stream",
     "text": [
      "Generated answer: 1\n",
      "Explanation: A UE initiates\n",
      "Answer ID: 1\n"
     ]
    },
    {
     "name": "stderr",
     "output_type": "stream",
     "text": [
      "Processing questions:  50%|█████     | 184/366 [02:42<02:41,  1.13it/s]"
     ]
    },
    {
     "name": "stdout",
     "output_type": "stream",
     "text": [
      "Generated answer: 5\n",
      "Explanation: The 3rd Generation\n",
      "Answer ID: 5\n"
     ]
    },
    {
     "name": "stderr",
     "output_type": "stream",
     "text": [
      "Processing questions:  51%|█████     | 185/366 [02:43<02:43,  1.11it/s]"
     ]
    },
    {
     "name": "stdout",
     "output_type": "stream",
     "text": [
      "Generated answer: 3\n",
      "Explanation: Mps includes the\n",
      "Answer ID: 3\n"
     ]
    },
    {
     "name": "stderr",
     "output_type": "stream",
     "text": [
      "Processing questions:  51%|█████     | 186/366 [02:44<02:44,  1.10it/s]"
     ]
    },
    {
     "name": "stdout",
     "output_type": "stream",
     "text": [
      "Generated answer: 5\n",
      "Explanation: The identity used to\n",
      "Answer ID: 5\n"
     ]
    },
    {
     "name": "stderr",
     "output_type": "stream",
     "text": [
      "Processing questions:  51%|█████     | 187/366 [02:45<02:38,  1.13it/s]"
     ]
    },
    {
     "name": "stdout",
     "output_type": "stream",
     "text": [
      "Generated answer: 4\n",
      "Explanation: The accuracy and reliability\n",
      "Answer ID: 4\n"
     ]
    },
    {
     "name": "stderr",
     "output_type": "stream",
     "text": [
      "Processing questions:  51%|█████▏    | 188/366 [02:45<02:35,  1.15it/s]"
     ]
    },
    {
     "name": "stdout",
     "output_type": "stream",
     "text": [
      "Generated answer: 4\n",
      "Explanation: The UE monitors DC\n",
      "Answer ID: 4\n"
     ]
    },
    {
     "name": "stderr",
     "output_type": "stream",
     "text": [
      "Processing questions:  52%|█████▏    | 189/366 [02:46<02:32,  1.16it/s]"
     ]
    },
    {
     "name": "stdout",
     "output_type": "stream",
     "text": [
      "Generated answer: 5\n",
      "Explanation: The maximum DL number\n",
      "Answer ID: 5\n"
     ]
    },
    {
     "name": "stderr",
     "output_type": "stream",
     "text": [
      "Processing questions:  52%|█████▏    | 190/366 [02:47<02:32,  1.16it/s]"
     ]
    },
    {
     "name": "stdout",
     "output_type": "stream",
     "text": [
      "Generated answer: 2 and Option 3\n",
      "Explanation: The\n",
      "Answer ID: 3\n"
     ]
    },
    {
     "name": "stderr",
     "output_type": "stream",
     "text": [
      "Processing questions:  52%|█████▏    | 191/366 [02:48<02:30,  1.16it/s]"
     ]
    },
    {
     "name": "stdout",
     "output_type": "stream",
     "text": [
      "Generated answer: 1\n",
      "Explanation: The consumer NWDF\n",
      "Answer ID: 1\n"
     ]
    },
    {
     "name": "stderr",
     "output_type": "stream",
     "text": [
      "Processing questions:  52%|█████▏    | 192/366 [02:49<02:29,  1.17it/s]"
     ]
    },
    {
     "name": "stdout",
     "output_type": "stream",
     "text": [
      "Generated answer: 5\n",
      "Explanation: The potential Transport layer\n",
      "Answer ID: 5\n"
     ]
    },
    {
     "name": "stderr",
     "output_type": "stream",
     "text": [
      "Processing questions:  53%|█████▎    | 193/366 [02:50<02:32,  1.13it/s]"
     ]
    },
    {
     "name": "stdout",
     "output_type": "stream",
     "text": [
      "Generated answer: 3\n",
      "Explanation: The gnb-\n",
      "Answer ID: 3\n"
     ]
    },
    {
     "name": "stderr",
     "output_type": "stream",
     "text": [
      "Processing questions:  53%|█████▎    | 194/366 [02:51<02:30,  1.14it/s]"
     ]
    },
    {
     "name": "stdout",
     "output_type": "stream",
     "text": [
      "Generated answer: 4\n",
      "Explanation: The required input for\n",
      "Answer ID: 4\n"
     ]
    },
    {
     "name": "stderr",
     "output_type": "stream",
     "text": [
      "Processing questions:  53%|█████▎    | 195/366 [02:51<02:27,  1.16it/s]"
     ]
    },
    {
     "name": "stdout",
     "output_type": "stream",
     "text": [
      "Generated answer: 4\n",
      "Explanation: The RCR supports\n",
      "Answer ID: 4\n"
     ]
    },
    {
     "name": "stderr",
     "output_type": "stream",
     "text": [
      "Processing questions:  54%|█████▎    | 196/366 [02:52<02:33,  1.11it/s]"
     ]
    },
    {
     "name": "stdout",
     "output_type": "stream",
     "text": [
      "Generated answer: 5\n",
      "Explanation: The rotation angle R\n",
      "Answer ID: 5\n"
     ]
    },
    {
     "name": "stderr",
     "output_type": "stream",
     "text": [
      "Processing questions:  54%|█████▍    | 197/366 [02:53<02:29,  1.13it/s]"
     ]
    },
    {
     "name": "stdout",
     "output_type": "stream",
     "text": [
      "Generated answer: 2\n",
      "Explanation: The UE considers a\n",
      "Answer ID: 2\n"
     ]
    },
    {
     "name": "stderr",
     "output_type": "stream",
     "text": [
      "Processing questions:  54%|█████▍    | 198/366 [02:54<02:27,  1.14it/s]"
     ]
    },
    {
     "name": "stdout",
     "output_type": "stream",
     "text": [
      "Generated answer: 3\n",
      "Explanation: The down link transmission\n",
      "Answer ID: 3\n"
     ]
    },
    {
     "name": "stderr",
     "output_type": "stream",
     "text": [
      "Processing questions:  54%|█████▍    | 199/366 [02:55<02:26,  1.14it/s]"
     ]
    },
    {
     "name": "stdout",
     "output_type": "stream",
     "text": [
      "Generated answer: 2\n",
      "Explanation: The Analytics filter information\n",
      "Answer ID: 2\n"
     ]
    },
    {
     "name": "stderr",
     "output_type": "stream",
     "text": [
      "Processing questions:  55%|█████▍    | 200/366 [02:56<02:28,  1.12it/s]"
     ]
    },
    {
     "name": "stdout",
     "output_type": "stream",
     "text": [
      "Generated answer: 4\n",
      "Explanation: CS Fall back in\n",
      "Answer ID: 4\n"
     ]
    },
    {
     "name": "stderr",
     "output_type": "stream",
     "text": [
      "Processing questions:  55%|█████▍    | 201/366 [02:57<02:27,  1.12it/s]"
     ]
    },
    {
     "name": "stdout",
     "output_type": "stream",
     "text": [
      "Generated answer: 4\n",
      "Explanation: If the NE fails\n",
      "Answer ID: 4\n"
     ]
    },
    {
     "name": "stderr",
     "output_type": "stream",
     "text": [
      "Processing questions:  55%|█████▌    | 202/366 [02:58<02:29,  1.10it/s]"
     ]
    },
    {
     "name": "stdout",
     "output_type": "stream",
     "text": [
      "Generated answer: 3\n",
      "Explanation: The Multi_Device\n",
      "Answer ID: 3\n"
     ]
    },
    {
     "name": "stderr",
     "output_type": "stream",
     "text": [
      "Processing questions:  55%|█████▌    | 203/366 [02:59<02:28,  1.10it/s]"
     ]
    },
    {
     "name": "stdout",
     "output_type": "stream",
     "text": [
      "Generated answer: 3\n",
      "Explanation: The term 'EN\n",
      "Answer ID: 3\n"
     ]
    },
    {
     "name": "stderr",
     "output_type": "stream",
     "text": [
      "Processing questions:  56%|█████▌    | 204/366 [03:00<02:25,  1.11it/s]"
     ]
    },
    {
     "name": "stdout",
     "output_type": "stream",
     "text": [
      "Generated answer: 3\n",
      "Explanation: The Chargging Gateway\n",
      "Answer ID: 3\n"
     ]
    },
    {
     "name": "stderr",
     "output_type": "stream",
     "text": [
      "Processing questions:  56%|█████▌    | 205/366 [03:01<02:26,  1.10it/s]"
     ]
    },
    {
     "name": "stdout",
     "output_type": "stream",
     "text": [
      "Generated answer: 5\n",
      "Explanation: The NWdaF\n",
      "Answer ID: 5\n"
     ]
    },
    {
     "name": "stderr",
     "output_type": "stream",
     "text": [
      "Processing questions:  56%|█████▋    | 206/366 [03:01<02:26,  1.09it/s]"
     ]
    },
    {
     "name": "stdout",
     "output_type": "stream",
     "text": [
      "Generated answer: 5\n",
      "Explanation: A UE group ID\n",
      "Answer ID: 5\n"
     ]
    },
    {
     "name": "stderr",
     "output_type": "stream",
     "text": [
      "Processing questions:  57%|█████▋    | 207/366 [03:02<02:21,  1.12it/s]"
     ]
    },
    {
     "name": "stdout",
     "output_type": "stream",
     "text": [
      "Generated answer: 2\n",
      "Explanation: 'Option2'\n",
      "Answer ID: 2\n"
     ]
    },
    {
     "name": "stderr",
     "output_type": "stream",
     "text": [
      "Processing questions:  57%|█████▋    | 208/366 [03:03<02:20,  1.13it/s]"
     ]
    },
    {
     "name": "stdout",
     "output_type": "stream",
     "text": [
      "Generated answer: 1\n",
      "Explanation: The maximum deviation allowed\n",
      "Answer ID: 1\n"
     ]
    },
    {
     "name": "stderr",
     "output_type": "stream",
     "text": [
      "Processing questions:  57%|█████▋    | 209/366 [03:04<02:17,  1.14it/s]"
     ]
    },
    {
     "name": "stdout",
     "output_type": "stream",
     "text": [
      "Generated answer: 1\n",
      "Explanation: The mechanism that allows\n",
      "Answer ID: 1\n"
     ]
    },
    {
     "name": "stderr",
     "output_type": "stream",
     "text": [
      "Processing questions:  57%|█████▋    | 210/366 [03:05<02:17,  1.14it/s]"
     ]
    },
    {
     "name": "stdout",
     "output_type": "stream",
     "text": [
      "Generated answer: 2\n",
      "Explanation: Non public network is\n",
      "Answer ID: 2\n"
     ]
    },
    {
     "name": "stderr",
     "output_type": "stream",
     "text": [
      "Processing questions:  58%|█████▊    | 211/366 [03:06<02:15,  1.14it/s]"
     ]
    },
    {
     "name": "stdout",
     "output_type": "stream",
     "text": [
      "Generated answer: 4\n",
      "Explanation: If a service is\n",
      "Answer ID: 4\n"
     ]
    },
    {
     "name": "stderr",
     "output_type": "stream",
     "text": [
      "Processing questions:  58%|█████▊    | 212/366 [03:07<02:14,  1.14it/s]"
     ]
    },
    {
     "name": "stdout",
     "output_type": "stream",
     "text": [
      "Generated answer: 3\n",
      "Explanation: SCGs stand as\n",
      "Answer ID: 3\n"
     ]
    },
    {
     "name": "stderr",
     "output_type": "stream",
     "text": [
      "Processing questions:  58%|█████▊    | 213/366 [03:08<02:13,  1.15it/s]"
     ]
    },
    {
     "name": "stdout",
     "output_type": "stream",
     "text": [
      "Generated answer: 1\n",
      "Explanation: The EI-\n",
      "Answer ID: 1\n"
     ]
    },
    {
     "name": "stderr",
     "output_type": "stream",
     "text": [
      "Processing questions:  58%|█████▊    | 214/366 [03:08<02:11,  1.15it/s]"
     ]
    },
    {
     "name": "stdout",
     "output_type": "stream",
     "text": [
      "Generated answer: 1\n",
      "Explanation: NSA and SA are\n",
      "Answer ID: 1\n"
     ]
    },
    {
     "name": "stderr",
     "output_type": "stream",
     "text": [
      "Processing questions:  59%|█████▊    | 215/366 [03:09<02:14,  1.12it/s]"
     ]
    },
    {
     "name": "stdout",
     "output_type": "stream",
     "text": [
      "Generated answer: 2\n",
      "Explanation: The UE is described\n",
      "Answer ID: 2\n"
     ]
    },
    {
     "name": "stderr",
     "output_type": "stream",
     "text": [
      "Processing questions:  59%|█████▉    | 216/366 [03:10<02:12,  1.14it/s]"
     ]
    },
    {
     "name": "stdout",
     "output_type": "stream",
     "text": [
      "Generated answer: 4\n",
      "Explanation: The NWDF collects\n",
      "Answer ID: 4\n"
     ]
    },
    {
     "name": "stderr",
     "output_type": "stream",
     "text": [
      "Processing questions:  59%|█████▉    | 217/366 [03:11<02:08,  1.16it/s]"
     ]
    },
    {
     "name": "stdout",
     "output_type": "stream",
     "text": [
      "Generated answer: 1 - TS24386\n",
      "Answer ID: 1\n"
     ]
    },
    {
     "name": "stderr",
     "output_type": "stream",
     "text": [
      "Processing questions:  60%|█████▉    | 218/366 [03:12<02:02,  1.21it/s]"
     ]
    },
    {
     "name": "stdout",
     "output_type": "stream",
     "text": [
      "Generated answer: 2\n",
      "Explanation: Mobile Originating Location\n",
      "Answer ID: 2\n"
     ]
    },
    {
     "name": "stderr",
     "output_type": "stream",
     "text": [
      "Processing questions:  60%|█████▉    | 219/366 [03:13<02:02,  1.20it/s]"
     ]
    },
    {
     "name": "stdout",
     "output_type": "stream",
     "text": [
      "Generated answer: 3\n",
      "Explanation: The Evolving Pro\n",
      "Answer ID: 3\n"
     ]
    },
    {
     "name": "stderr",
     "output_type": "stream",
     "text": [
      "Processing questions:  60%|██████    | 220/366 [03:13<02:02,  1.19it/s]"
     ]
    },
    {
     "name": "stdout",
     "output_type": "stream",
     "text": [
      "Generated answer: 2\n",
      "Explanation: For unicaste delivery\n",
      "Answer ID: 2\n"
     ]
    },
    {
     "name": "stderr",
     "output_type": "stream",
     "text": [
      "Processing questions:  60%|██████    | 221/366 [03:14<02:02,  1.18it/s]"
     ]
    },
    {
     "name": "stdout",
     "output_type": "stream",
     "text": [
      "Generated answer: 4\n",
      "Explanation: The list is deleted\n",
      "Answer ID: 4\n"
     ]
    },
    {
     "name": "stderr",
     "output_type": "stream",
     "text": [
      "Processing questions:  61%|██████    | 222/366 [03:15<02:02,  1.18it/s]"
     ]
    },
    {
     "name": "stdout",
     "output_type": "stream",
     "text": [
      "Generated answer: 2\n",
      "Explanation: The cell assumes the\n",
      "Answer ID: 2\n"
     ]
    },
    {
     "name": "stderr",
     "output_type": "stream",
     "text": [
      "Processing questions:  61%|██████    | 223/366 [03:16<01:58,  1.20it/s]"
     ]
    },
    {
     "name": "stdout",
     "output_type": "stream",
     "text": [
      "Generated answer: 5\n",
      "Explanation: This document covers service\n",
      "Answer ID: 5\n"
     ]
    },
    {
     "name": "stderr",
     "output_type": "stream",
     "text": [
      "Processing questions:  61%|██████    | 224/366 [03:17<01:59,  1.19it/s]"
     ]
    },
    {
     "name": "stdout",
     "output_type": "stream",
     "text": [
      "Generated answer: 3\n",
      "Explanation: During direct debit,\n",
      "Answer ID: 3\n"
     ]
    },
    {
     "name": "stderr",
     "output_type": "stream",
     "text": [
      "Processing questions:  61%|██████▏   | 225/366 [03:18<01:59,  1.18it/s]"
     ]
    },
    {
     "name": "stdout",
     "output_type": "stream",
     "text": [
      "Generated answer: 5\n",
      "Explanation: The SGN uses\n",
      "Answer ID: 5\n"
     ]
    },
    {
     "name": "stderr",
     "output_type": "stream",
     "text": [
      "Processing questions:  62%|██████▏   | 226/366 [03:19<02:05,  1.11it/s]"
     ]
    },
    {
     "name": "stdout",
     "output_type": "stream",
     "text": [
      "Generated answer: 3\n",
      "Explanation: The BEARY CONT\n",
      "Answer ID: 3\n"
     ]
    },
    {
     "name": "stderr",
     "output_type": "stream",
     "text": [
      "Processing questions:  62%|██████▏   | 227/366 [03:20<02:03,  1.13it/s]"
     ]
    },
    {
     "name": "stdout",
     "output_type": "stream",
     "text": [
      "Generated answer: 1\n",
      "Explanation: The RLM sub\n",
      "Answer ID: 1\n"
     ]
    },
    {
     "name": "stderr",
     "output_type": "stream",
     "text": [
      "Processing questions:  62%|██████▏   | 228/366 [03:20<02:00,  1.14it/s]"
     ]
    },
    {
     "name": "stdout",
     "output_type": "stream",
     "text": [
      "Generated answer: 1\n",
      "Explanation: The NWDF can\n",
      "Answer ID: 1\n"
     ]
    },
    {
     "name": "stderr",
     "output_type": "stream",
     "text": [
      "Processing questions:  63%|██████▎   | 229/366 [03:21<01:59,  1.15it/s]"
     ]
    },
    {
     "name": "stdout",
     "output_type": "stream",
     "text": [
      "Generated answer: 2\n",
      "Explanation: The decision to deliver\n",
      "Answer ID: 2\n"
     ]
    },
    {
     "name": "stderr",
     "output_type": "stream",
     "text": [
      "Processing questions:  63%|██████▎   | 230/366 [03:22<01:54,  1.18it/s]"
     ]
    },
    {
     "name": "stdout",
     "output_type": "stream",
     "text": [
      "Generated answer: 4\n",
      "Explanation: The V-2\n",
      "Answer ID: 4\n"
     ]
    },
    {
     "name": "stderr",
     "output_type": "stream",
     "text": [
      "Processing questions:  63%|██████▎   | 231/366 [03:23<01:54,  1.18it/s]"
     ]
    },
    {
     "name": "stdout",
     "output_type": "stream",
     "text": [
      "Generated answer: 1\n",
      "Explanation: The output is in\n",
      "Answer ID: 1\n"
     ]
    },
    {
     "name": "stderr",
     "output_type": "stream",
     "text": [
      "Processing questions:  63%|██████▎   | 232/366 [03:24<01:52,  1.20it/s]"
     ]
    },
    {
     "name": "stdout",
     "output_type": "stream",
     "text": [
      "Generated answer: 3. Both Licensed and Unlicenced spectrum\n",
      "Answer ID: 3\n"
     ]
    },
    {
     "name": "stderr",
     "output_type": "stream",
     "text": [
      "Processing questions:  64%|██████▎   | 233/366 [03:25<01:52,  1.19it/s]"
     ]
    },
    {
     "name": "stdout",
     "output_type": "stream",
     "text": [
      "Generated answer: 2\n",
      "Explanation: A MnSS profile\n",
      "Answer ID: 2\n"
     ]
    },
    {
     "name": "stderr",
     "output_type": "stream",
     "text": [
      "Processing questions:  64%|██████▍   | 234/366 [03:25<01:54,  1.15it/s]"
     ]
    },
    {
     "name": "stdout",
     "output_type": "stream",
     "text": [
      "Generated answer: 4\n",
      "Explanation: The in-activity\n",
      "Answer ID: 4\n"
     ]
    },
    {
     "name": "stderr",
     "output_type": "stream",
     "text": [
      "Processing questions:  64%|██████▍   | 235/366 [03:26<01:52,  1.16it/s]"
     ]
    },
    {
     "name": "stdout",
     "output_type": "stream",
     "text": [
      "Generated answer: 1\n",
      "Explanation: A UE can determine\n",
      "Answer ID: 1\n"
     ]
    },
    {
     "name": "stderr",
     "output_type": "stream",
     "text": [
      "Processing questions:  64%|██████▍   | 236/366 [03:27<01:55,  1.13it/s]"
     ]
    },
    {
     "name": "stdout",
     "output_type": "stream",
     "text": [
      "Generated answer: 1\n",
      "Explanation: AF requests the NE\n",
      "Answer ID: 1\n"
     ]
    },
    {
     "name": "stderr",
     "output_type": "stream",
     "text": [
      "Processing questions:  65%|██████▍   | 237/366 [03:28<01:56,  1.11it/s]"
     ]
    },
    {
     "name": "stdout",
     "output_type": "stream",
     "text": [
      "Generated answer: 4\n",
      "Explanation: A Participated Operator\n",
      "Answer ID: 4\n"
     ]
    },
    {
     "name": "stderr",
     "output_type": "stream",
     "text": [
      "Processing questions:  65%|██████▌   | 238/366 [03:29<01:56,  1.10it/s]"
     ]
    },
    {
     "name": "stdout",
     "output_type": "stream",
     "text": [
      "Generated answer: 2\n",
      "Explanation: A UE can determine\n",
      "Answer ID: 2\n"
     ]
    },
    {
     "name": "stderr",
     "output_type": "stream",
     "text": [
      "Processing questions:  65%|██████▌   | 239/366 [03:30<01:54,  1.11it/s]"
     ]
    },
    {
     "name": "stdout",
     "output_type": "stream",
     "text": [
      "Generated answer: 5\n",
      "Explanation: The cell ID of\n",
      "Answer ID: 5\n"
     ]
    },
    {
     "name": "stderr",
     "output_type": "stream",
     "text": [
      "Processing questions:  66%|██████▌   | 240/366 [03:31<01:50,  1.14it/s]"
     ]
    },
    {
     "name": "stdout",
     "output_type": "stream",
     "text": [
      "Generated answer: 5\n",
      "Explanation: The requirements are described\n",
      "Answer ID: 5\n"
     ]
    },
    {
     "name": "stderr",
     "output_type": "stream",
     "text": [
      "Processing questions:  66%|██████▌   | 241/366 [03:32<01:52,  1.12it/s]"
     ]
    },
    {
     "name": "stdout",
     "output_type": "stream",
     "text": [
      "Generated answer: 5\n",
      "Explanation: The document states that\n",
      "Answer ID: 5\n"
     ]
    },
    {
     "name": "stderr",
     "output_type": "stream",
     "text": [
      "Processing questions:  66%|██████▌   | 242/366 [03:33<01:50,  1.12it/s]"
     ]
    },
    {
     "name": "stdout",
     "output_type": "stream",
     "text": [
      "Generated answer: 5\n",
      "Explanation: The Chargging Function\n",
      "Answer ID: 5\n"
     ]
    },
    {
     "name": "stderr",
     "output_type": "stream",
     "text": [
      "Processing questions:  66%|██████▋   | 243/366 [03:34<01:50,  1.11it/s]"
     ]
    },
    {
     "name": "stdout",
     "output_type": "stream",
     "text": [
      "Generated answer: 4\n",
      "Explanation: The document TS36\n",
      "Answer ID: 4\n"
     ]
    },
    {
     "name": "stderr",
     "output_type": "stream",
     "text": [
      "Processing questions:  67%|██████▋   | 244/366 [03:34<01:48,  1.12it/s]"
     ]
    },
    {
     "name": "stdout",
     "output_type": "stream",
     "text": [
      "Generated answer: 5\n",
      "Explanation: The AI operations that\n",
      "Answer ID: 5\n"
     ]
    },
    {
     "name": "stderr",
     "output_type": "stream",
     "text": [
      "Processing questions:  67%|██████▋   | 245/366 [03:35<01:49,  1.10it/s]"
     ]
    },
    {
     "name": "stdout",
     "output_type": "stream",
     "text": [
      "Generated answer: 5\n",
      "Explanation: The Intraf-\n",
      "Answer ID: 5\n"
     ]
    },
    {
     "name": "stderr",
     "output_type": "stream",
     "text": [
      "Processing questions:  67%|██████▋   | 246/366 [03:36<01:50,  1.09it/s]"
     ]
    },
    {
     "name": "stdout",
     "output_type": "stream",
     "text": [
      "Generated answer: 2\n",
      "Explanation: The purpose is to\n",
      "Answer ID: 2\n"
     ]
    },
    {
     "name": "stderr",
     "output_type": "stream",
     "text": [
      "Processing questions:  67%|██████▋   | 247/366 [03:37<01:46,  1.11it/s]"
     ]
    },
    {
     "name": "stdout",
     "output_type": "stream",
     "text": [
      "Generated answer: 3\n",
      "Explanation: The RCRec\n",
      "Answer ID: 3\n"
     ]
    },
    {
     "name": "stderr",
     "output_type": "stream",
     "text": [
      "Processing questions:  68%|██████▊   | 248/366 [03:38<01:49,  1.08it/s]"
     ]
    },
    {
     "name": "stdout",
     "output_type": "stream",
     "text": [
      "Generated answer: 2\n",
      "Explanation: Dual connectivity (dc\n",
      "Answer ID: 2\n"
     ]
    },
    {
     "name": "stderr",
     "output_type": "stream",
     "text": [
      "Processing questions:  68%|██████▊   | 249/366 [03:39<01:44,  1.12it/s]"
     ]
    },
    {
     "name": "stdout",
     "output_type": "stream",
     "text": [
      "Generated answer: 3\n",
      "Explanation: The purpose is to\n",
      "Answer ID: 3\n"
     ]
    },
    {
     "name": "stderr",
     "output_type": "stream",
     "text": [
      "Processing questions:  68%|██████▊   | 250/366 [03:40<01:39,  1.16it/s]"
     ]
    },
    {
     "name": "stdout",
     "output_type": "stream",
     "text": [
      "Generated answer: 4\n",
      "Explanation: LOSS stands for\n",
      "Answer ID: 4\n"
     ]
    },
    {
     "name": "stderr",
     "output_type": "stream",
     "text": [
      "Processing questions:  69%|██████▊   | 251/366 [03:41<01:40,  1.14it/s]"
     ]
    },
    {
     "name": "stdout",
     "output_type": "stream",
     "text": [
      "Generated answer: 4\n",
      "Explanation: The security aspect of\n",
      "Answer ID: 4\n"
     ]
    },
    {
     "name": "stderr",
     "output_type": "stream",
     "text": [
      "Processing questions:  69%|██████▉   | 252/366 [03:42<01:39,  1.15it/s]"
     ]
    },
    {
     "name": "stdout",
     "output_type": "stream",
     "text": [
      "Generated answer: 1\n",
      "Explanation: The three TV types\n",
      "Answer ID: 1\n"
     ]
    },
    {
     "name": "stderr",
     "output_type": "stream",
     "text": [
      "Processing questions:  69%|██████▉   | 253/366 [03:42<01:37,  1.15it/s]"
     ]
    },
    {
     "name": "stdout",
     "output_type": "stream",
     "text": [
      "Generated answer: 1\n",
      "Explanation: The UE will automatically\n",
      "Answer ID: 1\n"
     ]
    },
    {
     "name": "stderr",
     "output_type": "stream",
     "text": [
      "Processing questions:  69%|██████▉   | 254/366 [03:43<01:39,  1.13it/s]"
     ]
    },
    {
     "name": "stdout",
     "output_type": "stream",
     "text": [
      "Generated answer: 2\n",
      "Explanation: NR Relays enable\n",
      "Answer ID: 2\n"
     ]
    },
    {
     "name": "stderr",
     "output_type": "stream",
     "text": [
      "Processing questions:  70%|██████▉   | 255/366 [03:44<01:37,  1.14it/s]"
     ]
    },
    {
     "name": "stdout",
     "output_type": "stream",
     "text": [
      "Generated answer: 1\n",
      "Explanation: The downlock transmission\n",
      "Answer ID: 1\n"
     ]
    },
    {
     "name": "stderr",
     "output_type": "stream",
     "text": [
      "Processing questions:  70%|██████▉   | 256/366 [03:45<01:40,  1.09it/s]"
     ]
    },
    {
     "name": "stdout",
     "output_type": "stream",
     "text": [
      "Generated answer: 4\n",
      "Explanation: The HandoffPre\n",
      "Answer ID: 4\n"
     ]
    },
    {
     "name": "stderr",
     "output_type": "stream",
     "text": [
      "Processing questions:  70%|███████   | 257/366 [03:46<01:37,  1.11it/s]"
     ]
    },
    {
     "name": "stdout",
     "output_type": "stream",
     "text": [
      "Generated answer: 4\n",
      "Explanation: The architecture and procedures\n",
      "Answer ID: 4\n"
     ]
    },
    {
     "name": "stderr",
     "output_type": "stream",
     "text": [
      "Processing questions:  70%|███████   | 258/366 [03:47<01:35,  1.14it/s]"
     ]
    },
    {
     "name": "stdout",
     "output_type": "stream",
     "text": [
      "Generated answer: 4\n",
      "Explanation: The purpose is to\n",
      "Answer ID: 4\n"
     ]
    },
    {
     "name": "stderr",
     "output_type": "stream",
     "text": [
      "Processing questions:  71%|███████   | 259/366 [03:48<01:35,  1.12it/s]"
     ]
    },
    {
     "name": "stdout",
     "output_type": "stream",
     "text": [
      "Generated answer: 5\n",
      "Explanation: The Quaicc\n",
      "Answer ID: 5\n"
     ]
    },
    {
     "name": "stderr",
     "output_type": "stream",
     "text": [
      "Processing questions:  71%|███████   | 260/366 [03:49<01:33,  1.14it/s]"
     ]
    },
    {
     "name": "stdout",
     "output_type": "stream",
     "text": [
      "Generated answer: 3\n",
      "Explanation: The purpose is to\n",
      "Answer ID: 3\n"
     ]
    },
    {
     "name": "stderr",
     "output_type": "stream",
     "text": [
      "Processing questions:  71%|███████▏  | 261/366 [03:50<01:31,  1.15it/s]"
     ]
    },
    {
     "name": "stdout",
     "output_type": "stream",
     "text": [
      "Generated answer: 1\n",
      "Explanation: The purpose is to\n",
      "Answer ID: 1\n"
     ]
    },
    {
     "name": "stderr",
     "output_type": "stream",
     "text": [
      "Processing questions:  72%|███████▏  | 262/366 [03:50<01:30,  1.15it/s]"
     ]
    },
    {
     "name": "stdout",
     "output_type": "stream",
     "text": [
      "Generated answer: 5\n",
      "Explanation: RARQ_\n",
      "Answer ID: 5\n"
     ]
    },
    {
     "name": "stderr",
     "output_type": "stream",
     "text": [
      "Processing questions:  72%|███████▏  | 263/366 [03:51<01:29,  1.15it/s]"
     ]
    },
    {
     "name": "stdout",
     "output_type": "stream",
     "text": [
      "Generated answer: 5\n",
      "Explanation: UE Categories are defined\n",
      "Answer ID: 5\n"
     ]
    },
    {
     "name": "stderr",
     "output_type": "stream",
     "text": [
      "Processing questions:  72%|███████▏  | 264/366 [03:52<01:27,  1.16it/s]"
     ]
    },
    {
     "name": "stdout",
     "output_type": "stream",
     "text": [
      "Generated answer: 1\n",
      "Explanation: The UE can support\n",
      "Answer ID: 1\n"
     ]
    },
    {
     "name": "stderr",
     "output_type": "stream",
     "text": [
      "Processing questions:  72%|███████▏  | 265/366 [03:53<01:29,  1.13it/s]"
     ]
    },
    {
     "name": "stdout",
     "output_type": "stream",
     "text": [
      "Generated answer: 2\n",
      "Explanation: The eBN supports\n",
      "Answer ID: 2\n"
     ]
    },
    {
     "name": "stderr",
     "output_type": "stream",
     "text": [
      "Processing questions:  73%|███████▎  | 266/366 [03:54<01:26,  1.15it/s]"
     ]
    },
    {
     "name": "stdout",
     "output_type": "stream",
     "text": [
      "Generated answer: 2\n",
      "Explanation: The NWdaF\n",
      "Answer ID: 2\n"
     ]
    },
    {
     "name": "stderr",
     "output_type": "stream",
     "text": [
      "Processing questions:  73%|███████▎  | 267/366 [03:55<01:25,  1.16it/s]"
     ]
    },
    {
     "name": "stdout",
     "output_type": "stream",
     "text": [
      "Generated answer: 2\n",
      "Explanation: A UE can support\n",
      "Answer ID: 2\n"
     ]
    },
    {
     "name": "stderr",
     "output_type": "stream",
     "text": [
      "Processing questions:  73%|███████▎  | 268/366 [03:56<01:24,  1.15it/s]"
     ]
    },
    {
     "name": "stdout",
     "output_type": "stream",
     "text": [
      "Generated answer: 2\n",
      "Explanation: The purpose is to\n",
      "Answer ID: 2\n"
     ]
    },
    {
     "name": "stderr",
     "output_type": "stream",
     "text": [
      "Processing questions:  73%|███████▎  | 269/366 [03:56<01:23,  1.16it/s]"
     ]
    },
    {
     "name": "stdout",
     "output_type": "stream",
     "text": [
      "Generated answer: 2\n",
      "Explanation: The energy measurement threshold\n",
      "Answer ID: 2\n"
     ]
    },
    {
     "name": "stderr",
     "output_type": "stream",
     "text": [
      "Processing questions:  74%|███████▍  | 270/366 [03:57<01:22,  1.16it/s]"
     ]
    },
    {
     "name": "stdout",
     "output_type": "stream",
     "text": [
      "Generated answer: 4\n",
      "Explanation: Paging skipping is\n",
      "Answer ID: 4\n"
     ]
    },
    {
     "name": "stderr",
     "output_type": "stream",
     "text": [
      "Processing questions:  74%|███████▍  | 271/366 [03:58<01:20,  1.18it/s]"
     ]
    },
    {
     "name": "stdout",
     "output_type": "stream",
     "text": [
      "Generated answer: 4\n",
      "Explanation: The Short Message Distribution\n",
      "Answer ID: 4\n"
     ]
    },
    {
     "name": "stderr",
     "output_type": "stream",
     "text": [
      "Processing questions:  74%|███████▍  | 272/366 [03:59<01:19,  1.18it/s]"
     ]
    },
    {
     "name": "stdout",
     "output_type": "stream",
     "text": [
      "Generated answer: 4\n",
      "Explanation: The V-SM\n",
      "Answer ID: 4\n"
     ]
    },
    {
     "name": "stderr",
     "output_type": "stream",
     "text": [
      "Processing questions:  75%|███████▍  | 273/366 [04:00<01:23,  1.11it/s]"
     ]
    },
    {
     "name": "stdout",
     "output_type": "stream",
     "text": [
      "Generated answer: 3\n",
      "Explanation: The Quick Release of\n",
      "Answer ID: 3\n"
     ]
    },
    {
     "name": "stderr",
     "output_type": "stream",
     "text": [
      "Processing questions:  75%|███████▍  | 274/366 [04:01<01:23,  1.10it/s]"
     ]
    },
    {
     "name": "stdout",
     "output_type": "stream",
     "text": [
      "Generated answer: 2\n",
      "Explanation: The MAC layer is\n",
      "Answer ID: 2\n"
     ]
    },
    {
     "name": "stderr",
     "output_type": "stream",
     "text": [
      "Processing questions:  75%|███████▌  | 275/366 [04:02<01:21,  1.11it/s]"
     ]
    },
    {
     "name": "stdout",
     "output_type": "stream",
     "text": [
      "Generated answer: 1\n",
      "Explanation: The scenarios supported are\n",
      "Answer ID: 1\n"
     ]
    },
    {
     "name": "stderr",
     "output_type": "stream",
     "text": [
      "Processing questions:  75%|███████▌  | 276/366 [04:03<01:19,  1.14it/s]"
     ]
    },
    {
     "name": "stdout",
     "output_type": "stream",
     "text": [
      "Generated answer: 1\n",
      "Explanation: The Nnne\n",
      "Answer ID: 1\n"
     ]
    },
    {
     "name": "stderr",
     "output_type": "stream",
     "text": [
      "Processing questions:  76%|███████▌  | 277/366 [04:04<01:17,  1.14it/s]"
     ]
    },
    {
     "name": "stdout",
     "output_type": "stream",
     "text": [
      "Generated answer: 2 - To Provide configurations for the UE to be\n",
      "Answer ID: 2\n"
     ]
    },
    {
     "name": "stderr",
     "output_type": "stream",
     "text": [
      "Processing questions:  76%|███████▌  | 278/366 [04:04<01:17,  1.14it/s]"
     ]
    },
    {
     "name": "stdout",
     "output_type": "stream",
     "text": [
      "Generated answer: 4\n",
      "Explanation: The LCS Server can\n",
      "Answer ID: 4\n"
     ]
    },
    {
     "name": "stderr",
     "output_type": "stream",
     "text": [
      "Processing questions:  76%|███████▌  | 279/366 [04:05<01:18,  1.11it/s]"
     ]
    },
    {
     "name": "stdout",
     "output_type": "stream",
     "text": [
      "Generated answer: 1\n",
      "Explanation: The purpose is specified\n",
      "Answer ID: 1\n"
     ]
    },
    {
     "name": "stderr",
     "output_type": "stream",
     "text": [
      "Processing questions:  77%|███████▋  | 280/366 [04:06<01:18,  1.09it/s]"
     ]
    },
    {
     "name": "stdout",
     "output_type": "stream",
     "text": [
      "Generated answer: 4\n",
      "Explanation: The PRICH enhancement\n",
      "Answer ID: 4\n"
     ]
    },
    {
     "name": "stderr",
     "output_type": "stream",
     "text": [
      "Processing questions:  77%|███████▋  | 281/366 [04:07<01:16,  1.11it/s]"
     ]
    },
    {
     "name": "stdout",
     "output_type": "stream",
     "text": [
      "Generated answer: 4\n",
      "Output: gnb-rrs-\n",
      "Answer ID: 4\n"
     ]
    },
    {
     "name": "stderr",
     "output_type": "stream",
     "text": [
      "Processing questions:  77%|███████▋  | 282/366 [04:08<01:13,  1.14it/s]"
     ]
    },
    {
     "name": "stdout",
     "output_type": "stream",
     "text": [
      "Generated answer: 4\n",
      "Explanation: The minimum unit of\n",
      "Answer ID: 4\n"
     ]
    },
    {
     "name": "stderr",
     "output_type": "stream",
     "text": [
      "Processing questions:  77%|███████▋  | 283/366 [04:09<01:11,  1.16it/s]"
     ]
    },
    {
     "name": "stdout",
     "output_type": "stream",
     "text": [
      "Generated answer: 1\n",
      "Explanation: The granular frequency\n",
      "Answer ID: 1\n"
     ]
    },
    {
     "name": "stderr",
     "output_type": "stream",
     "text": [
      "Processing questions:  78%|███████▊  | 284/366 [04:10<01:10,  1.16it/s]"
     ]
    },
    {
     "name": "stdout",
     "output_type": "stream",
     "text": [
      "Generated answer: 5\n",
      "Explanation: The interface used for\n",
      "Answer ID: 5\n"
     ]
    },
    {
     "name": "stderr",
     "output_type": "stream",
     "text": [
      "Processing questions:  78%|███████▊  | 285/366 [04:11<01:10,  1.16it/s]"
     ]
    },
    {
     "name": "stdout",
     "output_type": "stream",
     "text": [
      "Generated answer: 3\n",
      "Output: NF sets are used to group\n",
      "Answer ID: 3\n"
     ]
    },
    {
     "name": "stderr",
     "output_type": "stream",
     "text": [
      "Processing questions:  78%|███████▊  | 286/366 [04:11<01:08,  1.16it/s]"
     ]
    },
    {
     "name": "stdout",
     "output_type": "stream",
     "text": [
      "Generated answer: 3\n",
      "Explanation: The selected Data Collector\n",
      "Answer ID: 3\n"
     ]
    },
    {
     "name": "stderr",
     "output_type": "stream",
     "text": [
      "Processing questions:  78%|███████▊  | 287/366 [04:12<01:07,  1.17it/s]"
     ]
    },
    {
     "name": "stdout",
     "output_type": "stream",
     "text": [
      "Generated answer: 2\n",
      "Explanation: PDPC packet repetition\n",
      "Answer ID: 2\n"
     ]
    },
    {
     "name": "stderr",
     "output_type": "stream",
     "text": [
      "Processing questions:  79%|███████▊  | 288/366 [04:13<01:06,  1.16it/s]"
     ]
    },
    {
     "name": "stdout",
     "output_type": "stream",
     "text": [
      "Generated answer: 5\n",
      "Explanation: SI stands for System\n",
      "Answer ID: 5\n"
     ]
    },
    {
     "name": "stderr",
     "output_type": "stream",
     "text": [
      "Processing questions:  79%|███████▉  | 289/366 [04:14<01:08,  1.13it/s]"
     ]
    },
    {
     "name": "stdout",
     "output_type": "stream",
     "text": [
      "Generated answer: 5\n",
      "Explanation: The purpose is to\n",
      "Answer ID: 5\n"
     ]
    },
    {
     "name": "stderr",
     "output_type": "stream",
     "text": [
      "Processing questions:  79%|███████▉  | 290/366 [04:15<01:08,  1.10it/s]"
     ]
    },
    {
     "name": "stdout",
     "output_type": "stream",
     "text": [
      "Generated answer: 3\n",
      "Explanation: The four process of\n",
      "Answer ID: 3\n"
     ]
    },
    {
     "name": "stderr",
     "output_type": "stream",
     "text": [
      "Processing questions:  80%|███████▉  | 291/366 [04:16<01:09,  1.08it/s]"
     ]
    },
    {
     "name": "stdout",
     "output_type": "stream",
     "text": [
      "Generated answer: 1\n",
      "Explanation: NAS_MM handles\n",
      "Answer ID: 1\n"
     ]
    },
    {
     "name": "stderr",
     "output_type": "stream",
     "text": [
      "Processing questions:  80%|███████▉  | 292/366 [04:17<01:06,  1.11it/s]"
     ]
    },
    {
     "name": "stdout",
     "output_type": "stream",
     "text": [
      "Generated answer: 3\n",
      "Explanation: The service requirement for\n",
      "Answer ID: 3\n"
     ]
    },
    {
     "name": "stderr",
     "output_type": "stream",
     "text": [
      "Processing questions:  80%|████████  | 293/366 [04:18<01:05,  1.12it/s]"
     ]
    },
    {
     "name": "stdout",
     "output_type": "stream",
     "text": [
      "Generated answer: 3\n",
      "Explanation: The impact on Q\n",
      "Answer ID: 3\n"
     ]
    },
    {
     "name": "stderr",
     "output_type": "stream",
     "text": [
      "Processing questions:  80%|████████  | 294/366 [04:19<01:05,  1.11it/s]"
     ]
    },
    {
     "name": "stdout",
     "output_type": "stream",
     "text": [
      "Generated answer: 4\n",
      "Explanation: The purpose is to\n",
      "Answer ID: 4\n"
     ]
    },
    {
     "name": "stderr",
     "output_type": "stream",
     "text": [
      "Processing questions:  81%|████████  | 295/366 [04:20<01:04,  1.10it/s]"
     ]
    },
    {
     "name": "stdout",
     "output_type": "stream",
     "text": [
      "Generated answer: 3\n",
      "Explanation: The identity used to\n",
      "Answer ID: 3\n"
     ]
    },
    {
     "name": "stderr",
     "output_type": "stream",
     "text": [
      "Processing questions:  81%|████████  | 296/366 [04:20<01:02,  1.12it/s]"
     ]
    },
    {
     "name": "stdout",
     "output_type": "stream",
     "text": [
      "Generated answer: 2\n",
      "Explanation: Weight Factors are set\n",
      "Answer ID: 2\n"
     ]
    },
    {
     "name": "stderr",
     "output_type": "stream",
     "text": [
      "Processing questions:  81%|████████  | 297/366 [04:21<01:01,  1.13it/s]"
     ]
    },
    {
     "name": "stdout",
     "output_type": "stream",
     "text": [
      "Generated answer: 4\n",
      "Explanation: The 'group Reporting\n",
      "Answer ID: 4\n"
     ]
    },
    {
     "name": "stderr",
     "output_type": "stream",
     "text": [
      "Processing questions:  81%|████████▏ | 298/366 [04:22<00:59,  1.15it/s]"
     ]
    },
    {
     "name": "stdout",
     "output_type": "stream",
     "text": [
      "Generated answer: 1\n",
      "Explanation: The required Input for\n",
      "Answer ID: 1\n"
     ]
    },
    {
     "name": "stderr",
     "output_type": "stream",
     "text": [
      "Processing questions:  82%|████████▏ | 299/366 [04:23<00:57,  1.16it/s]"
     ]
    },
    {
     "name": "stdout",
     "output_type": "stream",
     "text": [
      "Generated answer: 3\n",
      "Explanation: The streaming services use\n",
      "Answer ID: 3\n"
     ]
    },
    {
     "name": "stderr",
     "output_type": "stream",
     "text": [
      "Processing questions:  82%|████████▏ | 300/366 [04:24<00:56,  1.17it/s]"
     ]
    },
    {
     "name": "stdout",
     "output_type": "stream",
     "text": [
      "Generated answer: 2\n",
      "Explanation: The UE cannot re\n",
      "Answer ID: 2\n"
     ]
    },
    {
     "name": "stderr",
     "output_type": "stream",
     "text": [
      "Processing questions:  82%|████████▏ | 301/366 [04:25<00:55,  1.17it/s]"
     ]
    },
    {
     "name": "stdout",
     "output_type": "stream",
     "text": [
      "Generated answer: 2\n",
      "Explanation: The requirements for M\n",
      "Answer ID: 2\n"
     ]
    },
    {
     "name": "stderr",
     "output_type": "stream",
     "text": [
      "Processing questions:  83%|████████▎ | 302/366 [04:26<00:54,  1.17it/s]"
     ]
    },
    {
     "name": "stdout",
     "output_type": "stream",
     "text": [
      "Generated answer: 1\n",
      "Explanation: A subscription is necessary\n",
      "Answer ID: 1\n"
     ]
    },
    {
     "name": "stderr",
     "output_type": "stream",
     "text": [
      "Processing questions:  83%|████████▎ | 303/366 [04:26<00:55,  1.13it/s]"
     ]
    },
    {
     "name": "stdout",
     "output_type": "stream",
     "text": [
      "Generated answer: 1\n",
      "Explanation: CG_Candid\n",
      "Answer ID: 1\n"
     ]
    },
    {
     "name": "stderr",
     "output_type": "stream",
     "text": [
      "Processing questions:  83%|████████▎ | 304/366 [04:27<00:55,  1.11it/s]"
     ]
    },
    {
     "name": "stdout",
     "output_type": "stream",
     "text": [
      "Generated answer: 5\n",
      "Explanation: The identity used is\n",
      "Answer ID: 5\n"
     ]
    },
    {
     "name": "stderr",
     "output_type": "stream",
     "text": [
      "Processing questions:  83%|████████▎ | 305/366 [04:28<00:53,  1.14it/s]"
     ]
    },
    {
     "name": "stdout",
     "output_type": "stream",
     "text": [
      "Generated answer: 1 (1%)\n",
      "Explanation: The\n",
      "Answer ID: 1\n"
     ]
    },
    {
     "name": "stderr",
     "output_type": "stream",
     "text": [
      "Processing questions:  84%|████████▎ | 306/366 [04:29<00:52,  1.14it/s]"
     ]
    },
    {
     "name": "stdout",
     "output_type": "stream",
     "text": [
      "Generated answer: 3\n",
      "Explanation: The location identification function\n",
      "Answer ID: 3\n"
     ]
    },
    {
     "name": "stderr",
     "output_type": "stream",
     "text": [
      "Processing questions:  84%|████████▍ | 307/366 [04:30<00:51,  1.14it/s]"
     ]
    },
    {
     "name": "stdout",
     "output_type": "stream",
     "text": [
      "Generated answer: 3\n",
      "Explanation: The document states that\n",
      "Answer ID: 3\n"
     ]
    },
    {
     "name": "stderr",
     "output_type": "stream",
     "text": [
      "Processing questions:  84%|████████▍ | 308/366 [04:31<00:50,  1.14it/s]"
     ]
    },
    {
     "name": "stdout",
     "output_type": "stream",
     "text": [
      "Generated answer: 5\n",
      "Explanation: The requirements include support\n",
      "Answer ID: 5\n"
     ]
    },
    {
     "name": "stderr",
     "output_type": "stream",
     "text": [
      "Processing questions:  84%|████████▍ | 309/366 [04:32<00:52,  1.10it/s]"
     ]
    },
    {
     "name": "stdout",
     "output_type": "stream",
     "text": [
      "Generated answer: 3\n",
      "Explanation: The requirements specified in\n",
      "Answer ID: 3\n"
     ]
    },
    {
     "name": "stderr",
     "output_type": "stream",
     "text": [
      "Processing questions:  85%|████████▍ | 310/366 [04:33<00:50,  1.11it/s]"
     ]
    },
    {
     "name": "stdout",
     "output_type": "stream",
     "text": [
      "Generated answer: 1\n",
      "Explanation: The location information for\n",
      "Answer ID: 1\n"
     ]
    },
    {
     "name": "stderr",
     "output_type": "stream",
     "text": [
      "Processing questions:  85%|████████▍ | 311/366 [04:34<00:50,  1.09it/s]"
     ]
    },
    {
     "name": "stdout",
     "output_type": "stream",
     "text": [
      "Generated answer: 1\n",
      "Explanation: Information included with the\n",
      "Answer ID: 1\n"
     ]
    },
    {
     "name": "stderr",
     "output_type": "stream",
     "text": [
      "Processing questions:  85%|████████▌ | 312/366 [04:35<00:48,  1.12it/s]"
     ]
    },
    {
     "name": "stdout",
     "output_type": "stream",
     "text": [
      "Generated answer: 3\n",
      "Explanation: Victim and aggressive g\n",
      "Answer ID: 3\n"
     ]
    },
    {
     "name": "stderr",
     "output_type": "stream",
     "text": [
      "Processing questions:  86%|████████▌ | 313/366 [04:35<00:47,  1.12it/s]"
     ]
    },
    {
     "name": "stdout",
     "output_type": "stream",
     "text": [
      "Generated answer: 4\n",
      "Explanation: If NG cannot satisfy\n",
      "Answer ID: 4\n"
     ]
    },
    {
     "name": "stderr",
     "output_type": "stream",
     "text": [
      "Processing questions:  86%|████████▌ | 314/366 [04:36<00:46,  1.13it/s]"
     ]
    },
    {
     "name": "stdout",
     "output_type": "stream",
     "text": [
      "Generated answer: 5\n",
      "Explanation: Emergency call support shall\n",
      "Answer ID: 5\n"
     ]
    },
    {
     "name": "stderr",
     "output_type": "stream",
     "text": [
      "Processing questions:  86%|████████▌ | 315/366 [04:37<00:45,  1.13it/s]"
     ]
    },
    {
     "name": "stdout",
     "output_type": "stream",
     "text": [
      "Generated answer: 2\n",
      "Explanation: The term ITU\n",
      "Answer ID: 2\n"
     ]
    },
    {
     "name": "stderr",
     "output_type": "stream",
     "text": [
      "Processing questions:  86%|████████▋ | 316/366 [04:38<00:43,  1.14it/s]"
     ]
    },
    {
     "name": "stdout",
     "output_type": "stream",
     "text": [
      "Generated answer: 4\n",
      "Explanation: The low loss or\n",
      "Answer ID: 4\n"
     ]
    },
    {
     "name": "stderr",
     "output_type": "stream",
     "text": [
      "Processing questions:  87%|████████▋ | 317/366 [04:39<00:43,  1.12it/s]"
     ]
    },
    {
     "name": "stdout",
     "output_type": "stream",
     "text": [
      "Generated answer: 2\n",
      "Explanation: When the multi-\n",
      "Answer ID: 2\n"
     ]
    },
    {
     "name": "stderr",
     "output_type": "stream",
     "text": [
      "Processing questions:  87%|████████▋ | 318/366 [04:40<00:43,  1.10it/s]"
     ]
    },
    {
     "name": "stdout",
     "output_type": "stream",
     "text": [
      "Generated answer: 1\n",
      "Explanation: A mobile Station in\n",
      "Answer ID: 1\n"
     ]
    },
    {
     "name": "stderr",
     "output_type": "stream",
     "text": [
      "Processing questions:  87%|████████▋ | 319/366 [04:41<00:41,  1.12it/s]"
     ]
    },
    {
     "name": "stdout",
     "output_type": "stream",
     "text": [
      "Generated answer: 1\n",
      "Explanation: The relaxation of RR\n",
      "Answer ID: 1\n"
     ]
    },
    {
     "name": "stderr",
     "output_type": "stream",
     "text": [
      "Processing questions:  87%|████████▋ | 320/366 [04:42<00:41,  1.11it/s]"
     ]
    },
    {
     "name": "stdout",
     "output_type": "stream",
     "text": [
      "Generated answer: 3\n",
      "Explanation: Uxb is used\n",
      "Answer ID: 3\n"
     ]
    },
    {
     "name": "stderr",
     "output_type": "stream",
     "text": [
      "Processing questions:  88%|████████▊ | 321/366 [04:43<00:41,  1.09it/s]"
     ]
    },
    {
     "name": "stdout",
     "output_type": "stream",
     "text": [
      "Generated answer: 3\n",
      "Explanation: The document states that\n",
      "Answer ID: 3\n"
     ]
    },
    {
     "name": "stderr",
     "output_type": "stream",
     "text": [
      "Processing questions:  88%|████████▊ | 322/366 [04:44<00:41,  1.07it/s]"
     ]
    },
    {
     "name": "stdout",
     "output_type": "stream",
     "text": [
      "Generated answer: 5\n",
      "Explanation: The UDI-\n",
      "Answer ID: 5\n"
     ]
    },
    {
     "name": "stderr",
     "output_type": "stream",
     "text": [
      "Processing questions:  88%|████████▊ | 323/366 [04:44<00:39,  1.10it/s]"
     ]
    },
    {
     "name": "stdout",
     "output_type": "stream",
     "text": [
      "Generated answer: 1\n",
      "Explanation: The maximum allowed end\n",
      "Answer ID: 1\n"
     ]
    },
    {
     "name": "stderr",
     "output_type": "stream",
     "text": [
      "Processing questions:  89%|████████▊ | 324/366 [04:45<00:37,  1.11it/s]"
     ]
    },
    {
     "name": "stdout",
     "output_type": "stream",
     "text": [
      "Generated answer: 3\n",
      "Explanation: The first study and\n",
      "Answer ID: 3\n"
     ]
    },
    {
     "name": "stderr",
     "output_type": "stream",
     "text": [
      "Processing questions:  89%|████████▉ | 325/366 [04:46<00:37,  1.10it/s]"
     ]
    },
    {
     "name": "stdout",
     "output_type": "stream",
     "text": [
      "Generated answer: 5\n",
      "Explanation: It shall also possible\n",
      "Answer ID: 5\n"
     ]
    },
    {
     "name": "stderr",
     "output_type": "stream",
     "text": [
      "Processing questions:  89%|████████▉ | 326/366 [04:47<00:35,  1.13it/s]"
     ]
    },
    {
     "name": "stdout",
     "output_type": "stream",
     "text": [
      "Generated answer: 1\n",
      "Explanation: An authentication services producer\n",
      "Answer ID: 1\n"
     ]
    },
    {
     "name": "stderr",
     "output_type": "stream",
     "text": [
      "Processing questions:  89%|████████▉ | 327/366 [04:48<00:34,  1.12it/s]"
     ]
    },
    {
     "name": "stdout",
     "output_type": "stream",
     "text": [
      "Generated answer: 1\n",
      "Explanation: A network is identified\n",
      "Answer ID: 1\n"
     ]
    },
    {
     "name": "stderr",
     "output_type": "stream",
     "text": [
      "Processing questions:  90%|████████▉ | 328/366 [04:49<00:34,  1.10it/s]"
     ]
    },
    {
     "name": "stdout",
     "output_type": "stream",
     "text": [
      "Generated answer: 5\n",
      "Explanation: The purpose is to\n",
      "Answer ID: 5\n"
     ]
    },
    {
     "name": "stderr",
     "output_type": "stream",
     "text": [
      "Processing questions:  90%|████████▉ | 329/366 [04:50<00:34,  1.07it/s]"
     ]
    },
    {
     "name": "stdout",
     "output_type": "stream",
     "text": [
      "Generated answer: 5\n",
      "Explanation: PRs resources with\n",
      "Answer ID: 5\n"
     ]
    },
    {
     "name": "stderr",
     "output_type": "stream",
     "text": [
      "Processing questions:  90%|█████████ | 330/366 [04:51<00:33,  1.08it/s]"
     ]
    },
    {
     "name": "stdout",
     "output_type": "stream",
     "text": [
      "Generated answer: 3\n",
      "Explanation: The purpose is to\n",
      "Answer ID: 3\n"
     ]
    },
    {
     "name": "stderr",
     "output_type": "stream",
     "text": [
      "Processing questions:  90%|█████████ | 331/366 [04:52<00:32,  1.08it/s]"
     ]
    },
    {
     "name": "stdout",
     "output_type": "stream",
     "text": [
      "Generated answer: 3\n",
      "Explanation: The identity used temporarily\n",
      "Answer ID: 3\n"
     ]
    },
    {
     "name": "stderr",
     "output_type": "stream",
     "text": [
      "Processing questions:  91%|█████████ | 332/366 [04:53<00:30,  1.10it/s]"
     ]
    },
    {
     "name": "stdout",
     "output_type": "stream",
     "text": [
      "Generated answer: 4\n",
      "Explanation: NAS stands for Non\n",
      "Answer ID: 4\n"
     ]
    },
    {
     "name": "stderr",
     "output_type": "stream",
     "text": [
      "Processing questions:  91%|█████████ | 333/366 [04:53<00:28,  1.15it/s]"
     ]
    },
    {
     "name": "stdout",
     "output_type": "stream",
     "text": [
      "Generated answer: 5\n",
      "Explanation: GLRE stands for\n",
      "Answer ID: 5\n"
     ]
    },
    {
     "name": "stderr",
     "output_type": "stream",
     "text": [
      "Processing questions:  91%|█████████▏| 334/366 [04:54<00:27,  1.16it/s]"
     ]
    },
    {
     "name": "stdout",
     "output_type": "stream",
     "text": [
      "Generated answer: 1\n",
      "Explanation: The HPRMN\n",
      "Answer ID: 1\n"
     ]
    },
    {
     "name": "stderr",
     "output_type": "stream",
     "text": [
      "Processing questions:  92%|█████████▏| 335/366 [04:55<00:26,  1.17it/s]"
     ]
    },
    {
     "name": "stdout",
     "output_type": "stream",
     "text": [
      "Generated answer: 2\n",
      "Explanation: The scrambling initiation of\n",
      "Answer ID: 2\n"
     ]
    },
    {
     "name": "stderr",
     "output_type": "stream",
     "text": [
      "Processing questions:  92%|█████████▏| 336/366 [04:56<00:25,  1.16it/s]"
     ]
    },
    {
     "name": "stdout",
     "output_type": "stream",
     "text": [
      "Generated answer: 2\n",
      "Explanation: LTE was defined in\n",
      "Answer ID: 2\n"
     ]
    },
    {
     "name": "stderr",
     "output_type": "stream",
     "text": [
      "Processing questions:  92%|█████████▏| 337/366 [04:57<00:25,  1.16it/s]"
     ]
    },
    {
     "name": "stdout",
     "output_type": "stream",
     "text": [
      "Generated answer: 5\n",
      "Explanation: In the given context\n",
      "Answer ID: 5\n"
     ]
    },
    {
     "name": "stderr",
     "output_type": "stream",
     "text": [
      "Processing questions:  92%|█████████▏| 338/366 [04:58<00:24,  1.15it/s]"
     ]
    },
    {
     "name": "stdout",
     "output_type": "stream",
     "text": [
      "Generated answer: 1\n",
      "Explanation: If the named network\n",
      "Answer ID: 1\n"
     ]
    },
    {
     "name": "stderr",
     "output_type": "stream",
     "text": [
      "Processing questions:  93%|█████████▎| 339/366 [04:59<00:23,  1.15it/s]"
     ]
    },
    {
     "name": "stdout",
     "output_type": "stream",
     "text": [
      "Generated answer: 1 and Option 2\n",
      "Explanation: The\n",
      "Answer ID: 2\n"
     ]
    },
    {
     "name": "stderr",
     "output_type": "stream",
     "text": [
      "Processing questions:  93%|█████████▎| 340/366 [05:00<00:23,  1.12it/s]"
     ]
    },
    {
     "name": "stdout",
     "output_type": "stream",
     "text": [
      "Generated answer: 4\n",
      "Explanation: The parameters for sidel\n",
      "Answer ID: 4\n"
     ]
    },
    {
     "name": "stderr",
     "output_type": "stream",
     "text": [
      "Processing questions:  93%|█████████▎| 341/366 [05:00<00:22,  1.13it/s]"
     ]
    },
    {
     "name": "stdout",
     "output_type": "stream",
     "text": [
      "Generated answer: 5\n",
      "Explanation: The MUSICOM\n",
      "Answer ID: 5\n"
     ]
    },
    {
     "name": "stderr",
     "output_type": "stream",
     "text": [
      "Processing questions:  93%|█████████▎| 342/366 [05:01<00:21,  1.14it/s]"
     ]
    },
    {
     "name": "stdout",
     "output_type": "stream",
     "text": [
      "Generated answer: 3\n",
      "Explanation: The remote user can\n",
      "Answer ID: 3\n"
     ]
    },
    {
     "name": "stderr",
     "output_type": "stream",
     "text": [
      "Processing questions:  94%|█████████▎| 343/366 [05:02<00:20,  1.14it/s]"
     ]
    },
    {
     "name": "stdout",
     "output_type": "stream",
     "text": [
      "Generated answer: 1\n",
      "Explanation: Management based activation provides\n",
      "Answer ID: 1\n"
     ]
    },
    {
     "name": "stderr",
     "output_type": "stream",
     "text": [
      "Processing questions:  94%|█████████▍| 344/366 [05:03<00:18,  1.16it/s]"
     ]
    },
    {
     "name": "stdout",
     "output_type": "stream",
     "text": [
      "Generated answer: 2\n",
      "Explanation: Multiple Ethernet Devices can\n",
      "Answer ID: 2\n"
     ]
    },
    {
     "name": "stderr",
     "output_type": "stream",
     "text": [
      "Processing questions:  94%|█████████▍| 345/366 [05:04<00:18,  1.16it/s]"
     ]
    },
    {
     "name": "stdout",
     "output_type": "stream",
     "text": [
      "Generated answer: 3\n",
      "Explanation: The 5GB system\n",
      "Answer ID: 3\n"
     ]
    },
    {
     "name": "stderr",
     "output_type": "stream",
     "text": [
      "Processing questions:  95%|█████████▍| 346/366 [05:05<00:17,  1.15it/s]"
     ]
    },
    {
     "name": "stdout",
     "output_type": "stream",
     "text": [
      "Generated answer: 1\n",
      "Explanation: The four well known\n",
      "Answer ID: 1\n"
     ]
    },
    {
     "name": "stderr",
     "output_type": "stream",
     "text": [
      "Processing questions:  95%|█████████▍| 347/366 [05:06<00:16,  1.14it/s]"
     ]
    },
    {
     "name": "stdout",
     "output_type": "stream",
     "text": [
      "Generated answer: 5\n",
      "Explanation: The AMAF signals\n",
      "Answer ID: 5\n"
     ]
    },
    {
     "name": "stderr",
     "output_type": "stream",
     "text": [
      "Processing questions:  95%|█████████▌| 348/366 [05:06<00:15,  1.14it/s]"
     ]
    },
    {
     "name": "stdout",
     "output_type": "stream",
     "text": [
      "Generated answer: 1\n",
      "Explanation: A DCIs format\n",
      "Answer ID: 1\n"
     ]
    },
    {
     "name": "stderr",
     "output_type": "stream",
     "text": [
      "Processing questions:  95%|█████████▌| 349/366 [05:07<00:15,  1.12it/s]"
     ]
    },
    {
     "name": "stdout",
     "output_type": "stream",
     "text": [
      "Generated answer: 3\n",
      "Explanation: The transformation between a\n",
      "Answer ID: 3\n"
     ]
    },
    {
     "name": "stderr",
     "output_type": "stream",
     "text": [
      "Processing questions:  96%|█████████▌| 350/366 [05:08<00:14,  1.14it/s]"
     ]
    },
    {
     "name": "stdout",
     "output_type": "stream",
     "text": [
      "Generated answer: 4\n",
      "Explanation: The scenario characterized with\n",
      "Answer ID: 4\n"
     ]
    },
    {
     "name": "stderr",
     "output_type": "stream",
     "text": [
      "Processing questions:  96%|█████████▌| 351/366 [05:09<00:13,  1.10it/s]"
     ]
    },
    {
     "name": "stdout",
     "output_type": "stream",
     "text": [
      "Generated answer: 3\n",
      "Explanation: precording matrix for\n",
      "Answer ID: 3\n"
     ]
    },
    {
     "name": "stderr",
     "output_type": "stream",
     "text": [
      "Processing questions:  96%|█████████▌| 352/366 [05:10<00:12,  1.14it/s]"
     ]
    },
    {
     "name": "stdout",
     "output_type": "stream",
     "text": [
      "Generated answer: 2\n",
      "Explanation: The output of N\n",
      "Answer ID: 2\n"
     ]
    },
    {
     "name": "stderr",
     "output_type": "stream",
     "text": [
      "Processing questions:  96%|█████████▋| 353/366 [05:11<00:11,  1.14it/s]"
     ]
    },
    {
     "name": "stdout",
     "output_type": "stream",
     "text": [
      "Generated answer: 1\n",
      "Explanation: The Nadf_\n",
      "Answer ID: 1\n"
     ]
    },
    {
     "name": "stderr",
     "output_type": "stream",
     "text": [
      "Processing questions:  97%|█████████▋| 354/366 [05:12<00:10,  1.14it/s]"
     ]
    },
    {
     "name": "stdout",
     "output_type": "stream",
     "text": [
      "Generated answer: 3\n",
      "Explanation: Fleet/Asset Management\n",
      "Answer ID: 3\n"
     ]
    },
    {
     "name": "stderr",
     "output_type": "stream",
     "text": [
      "Processing questions:  97%|█████████▋| 355/366 [05:13<00:09,  1.12it/s]"
     ]
    },
    {
     "name": "stdout",
     "output_type": "stream",
     "text": [
      "Generated answer: 2\n",
      "Explanation: The number (n\n",
      "Answer ID: 2\n"
     ]
    },
    {
     "name": "stderr",
     "output_type": "stream",
     "text": [
      "Processing questions:  97%|█████████▋| 356/366 [05:14<00:08,  1.13it/s]"
     ]
    },
    {
     "name": "stdout",
     "output_type": "stream",
     "text": [
      "Generated answer: 2\n",
      "Explanation: MSA is used\n",
      "Answer ID: 2\n"
     ]
    },
    {
     "name": "stderr",
     "output_type": "stream",
     "text": [
      "Processing questions:  98%|█████████▊| 357/366 [05:14<00:07,  1.13it/s]"
     ]
    },
    {
     "name": "stdout",
     "output_type": "stream",
     "text": [
      "Generated answer: 2\n",
      "Explanation: The document states that\n",
      "Answer ID: 2\n"
     ]
    },
    {
     "name": "stderr",
     "output_type": "stream",
     "text": [
      "Processing questions:  98%|█████████▊| 358/366 [05:15<00:07,  1.10it/s]"
     ]
    },
    {
     "name": "stdout",
     "output_type": "stream",
     "text": [
      "Generated answer: 4\n",
      "Output: Management data shall be produced,\n",
      "Answer ID: 4\n"
     ]
    },
    {
     "name": "stderr",
     "output_type": "stream",
     "text": [
      "Processing questions:  98%|█████████▊| 359/366 [05:16<00:06,  1.09it/s]"
     ]
    },
    {
     "name": "stdout",
     "output_type": "stream",
     "text": [
      "Generated answer: 1\n",
      "Explanation: A supporting UEs\n",
      "Answer ID: 1\n"
     ]
    },
    {
     "name": "stderr",
     "output_type": "stream",
     "text": [
      "Processing questions:  98%|█████████▊| 360/366 [05:17<00:05,  1.08it/s]"
     ]
    },
    {
     "name": "stdout",
     "output_type": "stream",
     "text": [
      "Generated answer: 4\n",
      "Explanation: The total energy consumption\n",
      "Answer ID: 4\n"
     ]
    },
    {
     "name": "stderr",
     "output_type": "stream",
     "text": [
      "Processing questions:  99%|█████████▊| 361/366 [05:18<00:04,  1.10it/s]"
     ]
    },
    {
     "name": "stdout",
     "output_type": "stream",
     "text": [
      "Generated answer: 5\n",
      "Explanation: The criteria that may\n",
      "Answer ID: 5\n"
     ]
    },
    {
     "name": "stderr",
     "output_type": "stream",
     "text": [
      "Processing questions:  99%|█████████▉| 362/366 [05:19<00:03,  1.12it/s]"
     ]
    },
    {
     "name": "stdout",
     "output_type": "stream",
     "text": [
      "Generated answer: 3\n",
      "Explanation: Analytics Model accuracy monitoring\n",
      "Answer ID: 3\n"
     ]
    },
    {
     "name": "stderr",
     "output_type": "stream",
     "text": [
      "Processing questions:  99%|█████████▉| 363/366 [05:20<00:02,  1.14it/s]"
     ]
    },
    {
     "name": "stdout",
     "output_type": "stream",
     "text": [
      "Generated answer: 2\n",
      "Explanation: The security mechanism for\n",
      "Answer ID: 2\n"
     ]
    },
    {
     "name": "stderr",
     "output_type": "stream",
     "text": [
      "Processing questions:  99%|█████████▉| 364/366 [05:21<00:01,  1.11it/s]"
     ]
    },
    {
     "name": "stdout",
     "output_type": "stream",
     "text": [
      "Generated answer: 1\n",
      "Explanation: The Online charging system\n",
      "Answer ID: 1\n"
     ]
    },
    {
     "name": "stderr",
     "output_type": "stream",
     "text": [
      "Processing questions: 100%|█████████▉| 365/366 [05:22<00:00,  1.10it/s]"
     ]
    },
    {
     "name": "stdout",
     "output_type": "stream",
     "text": [
      "Generated answer: 1\n",
      "Explanation: The SDTF procedure\n",
      "Answer ID: 1\n"
     ]
    },
    {
     "name": "stderr",
     "output_type": "stream",
     "text": [
      "Processing questions: 100%|██████████| 366/366 [05:23<00:00,  1.13it/s]"
     ]
    },
    {
     "name": "stdout",
     "output_type": "stream",
     "text": [
      "Generated answer: 3\n",
      "Explanation: The physical layer cell\n",
      "Answer ID: 3\n",
      "Processing complete. Responses saved to 'output_results.csv'.\n"
     ]
    },
    {
     "name": "stderr",
     "output_type": "stream",
     "text": [
      "\n"
     ]
    }
   ],
   "source": [
    "import csv\n",
    "from tqdm import tqdm\n",
    "\n",
    "responses = []\n",
    "\n",
    "# Loop through each question and get the response\n",
    "for q_id, q_data in tqdm(questions.items(), desc=\"Processing questions\"):\n",
    "    q_id_number = q_id.split()[1]\n",
    "    question_text = q_data[\"question\"]\n",
    "    question_text = re.sub(r'\\s*\\[.*?\\]\\s*$', '', question_text)\n",
    "    # options = [v for k, v in q_data.items() if k.startswith(\"option\")]\n",
    "    options = [(k, v) for k, v in q_data.items() if k.startswith(\"option\")]\n",
    "\n",
    "    # Retrieve context using BM25\n",
    "    results = bm25_retriever.retrieve(question_text)\n",
    "    context = \" \".join([node.text for node in results])\n",
    "\n",
    "    abbreviations = find_appearing_abbreviations(q_data)\n",
    "    # Generate the answer using the loaded model\n",
    "    response = generate_answer(question_text, options, context, abbreviations, model, tokenizer)\n",
    "\n",
    "    answer = parse_answer(response)\n",
    "\n",
    "    # Extract the answer ID from the response\n",
    "    match = re.search(r'Option (\\d+)', answer)\n",
    "    if match:\n",
    "        try:\n",
    "            answer_id = int(match.group(1))\n",
    "            print(f\"Answer ID: {answer_id}\")\n",
    "            responses.append([q_id_number, answer_id, \"Phi-2\"])\n",
    "        except (KeyError, IndexError, ValueError) as e:\n",
    "            responses.append([q_id_number, \"Error\", \"Phi-2\"])\n",
    "            print(f\"Error processing question {q_id}: {answer}\")\n",
    "    else:\n",
    "        responses.append([q_id_number, \"Error\", \"Phi-2\"])\n",
    "        print(f\"Error processing question {q_id_number}: {answer}\")\n",
    "\n",
    "# Save responses to a CSV file\n",
    "with open('output_results.csv', 'w', newline='') as csvfile:\n",
    "    csvwriter = csv.writer(csvfile)\n",
    "    csvwriter.writerow([\"Question_ID\", \"Answer_ID\", \"Task\"])\n",
    "    csvwriter.writerows(responses)\n",
    "\n",
    "print(\"Processing complete. Responses saved to 'output_results.csv'.\")\n"
   ]
  },
  {
   "cell_type": "code",
   "execution_count": 164,
   "metadata": {},
   "outputs": [
    {
     "name": "stdout",
     "output_type": "stream",
     "text": [
      "Total Questions: 366\n",
      "Correct Answers: 246\n",
      "Score: 67.21%\n"
     ]
    }
   ],
   "source": [
    "# Load the questions dataset from the JSON file\n",
    "with open('data/366qs.txt', 'r') as rubric:\n",
    "    qs_w_ans = json.load(rubric)\n",
    "\n",
    "# Load the responses from the CSV file\n",
    "responses = []\n",
    "with open('output_results.csv', 'r') as answers:\n",
    "    reader = csv.DictReader(answers)\n",
    "    for row in reader:\n",
    "        responses.append(row)\n",
    "\n",
    "# Initialize score\n",
    "correct_answers = 0\n",
    "total_questions = len(responses)\n",
    "\n",
    "# track question_ids for failed questions\n",
    "failed_questions = []\n",
    "# Compare the responses with the correct answers\n",
    "for response in responses[:367]:\n",
    "    question_id = response['Question_ID']\n",
    "    answer_id = response['Answer_ID']\n",
    "    task = response['Task']\n",
    "    \n",
    "    # Find the corresponding question in the JSON data\n",
    "    question_key = f\"question {question_id}\"\n",
    "    if question_key in qs_w_ans:\n",
    "        correct_answer = qs_w_ans[question_key]['answer']\n",
    "        # Extract the correct option number from the correct answer string\n",
    "        correct_option_number = correct_answer.split()[1].replace(\":\", \"\")\n",
    "        \n",
    "        # Check if the given answer matches the correct answer\n",
    "        if answer_id == correct_option_number:\n",
    "            correct_answers += 1\n",
    "        else:\n",
    "            # append questionid and answerid to failed questions\n",
    "            failed_questions.append((question_id, answer_id))\n",
    "\n",
    "# Calculate the score\n",
    "score = (correct_answers / total_questions) * 100\n",
    "\n",
    "# Print the results\n",
    "print(f\"Total Questions: {total_questions}\")\n",
    "print(f\"Correct Answers: {correct_answers}\")\n",
    "print(f\"Score: {score:.2f}%\")\n",
    "# write failed questions to a file\n",
    "with open('failed_questions.txt', 'w') as file:\n",
    "    for question_id, answer_id in failed_questions:\n",
    "        file.write(f\"{question_id} {answer_id}\\n\")"
   ]
  },
  {
   "cell_type": "code",
   "execution_count": null,
   "metadata": {},
   "outputs": [],
   "source": [
    "def append_dummy_data(csv_filename):\n",
    "    dummy_task = \"Phi-2\"\n",
    "    dummy_entries = [(dummy_id, 0, dummy_task) for dummy_id in range(10000, 12000)]\n",
    "\n",
    "    try:\n",
    "        # Open the existing CSV file and append dummy data\n",
    "        with open(csv_filename, \"a\", newline='') as csvfile:\n",
    "            csv_writer = csv.writer(csvfile)\n",
    "            for entry in dummy_entries:\n",
    "                csv_writer.writerow(entry)\n",
    "        print(\"Dummy data has been appended to the CSV file.\")\n",
    "    except Exception as e:\n",
    "        print(\"Encountered an error while appending dummy data.\")\n",
    "        print(e)\n",
    "\n",
    "# Assuming 'output_results.csv' is the CSV file to which we need to append dummy data\n",
    "csv_filename = \"output_results.csv\"\n",
    "append_dummy_data(csv_filename)"
   ]
  },
  {
   "cell_type": "code",
   "execution_count": null,
   "metadata": {},
   "outputs": [],
   "source": []
  }
 ],
 "metadata": {
  "kernelspec": {
   "display_name": "itu_qna",
   "language": "python",
   "name": "python3"
  },
  "language_info": {
   "codemirror_mode": {
    "name": "ipython",
    "version": 3
   },
   "file_extension": ".py",
   "mimetype": "text/x-python",
   "name": "python",
   "nbconvert_exporter": "python",
   "pygments_lexer": "ipython3",
   "version": "3.10.13"
  }
 },
 "nbformat": 4,
 "nbformat_minor": 2
}
